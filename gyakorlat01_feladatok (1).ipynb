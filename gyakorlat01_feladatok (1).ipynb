{
    "metadata": {
        "kernelspec": {
            "name": "SQL",
            "display_name": "SQL",
            "language": "sql"
        },
        "language_info": {
            "name": "sql",
            "version": ""
        },
        "extensions": {
            "azuredatastudio": {
                "version": 1,
                "views": []
            }
        }
    },
    "nbformat_minor": 2,
    "nbformat": 4,
    "cells": [
        {
            "cell_type": "markdown",
            "source": [
                "1. Listázzuk a <span style=\"color: #800000;\">`kolcsonzes`</span> tábla következő oszlopait: ID, ki\\_datum, vissza\\_datum! \n",
                "\n",
                "  \n",
                "\n",
                "a.  Az ID oszlop neve legyen Azonosító\n",
                "\n",
                "b.  A ki\\_datum oszlop neve legyen Kölcsönzés\\_dátuma\n",
                "\n",
                "c.  A vissza\\_datum oszlop neve legyen Visszahozatal\\_dátuma"
            ],
            "metadata": {
                "azdata_cell_guid": "77f2d5b3-38e9-41cc-893f-f5afd02b97ef"
            },
            "attachments": {}
        },
        {
            "cell_type": "code",
            "source": [
                "SELECT ID AS 'Azonosító', --oszloplista\r\n",
                "        cim AS 'Cím',\r\n",
                "        nettoar AS 'Ár'\r\n",
                "FROM dvd --melyik táblából"
            ],
            "metadata": {
                "azdata_cell_guid": "bd3cef1a-4e6e-4ece-9dc3-aaa9d2b5d66d",
                "language": "sql"
            },
            "outputs": [
                {
                    "output_type": "display_data",
                    "data": {
                        "text/html": "(318 rows affected)"
                    },
                    "metadata": {}
                },
                {
                    "output_type": "display_data",
                    "data": {
                        "text/html": "Total execution time: 00:00:00.005"
                    },
                    "metadata": {}
                },
                {
                    "output_type": "execute_result",
                    "execution_count": 1,
                    "data": {
                        "application/vnd.dataresource+json": {
                            "schema": {
                                "fields": [
                                    {
                                        "name": "Azonosító"
                                    },
                                    {
                                        "name": "Cím"
                                    },
                                    {
                                        "name": "Ár"
                                    }
                                ]
                            },
                            "data": [
                                {
                                    "Azonosító": "1",
                                    "Cím": "NULL",
                                    "Ár": "3859"
                                },
                                {
                                    "Azonosító": "2",
                                    "Cím": "A II. világháború története (1999)",
                                    "Ár": "4244"
                                },
                                {
                                    "Azonosító": "3",
                                    "Cím": "3D Dinosaur - adventure",
                                    "Ár": "5041"
                                },
                                {
                                    "Azonosító": "4",
                                    "Cím": "3D virtuális origami (2000)",
                                    "Ár": "5355"
                                },
                                {
                                    "Azonosító": "5",
                                    "Cím": "Az 1848-1849-iki szabadságharc története (2002)",
                                    "Ár": "5700"
                                },
                                {
                                    "Azonosító": "6",
                                    "Cím": "Ablak zsiráf (1999)",
                                    "Ár": "3540"
                                },
                                {
                                    "Azonosító": "7",
                                    "Cím": "Ady Endre összes művei (1999)",
                                    "Ár": "4241"
                                },
                                {
                                    "Azonosító": "8",
                                    "Cím": "Afrika",
                                    "Ár": "5318"
                                },
                                {
                                    "Azonosító": "9",
                                    "Cím": "Age of Empires (2000)",
                                    "Ár": "4482"
                                },
                                {
                                    "Azonosító": "10",
                                    "Cím": "Airport Inc.",
                                    "Ár": "4311"
                                },
                                {
                                    "Azonosító": "11",
                                    "Cím": "American Rodeo : BullRider 2000 (2001)",
                                    "Ár": "5591"
                                },
                                {
                                    "Azonosító": "12",
                                    "Cím": "Angol : 8-10 éveseknek (2002)",
                                    "Ár": "4853"
                                },
                                {
                                    "Azonosító": "13",
                                    "Cím": "Angol és német nyelvtani gyakorlatok (2002)",
                                    "Ár": "4906"
                                },
                                {
                                    "Azonosító": "14",
                                    "Cím": "Angol szótanító CD-ROM",
                                    "Ár": "4449"
                                },
                                {
                                    "Azonosító": "15",
                                    "Cím": "Angol szótanító CD-ROM",
                                    "Ár": "4444"
                                },
                                {
                                    "Azonosító": "16",
                                    "Cím": "Angol szótár (1996)",
                                    "Ár": "3509"
                                },
                                {
                                    "Azonosító": "17",
                                    "Cím": "Angol-magyar, Magyar-angol hangosszótár",
                                    "Ár": "5151"
                                },
                                {
                                    "Azonosító": "18",
                                    "Cím": "Angol-magyar nagyszótár (Halász Előd)",
                                    "Ár": "5638"
                                },
                                {
                                    "Azonosító": "19",
                                    "Cím": "Az áramvonalas fakanál",
                                    "Ár": "5706"
                                },
                                {
                                    "Azonosító": "20",
                                    "Cím": "Arany János: A bajusz (2002)",
                                    "Ár": "3391"
                                },
                                {
                                    "Azonosító": "21",
                                    "Cím": "Az Árpád-ház története",
                                    "Ár": "5022"
                                },
                                {
                                    "Azonosító": "22",
                                    "Cím": "Art Attack (1998)",
                                    "Ár": "3914"
                                },
                                {
                                    "Azonosító": "23",
                                    "Cím": "Art puzzle (1998)",
                                    "Ár": "5786"
                                },
                                {
                                    "Azonosító": "24",
                                    "Cím": "Az ásványok világa",
                                    "Ár": "5624"
                                },
                                {
                                    "Azonosító": "25",
                                    "Cím": "Ausztrália",
                                    "Ár": "5326"
                                },
                                {
                                    "Azonosító": "26",
                                    "Cím": "Auto 2000 - Kerékvilág",
                                    "Ár": "4463"
                                },
                                {
                                    "Azonosító": "27",
                                    "Cím": "Ázsia (2000)",
                                    "Ár": "3123"
                                },
                                {
                                    "Azonosító": "28",
                                    "Cím": "Biblia (1995)",
                                    "Ár": "4440"
                                },
                                {
                                    "Azonosító": "29",
                                    "Cím": "Biológia '97",
                                    "Ár": "5543"
                                },
                                {
                                    "Azonosító": "30",
                                    "Cím": "Biológia (2000)",
                                    "Ár": "3819"
                                },
                                {
                                    "Azonosító": "31",
                                    "Cím": "Biológia (2001)",
                                    "Ár": "3792"
                                },
                                {
                                    "Azonosító": "32",
                                    "Cím": "Biológia : 12-14 éveseknek (2003)",
                                    "Ár": "3482"
                                },
                                {
                                    "Azonosító": "33",
                                    "Cím": "Blinky Bill : A fantasztikus léggömbkaland",
                                    "Ár": "4076"
                                },
                                {
                                    "Azonosító": "34",
                                    "Cím": "Broken Sword II. (cop. 1997)",
                                    "Ár": "4502"
                                },
                                {
                                    "Azonosító": "35",
                                    "Cím": "Budapest kalauz",
                                    "Ár": "4054"
                                },
                                {
                                    "Azonosító": "36",
                                    "Cím": "Budapest Museum",
                                    "Ár": "5292"
                                },
                                {
                                    "Azonosító": "37",
                                    "Cím": "Buggy",
                                    "Ár": "5830"
                                },
                                {
                                    "Azonosító": "38",
                                    "Cím": "Byte Magyarország (2002)",
                                    "Ár": "3277"
                                },
                                {
                                    "Azonosító": "39",
                                    "Cím": "Caesar III.",
                                    "Ár": "4136"
                                },
                                {
                                    "Azonosító": "40",
                                    "Cím": "Capitalism II. (2001)",
                                    "Ár": "6062"
                                },
                                {
                                    "Azonosító": "41",
                                    "Cím": "Capitalism Plus",
                                    "Ár": "5030"
                                },
                                {
                                    "Azonosító": "42",
                                    "Cím": "Castle Explorer",
                                    "Ár": "3707"
                                },
                                {
                                    "Azonosító": "43",
                                    "Cím": "CD Panoráma 1-4. (1998)",
                                    "Ár": "5422"
                                },
                                {
                                    "Azonosító": "44",
                                    "Cím": "Computer iskola (1998)",
                                    "Ár": "5260"
                                },
                                {
                                    "Azonosító": "45",
                                    "Cím": "Csizmás kandúr (1998)",
                                    "Ár": "5932"
                                },
                                {
                                    "Azonosító": "46",
                                    "Cím": "Csodálatos univerzum (1997)",
                                    "Ár": "4087"
                                },
                                {
                                    "Azonosító": "47",
                                    "Cím": "Dél-Amerika (1999)",
                                    "Ár": "3999"
                                },
                                {
                                    "Azonosító": "48",
                                    "Cím": "Dementia 1-5. (1997)",
                                    "Ár": "5919"
                                },
                                {
                                    "Azonosító": "49",
                                    "Cím": "Deutsch: Anfanger (kezdő) + Telepítő ",
                                    "Ár": "5633"
                                },
                                {
                                    "Azonosító": "50",
                                    "Cím": "Deutsch: Fortgeschrittene (haladó) + Installation",
                                    "Ár": "5784"
                                },
                                {
                                    "Azonosító": "51",
                                    "Cím": "Deutsch: Mittelstufe (középhaladó)+ Telepítő",
                                    "Ár": "4377"
                                },
                                {
                                    "Azonosító": "52",
                                    "Cím": "Diablo",
                                    "Ár": "5969"
                                },
                                {
                                    "Azonosító": "53",
                                    "Cím": "Diablo II. (2000)",
                                    "Ár": "4900"
                                },
                                {
                                    "Azonosító": "54",
                                    "Cím": "Dicső napok és hétköznapok 1848 - Digitális forrásgyűjtemény 1.",
                                    "Ár": "5611"
                                },
                                {
                                    "Azonosító": "55",
                                    "Cím": "Dreams to Reality 1-2. (1997)",
                                    "Ár": "4699"
                                },
                                {
                                    "Azonosító": "56",
                                    "Cím": "Duke Nukem 3D",
                                    "Ár": "5474"
                                },
                                {
                                    "Azonosító": "57",
                                    "Cím": "Dungeon Keeper 2. (1999)",
                                    "Ár": "3369"
                                },
                                {
                                    "Azonosító": "58",
                                    "Cím": "E-Games : Collector's Edition (2001)",
                                    "Ár": "5583"
                                },
                                {
                                    "Azonosító": "59",
                                    "Cím": "Éléstár (1998)",
                                    "Ár": "3258"
                                },
                                {
                                    "Azonosító": "60",
                                    "Cím": "Élet a polgárosodó Magyarországon (2001)",
                                    "Ár": "5572"
                                },
                                {
                                    "Azonosító": "61",
                                    "Cím": "Életképek 1848 (1998)",
                                    "Ár": "4211"
                                },
                                {
                                    "Azonosító": "62",
                                    "Cím": "Az ember tragédiája",
                                    "Ár": "4295"
                                },
                                {
                                    "Azonosító": "63",
                                    "Cím": "Encarta World Atlas '99 1-2. (1998)",
                                    "Ár": "5334"
                                },
                                {
                                    "Azonosító": "64",
                                    "Cím": "Enemy Engaged RAH-66",
                                    "Ár": "5217"
                                },
                                {
                                    "Azonosító": "65",
                                    "Cím": "English 1-2. + Telepítő",
                                    "Ár": "5215"
                                },
                                {
                                    "Azonosító": "67",
                                    "Cím": "English: Intermediate (haladó)",
                                    "Ár": "3627"
                                },
                                {
                                    "Azonosító": "68",
                                    "Cím": "English by Stealth  lásd: Lopva angolul",
                                    "Ár": "4478"
                                },
                                {
                                    "Azonosító": "69",
                                    "Cím": "Erdély (1996)",
                                    "Ár": "4999"
                                },
                                {
                                    "Azonosító": "70",
                                    "Cím": "Espanol: Intermedio + Telepítő",
                                    "Ár": "3914"
                                },
                                {
                                    "Azonosító": "71",
                                    "Cím": "Espanol: Principiante + Telepítő",
                                    "Ár": "5882"
                                },
                                {
                                    "Azonosító": "72",
                                    "Cím": "Észak-Amerika",
                                    "Ár": "3994"
                                },
                                {
                                    "Azonosító": "73",
                                    "Cím": "Európa",
                                    "Ár": "5270"
                                },
                                {
                                    "Azonosító": "74",
                                    "Cím": "The F.A. Premier League Stars 2001",
                                    "Ár": "3871"
                                },
                                {
                                    "Azonosító": "75",
                                    "Cím": "Felvételi példatár : Angol",
                                    "Ár": "3876"
                                },
                                {
                                    "Azonosító": "76",
                                    "Cím": "Felvételi példatár : Biológia, földrajz",
                                    "Ár": "3215"
                                },
                                {
                                    "Azonosító": "77",
                                    "Cím": "Felvételi példatár : Kémia, fizika",
                                    "Ár": "5851"
                                },
                                {
                                    "Azonosító": "78",
                                    "Cím": "Felvételi példatár : Magyar nyelv és irodalom",
                                    "Ár": "5955"
                                },
                                {
                                    "Azonosító": "79",
                                    "Cím": "Felvételi példatár : Matematika",
                                    "Ár": "5009"
                                },
                                {
                                    "Azonosító": "80",
                                    "Cím": "Felvételi példatár : Német",
                                    "Ár": "3102"
                                },
                                {
                                    "Azonosító": "81",
                                    "Cím": "FIFA, 2000 (1999)",
                                    "Ár": "5059"
                                },
                                {
                                    "Azonosító": "82",
                                    "Cím": "Fighting Force (1998)",
                                    "Ár": "4800"
                                },
                                {
                                    "Azonosító": "83",
                                    "Cím": "Final Liberation (1997)",
                                    "Ár": "4632"
                                },
                                {
                                    "Azonosító": "84",
                                    "Cím": "Fitness mesterfokon / Béres Alexandra (2001)",
                                    "Ár": "4607"
                                },
                                {
                                    "Azonosító": "85",
                                    "Cím": "Fizika : 12-14 éveseknek (2002)",
                                    "Ár": "3734"
                                },
                                {
                                    "Azonosító": "86",
                                    "Cím": "Fizika felkészítő az érettségi és felvételi vizsgára",
                                    "Ár": "4810"
                                },
                                {
                                    "Azonosító": "87",
                                    "Cím": "Fizika világa (2001)",
                                    "Ár": "5763"
                                },
                                {
                                    "Azonosító": "88",
                                    "Cím": "A Föld élővilága",
                                    "Ár": "5900"
                                },
                                {
                                    "Azonosító": "89",
                                    "Cím": "Földrajz: 10-14 éveseknek (2002)",
                                    "Ár": "3930"
                                },
                                {
                                    "Azonosító": "90",
                                    "Cím": "Földrajz: érettségi előkészítő (2002)",
                                    "Ár": "3173"
                                },
                                {
                                    "Azonosító": "91",
                                    "Cím": "Francais 1-2. + Telepítő",
                                    "Ár": "4038"
                                },
                                {
                                    "Azonosító": "92",
                                    "Cím": "Francais: Débutan (kezdő) + Telepítő",
                                    "Ár": "3770"
                                },
                                {
                                    "Azonosító": "93",
                                    "Cím": "Francais: Moyen + Telepítő",
                                    "Ár": "5619"
                                },
                                {
                                    "Azonosító": "94",
                                    "Cím": "Francia-magyar szótár",
                                    "Ár": "3566"
                                },
                                {
                                    "Azonosító": "95",
                                    "Cím": "Funschool in Dreamland (1995)",
                                    "Ár": "4766"
                                },
                                {
                                    "Azonosító": "96",
                                    "Cím": "Geolexikon 4.2 : földtani adatbázis (2002)",
                                    "Ár": "4602"
                                },
                                {
                                    "Azonosító": "97",
                                    "Cím": "Gépírás 2000",
                                    "Ár": "3936"
                                },
                                {
                                    "Azonosító": "98",
                                    "Cím": "Gondolattár: aforizmák, szállóigék",
                                    "Ár": "5346"
                                },
                                {
                                    "Azonosító": "99",
                                    "Cím": "GTA 2",
                                    "Ár": "5005"
                                },
                                {
                                    "Azonosító": "100",
                                    "Cím": "Hadiflották I. (2002)",
                                    "Ár": "5124"
                                },
                                {
                                    "Azonosító": "101",
                                    "Cím": "Hadtudományi lexikon (1998)",
                                    "Ár": "3515"
                                },
                                {
                                    "Azonosító": "102",
                                    "Cím": "Hajdúböszörmény",
                                    "Ár": "3781"
                                },
                                {
                                    "Azonosító": "103",
                                    "Cím": "Halak, kétéltűek, hüllők",
                                    "Ár": "4153"
                                },
                                {
                                    "Azonosító": "104",
                                    "Cím": "Half-Life (1996)",
                                    "Ár": "5405"
                                },
                                {
                                    "Azonosító": "105",
                                    "Cím": "Half-Life Generation: Game of the Year Edition (2002)",
                                    "Ár": "3705"
                                },
                                {
                                    "Azonosító": "106",
                                    "Cím": "Half-Life Generation: Counter Strike (2002)",
                                    "Ár": "5744"
                                },
                                {
                                    "Azonosító": "107",
                                    "Cím": "Half-Life Generation: Blue Shift (2002)",
                                    "Ár": "5728"
                                },
                                {
                                    "Azonosító": "108",
                                    "Cím": "Harry Potter és a bölcsek köve (2001)",
                                    "Ár": "4472"
                                },
                                {
                                    "Azonosító": "109",
                                    "Cím": "Haza és haladás",
                                    "Ár": "3481"
                                },
                                {
                                    "Azonosító": "110",
                                    "Cím": "A hét világcsoda (2001)",
                                    "Ár": "3162"
                                },
                                {
                                    "Azonosító": "111",
                                    "Cím": "Home Desing 3D (1998)",
                                    "Ár": "4287"
                                },
                                {
                                    "Azonosító": "112",
                                    "Cím": "Hupikék törpikék: teletransportörp (1999)",
                                    "Ár": "3110"
                                },
                                {
                                    "Azonosító": "113",
                                    "Cím": "Informatika - Internet - Iskola",
                                    "Ár": "3733"
                                },
                                {
                                    "Azonosító": "114",
                                    "Cím": "Interaktív angol nyelvész kurzus haladó szint 1-5.",
                                    "Ár": "4592"
                                },
                                {
                                    "Azonosító": "115",
                                    "Cím": "Interaktív angol nyelvész kurzus kezdő szint",
                                    "Ár": "4183"
                                },
                                {
                                    "Azonosító": "116",
                                    "Cím": "Interaktív angol nyelvész kurzus középhaladó szint",
                                    "Ár": "3115"
                                },
                                {
                                    "Azonosító": "117",
                                    "Cím": "Interaktív magyar nyelvtan",
                                    "Ár": "4779"
                                },
                                {
                                    "Azonosító": "118",
                                    "Cím": "International Rally Championship",
                                    "Ár": "3890"
                                },
                                {
                                    "Azonosító": "119",
                                    "Cím": "Internet (1996)",
                                    "Ár": "4934"
                                },
                                {
                                    "Azonosító": "120",
                                    "Cím": "Introduction to Archeology",
                                    "Ár": "3773"
                                },
                                {
                                    "Azonosító": "121",
                                    "Cím": "Investigating 20th Century Art (1994)",
                                    "Ár": "4394"
                                },
                                {
                                    "Azonosító": "122",
                                    "Cím": "Az ipari forradalom kora (2000)",
                                    "Ár": "5082"
                                },
                                {
                                    "Azonosító": "123",
                                    "Cím": "Irodalmi arcképcsarnok",
                                    "Ár": "3866"
                                },
                                {
                                    "Azonosító": "124",
                                    "Cím": "Irodalom  felkészítő az érettségi és felvételi vizsgára",
                                    "Ár": "5654"
                                },
                                {
                                    "Azonosító": "125",
                                    "Cím": "Irodalom (1998)",
                                    "Ár": "5625"
                                },
                                {
                                    "Azonosító": "126",
                                    "Cím": "Italiano (1998) + Installation",
                                    "Ár": "5436"
                                },
                                {
                                    "Azonosító": "127",
                                    "Cím": "Italiano 1-2. (1998) + Installation",
                                    "Ár": "6082"
                                },
                                {
                                    "Azonosító": "128",
                                    "Cím": "Italiano 1-2. (1998) + Installation",
                                    "Ár": "3419"
                                },
                                {
                                    "Azonosító": "129",
                                    "Cím": "Jancsó",
                                    "Ár": "4204"
                                },
                                {
                                    "Azonosító": "130",
                                    "Cím": "Japán : képes kulturális atlasz (2001)",
                                    "Ár": "4459"
                                },
                                {
                                    "Azonosító": "131",
                                    "Cím": "Játékfilmek 1963-tól napjainkig",
                                    "Ár": "3138"
                                },
                                {
                                    "Azonosító": "132",
                                    "Cím": "Játszóház (1998)",
                                    "Ár": "5299"
                                },
                                {
                                    "Azonosító": "133",
                                    "Cím": "Jókai összes művei (2001)",
                                    "Ár": "4768"
                                },
                                {
                                    "Azonosító": "134",
                                    "Cím": "József Attila (1998)",
                                    "Ár": "3870"
                                },
                                {
                                    "Azonosító": "135",
                                    "Cím": "A jövő titkai - Interaktív horoszkóp (1998)",
                                    "Ár": "6072"
                                },
                                {
                                    "Azonosító": "136",
                                    "Cím": "Kártyaváros",
                                    "Ár": "3107"
                                },
                                {
                                    "Azonosító": "137",
                                    "Cím": "Kémia Kalauz 2.",
                                    "Ár": "5094"
                                },
                                {
                                    "Azonosító": "138",
                                    "Cím": "A kémkedés és a hírszerzés története (2002)",
                                    "Ár": "5845"
                                },
                                {
                                    "Azonosító": "139",
                                    "Cím": "Képes krónika (1996)",
                                    "Ár": "3931"
                                },
                                {
                                    "Azonosító": "140",
                                    "Cím": "Képtárak (1995)",
                                    "Ár": "5408"
                                },
                                {
                                    "Azonosító": "141",
                                    "Cím": "Kereszt és félhold",
                                    "Ár": "4302"
                                },
                                {
                                    "Azonosító": "142",
                                    "Cím": "Kétfejű sas: A Habsburg-uralom Magyarországon (1699-1790)",
                                    "Ár": "5459"
                                },
                                {
                                    "Azonosító": "143",
                                    "Cím": "Kettős kötődés: Az Osztrák-Magyar Monarchia (1867-1918)",
                                    "Ár": "4829"
                                },
                                {
                                    "Azonosító": "144",
                                    "Cím": "Kínai falatok",
                                    "Ár": "4550"
                                },
                                {
                                    "Azonosító": "145",
                                    "Cím": "Királyi könyvek 1-9. kötet",
                                    "Ár": "3256"
                                },
                                {
                                    "Azonosító": "146",
                                    "Cím": "Királyi könyvek 18-26. kötet",
                                    "Ár": "5507"
                                },
                                {
                                    "Azonosító": "147",
                                    "Cím": "Királyi könyvek 27-38. kötet : 1703-1740 (2002)",
                                    "Ár": "5476"
                                },
                                {
                                    "Azonosító": "148",
                                    "Cím": "Kispál és a borz (1998)",
                                    "Ár": "5730"
                                },
                                {
                                    "Azonosító": "149",
                                    "Cím": "Kossuth Lajos összes munkái (2002)",
                                    "Ár": "4589"
                                },
                                {
                                    "Azonosító": "150",
                                    "Cím": "Környezetvédelmi kalauz (1999)",
                                    "Ár": "5508"
                                },
                                {
                                    "Azonosító": "151",
                                    "Cím": "Kötelező olvasmányok könyvtára 1. (2002)",
                                    "Ár": "3594"
                                },
                                {
                                    "Azonosító": "152",
                                    "Cím": "A kőszívű ember fiai - Egri csillagok",
                                    "Ár": "5538"
                                },
                                {
                                    "Azonosító": "153",
                                    "Cím": "A kutyák: A család kedvencei",
                                    "Ár": "4963"
                                },
                                {
                                    "Azonosító": "154",
                                    "Cím": "Kutyatár",
                                    "Ár": "5235"
                                },
                                {
                                    "Azonosító": "155",
                                    "Cím": "KvízIQ : A hét világcsoda (2001)",
                                    "Ár": "3451"
                                },
                                {
                                    "Azonosító": "156",
                                    "Cím": "Lakáskultúra 2000 (2000)",
                                    "Ár": "5847"
                                },
                                {
                                    "Azonosító": "157",
                                    "Cím": "Lakáskultúra 1999 (1999)",
                                    "Ár": "5414"
                                },
                                {
                                    "Azonosító": "158",
                                    "Cím": "Lakáskultúra 1998 (1998)",
                                    "Ár": "5491"
                                },
                                {
                                    "Azonosító": "159",
                                    "Cím": "Lakáskultúra 1997 (1997)",
                                    "Ár": "3419"
                                },
                                {
                                    "Azonosító": "160",
                                    "Cím": "Lakáskultúra 1996 (1996)",
                                    "Ár": "4209"
                                },
                                {
                                    "Azonosító": "161",
                                    "Cím": "Lands of Lore II. 1-4. (1997)",
                                    "Ár": "4312"
                                },
                                {
                                    "Azonosító": "162",
                                    "Cím": "Landscape Design 3D (1998)",
                                    "Ár": "4951"
                                },
                                {
                                    "Azonosító": "163",
                                    "Cím": "Legféltettebb természeti értékeink",
                                    "Ár": "5083"
                                },
                                {
                                    "Azonosító": "164",
                                    "Cím": "Legszebb vadnövényeink",
                                    "Ár": "4438"
                                },
                                {
                                    "Azonosító": "165",
                                    "Cím": "Leonardo da Vinci",
                                    "Ár": "5118"
                                },
                                {
                                    "Azonosító": "166",
                                    "Cím": "Lilenthal Andor sakkjátszmái",
                                    "Ár": "3644"
                                },
                                {
                                    "Azonosító": "167",
                                    "Cím": "Lopva angolul /English by Stealth 1.",
                                    "Ár": "5431"
                                },
                                {
                                    "Azonosító": "168",
                                    "Cím": "Lopva angolul /English by Stealth 2.",
                                    "Ár": "4597"
                                },
                                {
                                    "Azonosító": "169",
                                    "Cím": "Lopva angolul /English by Stealth 3.",
                                    "Ár": "4851"
                                },
                                {
                                    "Azonosító": "170",
                                    "Cím": "Lovagkirályok (1301-1437) (1997)",
                                    "Ár": "4368"
                                },
                                {
                                    "Azonosító": "171",
                                    "Cím": "LoveQ, SexQ : szerelmi intelligencia (2001)",
                                    "Ár": "3626"
                                },
                                {
                                    "Azonosító": "172",
                                    "Cím": "M1 Tank (1998)",
                                    "Ár": "5981"
                                },
                                {
                                    "Azonosító": "173",
                                    "Cím": "Mackó úr (2002)",
                                    "Ár": "4632"
                                },
                                {
                                    "Azonosító": "174",
                                    "Cím": "Madárdalos kirándulások - Madártani oktató CD-ROM (1999)",
                                    "Ár": "3408"
                                },
                                {
                                    "Azonosító": "175",
                                    "Cím": "Magyar bélyegek katalógusa",
                                    "Ár": "4035"
                                },
                                {
                                    "Azonosító": "176",
                                    "Cím": "Magyar fontok '97",
                                    "Ár": "3845"
                                },
                                {
                                    "Azonosító": "177",
                                    "Cím": "A Magyar Koronázási Jelvények",
                                    "Ár": "4122"
                                },
                                {
                                    "Azonosító": "178",
                                    "Cím": "Magyar nyelv és irodalom",
                                    "Ár": "4704"
                                },
                                {
                                    "Azonosító": "179",
                                    "Cím": "Magyar színházművészet a világban",
                                    "Ár": "5158"
                                },
                                {
                                    "Azonosító": "180",
                                    "Cím": "Magyarország, 1944-1956 (2001)",
                                    "Ár": "4921"
                                },
                                {
                                    "Azonosító": "181",
                                    "Cím": "Magyarország, 1944-1956 (2001)",
                                    "Ár": "3673"
                                },
                                {
                                    "Azonosító": "182",
                                    "Cím": "Magyarország Nemzeti Parkjai I.",
                                    "Ár": "3348"
                                },
                                {
                                    "Azonosító": "183",
                                    "Cím": "Magyarország Nemzeti Parkjai II.",
                                    "Ár": "3377"
                                },
                                {
                                    "Azonosító": "184",
                                    "Cím": "Magyarországi várak (1998)",
                                    "Ár": "5459"
                                },
                                {
                                    "Azonosító": "185",
                                    "Cím": "Mahjongg Master (1998)",
                                    "Ár": "5423"
                                },
                                {
                                    "Azonosító": "186",
                                    "Cím": "Manó Angol 1.",
                                    "Ár": "5852"
                                },
                                {
                                    "Azonosító": "187",
                                    "Cím": "Manó Angol 1. (2002)",
                                    "Ár": "6051"
                                },
                                {
                                    "Azonosító": "188",
                                    "Cím": "Manó Angol 2.",
                                    "Ár": "5353"
                                },
                                {
                                    "Azonosító": "189",
                                    "Cím": "Manó Angol 2. (2000)",
                                    "Ár": "6068"
                                },
                                {
                                    "Azonosító": "190",
                                    "Cím": "Manó Élővilág",
                                    "Ár": "3474"
                                },
                                {
                                    "Azonosító": "191",
                                    "Cím": "Manó Élővilág (2002)",
                                    "Ár": "4881"
                                },
                                {
                                    "Azonosító": "192",
                                    "Cím": "Manó IQ (2001)",
                                    "Ár": "5383"
                                },
                                {
                                    "Azonosító": "193",
                                    "Cím": "Manó Kaland (2002)",
                                    "Ár": "5967"
                                },
                                {
                                    "Azonosító": "194",
                                    "Cím": "Manó Magyarország (2002)",
                                    "Ár": "4150"
                                },
                                {
                                    "Azonosító": "195",
                                    "Cím": "Manó Matek 1.",
                                    "Ár": "5995"
                                },
                                {
                                    "Azonosító": "196",
                                    "Cím": "Manó Matek 1. (2002)",
                                    "Ár": "5396"
                                },
                                {
                                    "Azonosító": "197",
                                    "Cím": "Manó Matek 2. (1999)",
                                    "Ár": "5568"
                                },
                                {
                                    "Azonosító": "198",
                                    "Cím": "Manó Matek 2. (1999)",
                                    "Ár": "3536"
                                },
                                {
                                    "Azonosító": "199",
                                    "Cím": "Manó Matek 3.",
                                    "Ár": "4803"
                                },
                                {
                                    "Azonosító": "200",
                                    "Cím": "Manó Muzsika",
                                    "Ár": "4996"
                                },
                                {
                                    "Azonosító": "201",
                                    "Cím": "Manó Muzsika",
                                    "Ár": "3391"
                                },
                                {
                                    "Azonosító": "202",
                                    "Cím": "Manó Német 2.",
                                    "Ár": "4642"
                                },
                                {
                                    "Azonosító": "203",
                                    "Cím": "Manó Olvasás 1.",
                                    "Ár": "5845"
                                },
                                {
                                    "Azonosító": "204",
                                    "Cím": "Manó Puzzle (2002)",
                                    "Ár": "6078"
                                },
                                {
                                    "Azonosító": "205",
                                    "Cím": "Matematika (1998)",
                                    "Ár": "3105"
                                },
                                {
                                    "Azonosító": "206",
                                    "Cím": "Matematika felkészítő az érettségi és felvételi vizsgára",
                                    "Ár": "4616"
                                },
                                {
                                    "Azonosító": "207",
                                    "Cím": "Matematika kalauz (1997)",
                                    "Ár": "3315"
                                },
                                {
                                    "Azonosító": "208",
                                    "Cím": "Mig-29 (1998)",
                                    "Ár": "5040"
                                },
                                {
                                    "Azonosító": "209",
                                    "Cím": "Mikszáth Kálmán összes művei",
                                    "Ár": "4786"
                                },
                                {
                                    "Azonosító": "210",
                                    "Cím": "Mini Manó Tavasz",
                                    "Ár": "4727"
                                },
                                {
                                    "Azonosító": "211",
                                    "Cím": "MoBi Mouse: A fordító egér",
                                    "Ár": "5036"
                                },
                                {
                                    "Azonosító": "212",
                                    "Cím": "Monopoly Junior",
                                    "Ár": "3974"
                                },
                                {
                                    "Azonosító": "213",
                                    "Cím": "Mons Sacer Pannoniae (2001)",
                                    "Ár": "4410"
                                },
                                {
                                    "Azonosító": "214",
                                    "Cím": "Moving Puzzle Action Flight (2000)",
                                    "Ár": "5477"
                                },
                                {
                                    "Azonosító": "215",
                                    "Cím": "Multimédiás Menedzsment Könyvtár 1. - Változásmenedzsment",
                                    "Ár": "6057"
                                },
                                {
                                    "Azonosító": "216",
                                    "Cím": "Multimédiás Menedzsment Könyvtár 2. - Önszervezés",
                                    "Ár": "3279"
                                },
                                {
                                    "Azonosító": "217",
                                    "Cím": "Musique! (1997)",
                                    "Ár": "5336"
                                },
                                {
                                    "Azonosító": "218",
                                    "Cím": "Művészet és mesterség",
                                    "Ár": "6098"
                                },
                                {
                                    "Azonosító": "219",
                                    "Cím": "Művészet és művészek (2002)",
                                    "Ár": "3490"
                                },
                                {
                                    "Azonosító": "220",
                                    "Cím": "Nagy képes világtörténet (Matczáli Henrik) (1998)",
                                    "Ár": "4387"
                                },
                                {
                                    "Azonosító": "221",
                                    "Cím": "Nagy vicc tár",
                                    "Ár": "5573"
                                },
                                {
                                    "Azonosító": "222",
                                    "Cím": "A Nagybányai Festőiskola (1998)",
                                    "Ár": "4877"
                                },
                                {
                                    "Azonosító": "223",
                                    "Cím": "NASA 1.",
                                    "Ár": "5968"
                                },
                                {
                                    "Azonosító": "224",
                                    "Cím": "NASA 2.",
                                    "Ár": "4147"
                                },
                                {
                                    "Azonosító": "225",
                                    "Cím": "Na, So Was? - Minden helyzetben otthonosan",
                                    "Ár": "3600"
                                },
                                {
                                    "Azonosító": "226",
                                    "Cím": "Német : 8-10 éveseknek (2002)",
                                    "Ár": "3754"
                                },
                                {
                                    "Azonosító": "227",
                                    "Cím": "Német szótanító CD-ROM",
                                    "Ár": "3313"
                                },
                                {
                                    "Azonosító": "228",
                                    "Cím": "Németh László összes műve",
                                    "Ár": "4497"
                                },
                                {
                                    "Azonosító": "229",
                                    "Cím": "New York : a tragédiák városa (2001)",
                                    "Ár": "3723"
                                },
                                {
                                    "Azonosító": "230",
                                    "Cím": "NHL 2001",
                                    "Ár": "5242"
                                },
                                {
                                    "Azonosító": "231",
                                    "Cím": "Nincs királyi út - A matematika kultúrtörténete",
                                    "Ár": "4353"
                                },
                                {
                                    "Azonosító": "232",
                                    "Cím": "Nyelvész : Angol és német haladóknak (1997)",
                                    "Ár": "3522"
                                },
                                {
                                    "Azonosító": "233",
                                    "Cím": "Nyelvtan összefoglaló : érettségi előkészítő (2002)",
                                    "Ár": "3688"
                                },
                                {
                                    "Azonosító": "234",
                                    "Cím": "Az óceán világa - Maldiv szigetek (2000)",
                                    "Ár": "5833"
                                },
                                {
                                    "Azonosító": "235",
                                    "Cím": "Ókori lexikon",
                                    "Ár": "3122"
                                },
                                {
                                    "Azonosító": "236",
                                    "Cím": "Olasz-magyar, magyar-olasz digitális szótár",
                                    "Ár": "4107"
                                },
                                {
                                    "Azonosító": "237",
                                    "Cím": "Olasz szótanító CD-ROM",
                                    "Ár": "5108"
                                },
                                {
                                    "Azonosító": "238",
                                    "Cím": "Orosz (1998)",
                                    "Ár": "6009"
                                },
                                {
                                    "Azonosító": "239",
                                    "Cím": "Orosz-magyar nagyszótár",
                                    "Ár": "4666"
                                },
                                {
                                    "Azonosító": "240",
                                    "Cím": "Az Országos Széchényi Könyvtár corvinái, 2002 (2002)",
                                    "Ár": "4753"
                                },
                                {
                                    "Azonosító": "241",
                                    "Cím": "Az Osztrák-Magyar Monarchia írásban és képekben (2001)",
                                    "Ár": "4359"
                                },
                                {
                                    "Azonosító": "242",
                                    "Cím": "Paddle Bash (2001)",
                                    "Ár": "3937"
                                },
                                {
                                    "Azonosító": "243",
                                    "Cím": "Pannon Enciklopédia (1998)",
                                    "Ár": "4606"
                                },
                                {
                                    "Azonosító": "244",
                                    "Cím": "Pannonhalmi Főapátság (2001)",
                                    "Ár": "5817"
                                },
                                {
                                    "Azonosító": "245",
                                    "Cím": "Panzer General III: Scorched Earth (2000)",
                                    "Ár": "6058"
                                },
                                {
                                    "Azonosító": "246",
                                    "Cím": "People's General (1998)",
                                    "Ár": "5623"
                                },
                                {
                                    "Azonosító": "247",
                                    "Cím": "Petőfi Sándor: Arany Lacinak (2002)",
                                    "Ár": "5488"
                                },
                                {
                                    "Azonosító": "248",
                                    "Cím": "Petőfi Sándor összes költeményei",
                                    "Ár": "3782"
                                },
                                {
                                    "Azonosító": "249",
                                    "Cím": "Plane Crazy",
                                    "Ár": "5011"
                                },
                                {
                                    "Azonosító": "250",
                                    "Cím": "Quake III. (2001)",
                                    "Ár": "3144"
                                },
                                {
                                    "Azonosító": "251",
                                    "Cím": "Rákóczi-szabadságharc",
                                    "Ár": "4778"
                                },
                                {
                                    "Azonosító": "252",
                                    "Cím": "Rally Championship",
                                    "Ár": "3106"
                                },
                                {
                                    "Azonosító": "253",
                                    "Cím": "Rayman: Matek és olvasás",
                                    "Ár": "4484"
                                },
                                {
                                    "Azonosító": "254",
                                    "Cím": "Re-Volt (1999)",
                                    "Ár": "3989"
                                },
                                {
                                    "Azonosító": "255",
                                    "Cím": "The Settlers III. 1-2. (1998)",
                                    "Ár": "4267"
                                },
                                {
                                    "Azonosító": "256",
                                    "Cím": "The Settlers IV. (2001)",
                                    "Ár": "4143"
                                },
                                {
                                    "Azonosító": "257",
                                    "Cím": "Shanghai (1997)",
                                    "Ár": "5900"
                                },
                                {
                                    "Azonosító": "258",
                                    "Cím": "The Sims",
                                    "Ár": "4043"
                                },
                                {
                                    "Azonosító": "259",
                                    "Cím": "Sonic Racer",
                                    "Ár": "3450"
                                },
                                {
                                    "Azonosító": "260",
                                    "Cím": "Spanyol (1997)",
                                    "Ár": "3775"
                                },
                                {
                                    "Azonosító": "261",
                                    "Cím": "Spanyol-magyar szótár",
                                    "Ár": "5734"
                                },
                                {
                                    "Azonosító": "262",
                                    "Cím": "Star Wars: Battle for Naboo",
                                    "Ár": "3520"
                                },
                                {
                                    "Azonosító": "263",
                                    "Cím": "Star Wars: Force Commander (2001)",
                                    "Ár": "5785"
                                },
                                {
                                    "Azonosító": "264",
                                    "Cím": "Star Wars : Rogue Squadron 3D",
                                    "Ár": "5803"
                                },
                                {
                                    "Azonosító": "265",
                                    "Cím": "Supreme Snowboarding",
                                    "Ár": "4151"
                                },
                                {
                                    "Azonosító": "266",
                                    "Cím": "Szabadítsd ki a kisoroszlánt!",
                                    "Ár": "5537"
                                },
                                {
                                    "Azonosító": "267",
                                    "Cím": "Szabadságharc 1848-49 (1988)",
                                    "Ár": "6060"
                                },
                                {
                                    "Azonosító": "268",
                                    "Cím": "A szabadságharc népzenei emlékei",
                                    "Ár": "5187"
                                },
                                {
                                    "Azonosító": "269",
                                    "Cím": "Szolfézs: Kezdőknek és haladóknak",
                                    "Ár": "4492"
                                },
                                {
                                    "Azonosító": "270",
                                    "Cím": "Talk To Me Deutsch 2-4.",
                                    "Ár": "5990"
                                },
                                {
                                    "Azonosító": "271",
                                    "Cím": "Talk To Me English 1.",
                                    "Ár": "4743"
                                },
                                {
                                    "Azonosító": "272",
                                    "Cím": "Talk To Me Francais 1-2.",
                                    "Ár": "4973"
                                },
                                {
                                    "Azonosító": "273",
                                    "Cím": "Tankok, tüzérség (2002)",
                                    "Ár": "6084"
                                },
                                {
                                    "Azonosító": "274",
                                    "Cím": "Tanulj tovább! 2000 (2000)",
                                    "Ár": "4310"
                                },
                                {
                                    "Azonosító": "275",
                                    "Cím": "Táplálkozás, életmód mesterfokon (2002)",
                                    "Ár": "4480"
                                },
                                {
                                    "Azonosító": "276",
                                    "Cím": "Target English (1998)",
                                    "Ár": "6061"
                                },
                                {
                                    "Azonosító": "277",
                                    "Cím": "Tarzan",
                                    "Ár": "3737"
                                },
                                {
                                    "Azonosító": "278",
                                    "Cím": "Terrorizmus (2002)",
                                    "Ár": "4877"
                                },
                                {
                                    "Azonosító": "279",
                                    "Cím": "Testbeszéd (1998)",
                                    "Ár": "5382"
                                },
                                {
                                    "Azonosító": "280",
                                    "Cím": "Tesztre készen: angol (1998)",
                                    "Ár": "4157"
                                },
                                {
                                    "Azonosító": "281",
                                    "Cím": "Tesztre készen: német (1998)",
                                    "Ár": "4566"
                                },
                                {
                                    "Azonosító": "282",
                                    "Cím": "Thaiföldi ízek (1999)",
                                    "Ár": "5250"
                                },
                                {
                                    "Azonosító": "283",
                                    "Cím": "Timeshock!",
                                    "Ár": "5159"
                                },
                                {
                                    "Azonosító": "284",
                                    "Cím": "Tomi megmenti a tengert (2000)",
                                    "Ár": "4325"
                                },
                                {
                                    "Azonosító": "285",
                                    "Cím": "Touché - The Adventures of the Fifth",
                                    "Ár": "4548"
                                },
                                {
                                    "Azonosító": "286",
                                    "Cím": "Toy Story 2.",
                                    "Ár": "3809"
                                },
                                {
                                    "Azonosító": "287",
                                    "Cím": "Történelem (1998)",
                                    "Ár": "3737"
                                },
                                {
                                    "Azonosító": "288",
                                    "Cím": "Történelem : 10-14 éveseknek (2002)",
                                    "Ár": "3737"
                                },
                                {
                                    "Azonosító": "289",
                                    "Cím": "Történelem : középiskola 1. osztály (2002)",
                                    "Ár": "3736"
                                },
                                {
                                    "Azonosító": "290",
                                    "Cím": "Történelem : középiskola 4. osztály (2002)",
                                    "Ár": "5635"
                                },
                                {
                                    "Azonosító": "291",
                                    "Cím": "Traffic Giant",
                                    "Ár": "4385"
                                },
                                {
                                    "Azonosító": "292",
                                    "Cím": "Train Simulator (2002)",
                                    "Ár": "5428"
                                },
                                {
                                    "Azonosító": "293",
                                    "Cím": "Trickstyle",
                                    "Ár": "4651"
                                },
                                {
                                    "Azonosító": "294",
                                    "Cím": "A tudás próbája (2001)",
                                    "Ár": "5461"
                                },
                                {
                                    "Azonosító": "295",
                                    "Cím": "Turul : 1883-1900 (2002)",
                                    "Ár": "5238"
                                },
                                {
                                    "Azonosító": "296",
                                    "Cím": "UEFA Champions Leage Season",
                                    "Ár": "5522"
                                },
                                {
                                    "Azonosító": "297",
                                    "Cím": "Új Könyvek 1994-2000 (2002)",
                                    "Ár": "6024"
                                },
                                {
                                    "Azonosító": "298",
                                    "Cím": "Az Univerzum története",
                                    "Ár": "3654"
                                },
                                {
                                    "Azonosító": "299",
                                    "Cím": "Utazás a csillagok között (1998)",
                                    "Ár": "5705"
                                },
                                {
                                    "Azonosító": "300",
                                    "Cím": "Utazás a Naprendszerben",
                                    "Ár": "3582"
                                },
                                {
                                    "Azonosító": "301",
                                    "Cím": "Utazás a Naprendszerben 2.",
                                    "Ár": "5992"
                                },
                                {
                                    "Azonosító": "302",
                                    "Cím": "Úton 2. (1998)",
                                    "Ár": "5476"
                                },
                                {
                                    "Azonosító": "303",
                                    "Cím": "Üzleti protokoll CD (2002)",
                                    "Ár": "4891"
                                },
                                {
                                    "Azonosító": "304",
                                    "Cím": "Várak, kastélyok, legendák 1.",
                                    "Ár": "4237"
                                },
                                {
                                    "Azonosító": "305",
                                    "Cím": "Várak, kastélyok, legendák 2. (2002)",
                                    "Ár": "3313"
                                },
                                {
                                    "Azonosító": "306",
                                    "Cím": "A varázslatos emberi test (1998)",
                                    "Ár": "4863"
                                },
                                {
                                    "Azonosító": "307",
                                    "Cím": "Varázslatos szülinap",
                                    "Ár": "5712"
                                },
                                {
                                    "Azonosító": "308",
                                    "Cím": "Varázslatos történelmi nyomozás",
                                    "Ár": "4395"
                                },
                                {
                                    "Azonosító": "309",
                                    "Cím": "A városi élet a Római Birodalomban (1999)",
                                    "Ár": "5749"
                                },
                                {
                                    "Azonosító": "310",
                                    "Cím": "A Vazul-ág (1038-1301) (1997)",
                                    "Ár": "4060"
                                },
                                {
                                    "Azonosító": "311",
                                    "Cím": "Világatlasz '99 (1998)",
                                    "Ár": "5399"
                                },
                                {
                                    "Azonosító": "312",
                                    "Cím": "Világatlasz '99 (1998)",
                                    "Ár": "5202"
                                },
                                {
                                    "Azonosító": "313",
                                    "Cím": "Világatlasz (2001)",
                                    "Ár": "3446"
                                },
                                {
                                    "Azonosító": "314",
                                    "Cím": "Világirodalom : Az ókortól napjainkig (2001)",
                                    "Ár": "3595"
                                },
                                {
                                    "Azonosító": "315",
                                    "Cím": "Volt egyszer egy Magyarország",
                                    "Ár": "5302"
                                },
                                {
                                    "Azonosító": "316",
                                    "Cím": "Warcraft III. (2002)",
                                    "Ár": "5774"
                                },
                                {
                                    "Azonosító": "317",
                                    "Cím": "William Shakespeare összes művei",
                                    "Ár": "4437"
                                },
                                {
                                    "Azonosító": "318",
                                    "Cím": "Zielpunkt Deutsch (1997)",
                                    "Ár": "4144"
                                },
                                {
                                    "Azonosító": "319",
                                    "Cím": "Zöld Ödön a földgömbön",
                                    "Ár": "6065"
                                }
                            ]
                        },
                        "text/html": "<table><tr><th>Azonosító</th><th>Cím</th><th>Ár</th></tr><tr><td>1</td><td>NULL</td><td>3859</td></tr><tr><td>2</td><td>A II. világháború története (1999)</td><td>4244</td></tr><tr><td>3</td><td>3D Dinosaur - adventure</td><td>5041</td></tr><tr><td>4</td><td>3D virtuális origami (2000)</td><td>5355</td></tr><tr><td>5</td><td>Az 1848-1849-iki szabadságharc története (2002)</td><td>5700</td></tr><tr><td>6</td><td>Ablak zsiráf (1999)</td><td>3540</td></tr><tr><td>7</td><td>Ady Endre összes művei (1999)</td><td>4241</td></tr><tr><td>8</td><td>Afrika</td><td>5318</td></tr><tr><td>9</td><td>Age of Empires (2000)</td><td>4482</td></tr><tr><td>10</td><td>Airport Inc.</td><td>4311</td></tr><tr><td>11</td><td>American Rodeo : BullRider 2000 (2001)</td><td>5591</td></tr><tr><td>12</td><td>Angol : 8-10 éveseknek (2002)</td><td>4853</td></tr><tr><td>13</td><td>Angol és német nyelvtani gyakorlatok (2002)</td><td>4906</td></tr><tr><td>14</td><td>Angol szótanító CD-ROM</td><td>4449</td></tr><tr><td>15</td><td>Angol szótanító CD-ROM</td><td>4444</td></tr><tr><td>16</td><td>Angol szótár (1996)</td><td>3509</td></tr><tr><td>17</td><td>Angol-magyar, Magyar-angol hangosszótár</td><td>5151</td></tr><tr><td>18</td><td>Angol-magyar nagyszótár (Halász Előd)</td><td>5638</td></tr><tr><td>19</td><td>Az áramvonalas fakanál</td><td>5706</td></tr><tr><td>20</td><td>Arany János: A bajusz (2002)</td><td>3391</td></tr><tr><td>21</td><td>Az Árpád-ház története</td><td>5022</td></tr><tr><td>22</td><td>Art Attack (1998)</td><td>3914</td></tr><tr><td>23</td><td>Art puzzle (1998)</td><td>5786</td></tr><tr><td>24</td><td>Az ásványok világa</td><td>5624</td></tr><tr><td>25</td><td>Ausztrália</td><td>5326</td></tr><tr><td>26</td><td>Auto 2000 - Kerékvilág</td><td>4463</td></tr><tr><td>27</td><td>Ázsia (2000)</td><td>3123</td></tr><tr><td>28</td><td>Biblia (1995)</td><td>4440</td></tr><tr><td>29</td><td>Biológia '97</td><td>5543</td></tr><tr><td>30</td><td>Biológia (2000)</td><td>3819</td></tr><tr><td>31</td><td>Biológia (2001)</td><td>3792</td></tr><tr><td>32</td><td>Biológia : 12-14 éveseknek (2003)</td><td>3482</td></tr><tr><td>33</td><td>Blinky Bill : A fantasztikus léggömbkaland</td><td>4076</td></tr><tr><td>34</td><td>Broken Sword II. (cop. 1997)</td><td>4502</td></tr><tr><td>35</td><td>Budapest kalauz</td><td>4054</td></tr><tr><td>36</td><td>Budapest Museum</td><td>5292</td></tr><tr><td>37</td><td>Buggy</td><td>5830</td></tr><tr><td>38</td><td>Byte Magyarország (2002)</td><td>3277</td></tr><tr><td>39</td><td>Caesar III.</td><td>4136</td></tr><tr><td>40</td><td>Capitalism II. (2001)</td><td>6062</td></tr><tr><td>41</td><td>Capitalism Plus</td><td>5030</td></tr><tr><td>42</td><td>Castle Explorer</td><td>3707</td></tr><tr><td>43</td><td>CD Panoráma 1-4. (1998)</td><td>5422</td></tr><tr><td>44</td><td>Computer iskola (1998)</td><td>5260</td></tr><tr><td>45</td><td>Csizmás kandúr (1998)</td><td>5932</td></tr><tr><td>46</td><td>Csodálatos univerzum (1997)</td><td>4087</td></tr><tr><td>47</td><td>Dél-Amerika (1999)</td><td>3999</td></tr><tr><td>48</td><td>Dementia 1-5. (1997)</td><td>5919</td></tr><tr><td>49</td><td>Deutsch: Anfanger (kezdő) + Telepítő </td><td>5633</td></tr><tr><td>50</td><td>Deutsch: Fortgeschrittene (haladó) + Installation</td><td>5784</td></tr><tr><td>51</td><td>Deutsch: Mittelstufe (középhaladó)+ Telepítő</td><td>4377</td></tr><tr><td>52</td><td>Diablo</td><td>5969</td></tr><tr><td>53</td><td>Diablo II. (2000)</td><td>4900</td></tr><tr><td>54</td><td>Dicső napok és hétköznapok 1848 - Digitális forrásgyűjtemény 1.</td><td>5611</td></tr><tr><td>55</td><td>Dreams to Reality 1-2. (1997)</td><td>4699</td></tr><tr><td>56</td><td>Duke Nukem 3D</td><td>5474</td></tr><tr><td>57</td><td>Dungeon Keeper 2. (1999)</td><td>3369</td></tr><tr><td>58</td><td>E-Games : Collector's Edition (2001)</td><td>5583</td></tr><tr><td>59</td><td>Éléstár (1998)</td><td>3258</td></tr><tr><td>60</td><td>Élet a polgárosodó Magyarországon (2001)</td><td>5572</td></tr><tr><td>61</td><td>Életképek 1848 (1998)</td><td>4211</td></tr><tr><td>62</td><td>Az ember tragédiája</td><td>4295</td></tr><tr><td>63</td><td>Encarta World Atlas '99 1-2. (1998)</td><td>5334</td></tr><tr><td>64</td><td>Enemy Engaged RAH-66</td><td>5217</td></tr><tr><td>65</td><td>English 1-2. + Telepítő</td><td>5215</td></tr><tr><td>67</td><td>English: Intermediate (haladó)</td><td>3627</td></tr><tr><td>68</td><td>English by Stealth  lásd: Lopva angolul</td><td>4478</td></tr><tr><td>69</td><td>Erdély (1996)</td><td>4999</td></tr><tr><td>70</td><td>Espanol: Intermedio + Telepítő</td><td>3914</td></tr><tr><td>71</td><td>Espanol: Principiante + Telepítő</td><td>5882</td></tr><tr><td>72</td><td>Észak-Amerika</td><td>3994</td></tr><tr><td>73</td><td>Európa</td><td>5270</td></tr><tr><td>74</td><td>The F.A. Premier League Stars 2001</td><td>3871</td></tr><tr><td>75</td><td>Felvételi példatár : Angol</td><td>3876</td></tr><tr><td>76</td><td>Felvételi példatár : Biológia, földrajz</td><td>3215</td></tr><tr><td>77</td><td>Felvételi példatár : Kémia, fizika</td><td>5851</td></tr><tr><td>78</td><td>Felvételi példatár : Magyar nyelv és irodalom</td><td>5955</td></tr><tr><td>79</td><td>Felvételi példatár : Matematika</td><td>5009</td></tr><tr><td>80</td><td>Felvételi példatár : Német</td><td>3102</td></tr><tr><td>81</td><td>FIFA, 2000 (1999)</td><td>5059</td></tr><tr><td>82</td><td>Fighting Force (1998)</td><td>4800</td></tr><tr><td>83</td><td>Final Liberation (1997)</td><td>4632</td></tr><tr><td>84</td><td>Fitness mesterfokon / Béres Alexandra (2001)</td><td>4607</td></tr><tr><td>85</td><td>Fizika : 12-14 éveseknek (2002)</td><td>3734</td></tr><tr><td>86</td><td>Fizika felkészítő az érettségi és felvételi vizsgára</td><td>4810</td></tr><tr><td>87</td><td>Fizika világa (2001)</td><td>5763</td></tr><tr><td>88</td><td>A Föld élővilága</td><td>5900</td></tr><tr><td>89</td><td>Földrajz: 10-14 éveseknek (2002)</td><td>3930</td></tr><tr><td>90</td><td>Földrajz: érettségi előkészítő (2002)</td><td>3173</td></tr><tr><td>91</td><td>Francais 1-2. + Telepítő</td><td>4038</td></tr><tr><td>92</td><td>Francais: Débutan (kezdő) + Telepítő</td><td>3770</td></tr><tr><td>93</td><td>Francais: Moyen + Telepítő</td><td>5619</td></tr><tr><td>94</td><td>Francia-magyar szótár</td><td>3566</td></tr><tr><td>95</td><td>Funschool in Dreamland (1995)</td><td>4766</td></tr><tr><td>96</td><td>Geolexikon 4.2 : földtani adatbázis (2002)</td><td>4602</td></tr><tr><td>97</td><td>Gépírás 2000</td><td>3936</td></tr><tr><td>98</td><td>Gondolattár: aforizmák, szállóigék</td><td>5346</td></tr><tr><td>99</td><td>GTA 2</td><td>5005</td></tr><tr><td>100</td><td>Hadiflották I. (2002)</td><td>5124</td></tr><tr><td>101</td><td>Hadtudományi lexikon (1998)</td><td>3515</td></tr><tr><td>102</td><td>Hajdúböszörmény</td><td>3781</td></tr><tr><td>103</td><td>Halak, kétéltűek, hüllők</td><td>4153</td></tr><tr><td>104</td><td>Half-Life (1996)</td><td>5405</td></tr><tr><td>105</td><td>Half-Life Generation: Game of the Year Edition (2002)</td><td>3705</td></tr><tr><td>106</td><td>Half-Life Generation: Counter Strike (2002)</td><td>5744</td></tr><tr><td>107</td><td>Half-Life Generation: Blue Shift (2002)</td><td>5728</td></tr><tr><td>108</td><td>Harry Potter és a bölcsek köve (2001)</td><td>4472</td></tr><tr><td>109</td><td>Haza és haladás</td><td>3481</td></tr><tr><td>110</td><td>A hét világcsoda (2001)</td><td>3162</td></tr><tr><td>111</td><td>Home Desing 3D (1998)</td><td>4287</td></tr><tr><td>112</td><td>Hupikék törpikék: teletransportörp (1999)</td><td>3110</td></tr><tr><td>113</td><td>Informatika - Internet - Iskola</td><td>3733</td></tr><tr><td>114</td><td>Interaktív angol nyelvész kurzus haladó szint 1-5.</td><td>4592</td></tr><tr><td>115</td><td>Interaktív angol nyelvész kurzus kezdő szint</td><td>4183</td></tr><tr><td>116</td><td>Interaktív angol nyelvész kurzus középhaladó szint</td><td>3115</td></tr><tr><td>117</td><td>Interaktív magyar nyelvtan</td><td>4779</td></tr><tr><td>118</td><td>International Rally Championship</td><td>3890</td></tr><tr><td>119</td><td>Internet (1996)</td><td>4934</td></tr><tr><td>120</td><td>Introduction to Archeology</td><td>3773</td></tr><tr><td>121</td><td>Investigating 20th Century Art (1994)</td><td>4394</td></tr><tr><td>122</td><td>Az ipari forradalom kora (2000)</td><td>5082</td></tr><tr><td>123</td><td>Irodalmi arcképcsarnok</td><td>3866</td></tr><tr><td>124</td><td>Irodalom  felkészítő az érettségi és felvételi vizsgára</td><td>5654</td></tr><tr><td>125</td><td>Irodalom (1998)</td><td>5625</td></tr><tr><td>126</td><td>Italiano (1998) + Installation</td><td>5436</td></tr><tr><td>127</td><td>Italiano 1-2. (1998) + Installation</td><td>6082</td></tr><tr><td>128</td><td>Italiano 1-2. (1998) + Installation</td><td>3419</td></tr><tr><td>129</td><td>Jancsó</td><td>4204</td></tr><tr><td>130</td><td>Japán : képes kulturális atlasz (2001)</td><td>4459</td></tr><tr><td>131</td><td>Játékfilmek 1963-tól napjainkig</td><td>3138</td></tr><tr><td>132</td><td>Játszóház (1998)</td><td>5299</td></tr><tr><td>133</td><td>Jókai összes művei (2001)</td><td>4768</td></tr><tr><td>134</td><td>József Attila (1998)</td><td>3870</td></tr><tr><td>135</td><td>A jövő titkai - Interaktív horoszkóp (1998)</td><td>6072</td></tr><tr><td>136</td><td>Kártyaváros</td><td>3107</td></tr><tr><td>137</td><td>Kémia Kalauz 2.</td><td>5094</td></tr><tr><td>138</td><td>A kémkedés és a hírszerzés története (2002)</td><td>5845</td></tr><tr><td>139</td><td>Képes krónika (1996)</td><td>3931</td></tr><tr><td>140</td><td>Képtárak (1995)</td><td>5408</td></tr><tr><td>141</td><td>Kereszt és félhold</td><td>4302</td></tr><tr><td>142</td><td>Kétfejű sas: A Habsburg-uralom Magyarországon (1699-1790)</td><td>5459</td></tr><tr><td>143</td><td>Kettős kötődés: Az Osztrák-Magyar Monarchia (1867-1918)</td><td>4829</td></tr><tr><td>144</td><td>Kínai falatok</td><td>4550</td></tr><tr><td>145</td><td>Királyi könyvek 1-9. kötet</td><td>3256</td></tr><tr><td>146</td><td>Királyi könyvek 18-26. kötet</td><td>5507</td></tr><tr><td>147</td><td>Királyi könyvek 27-38. kötet : 1703-1740 (2002)</td><td>5476</td></tr><tr><td>148</td><td>Kispál és a borz (1998)</td><td>5730</td></tr><tr><td>149</td><td>Kossuth Lajos összes munkái (2002)</td><td>4589</td></tr><tr><td>150</td><td>Környezetvédelmi kalauz (1999)</td><td>5508</td></tr><tr><td>151</td><td>Kötelező olvasmányok könyvtára 1. (2002)</td><td>3594</td></tr><tr><td>152</td><td>A kőszívű ember fiai - Egri csillagok</td><td>5538</td></tr><tr><td>153</td><td>A kutyák: A család kedvencei</td><td>4963</td></tr><tr><td>154</td><td>Kutyatár</td><td>5235</td></tr><tr><td>155</td><td>KvízIQ : A hét világcsoda (2001)</td><td>3451</td></tr><tr><td>156</td><td>Lakáskultúra 2000 (2000)</td><td>5847</td></tr><tr><td>157</td><td>Lakáskultúra 1999 (1999)</td><td>5414</td></tr><tr><td>158</td><td>Lakáskultúra 1998 (1998)</td><td>5491</td></tr><tr><td>159</td><td>Lakáskultúra 1997 (1997)</td><td>3419</td></tr><tr><td>160</td><td>Lakáskultúra 1996 (1996)</td><td>4209</td></tr><tr><td>161</td><td>Lands of Lore II. 1-4. (1997)</td><td>4312</td></tr><tr><td>162</td><td>Landscape Design 3D (1998)</td><td>4951</td></tr><tr><td>163</td><td>Legféltettebb természeti értékeink</td><td>5083</td></tr><tr><td>164</td><td>Legszebb vadnövényeink</td><td>4438</td></tr><tr><td>165</td><td>Leonardo da Vinci</td><td>5118</td></tr><tr><td>166</td><td>Lilenthal Andor sakkjátszmái</td><td>3644</td></tr><tr><td>167</td><td>Lopva angolul /English by Stealth 1.</td><td>5431</td></tr><tr><td>168</td><td>Lopva angolul /English by Stealth 2.</td><td>4597</td></tr><tr><td>169</td><td>Lopva angolul /English by Stealth 3.</td><td>4851</td></tr><tr><td>170</td><td>Lovagkirályok (1301-1437) (1997)</td><td>4368</td></tr><tr><td>171</td><td>LoveQ, SexQ : szerelmi intelligencia (2001)</td><td>3626</td></tr><tr><td>172</td><td>M1 Tank (1998)</td><td>5981</td></tr><tr><td>173</td><td>Mackó úr (2002)</td><td>4632</td></tr><tr><td>174</td><td>Madárdalos kirándulások - Madártani oktató CD-ROM (1999)</td><td>3408</td></tr><tr><td>175</td><td>Magyar bélyegek katalógusa</td><td>4035</td></tr><tr><td>176</td><td>Magyar fontok '97</td><td>3845</td></tr><tr><td>177</td><td>A Magyar Koronázási Jelvények</td><td>4122</td></tr><tr><td>178</td><td>Magyar nyelv és irodalom</td><td>4704</td></tr><tr><td>179</td><td>Magyar színházművészet a világban</td><td>5158</td></tr><tr><td>180</td><td>Magyarország, 1944-1956 (2001)</td><td>4921</td></tr><tr><td>181</td><td>Magyarország, 1944-1956 (2001)</td><td>3673</td></tr><tr><td>182</td><td>Magyarország Nemzeti Parkjai I.</td><td>3348</td></tr><tr><td>183</td><td>Magyarország Nemzeti Parkjai II.</td><td>3377</td></tr><tr><td>184</td><td>Magyarországi várak (1998)</td><td>5459</td></tr><tr><td>185</td><td>Mahjongg Master (1998)</td><td>5423</td></tr><tr><td>186</td><td>Manó Angol 1.</td><td>5852</td></tr><tr><td>187</td><td>Manó Angol 1. (2002)</td><td>6051</td></tr><tr><td>188</td><td>Manó Angol 2.</td><td>5353</td></tr><tr><td>189</td><td>Manó Angol 2. (2000)</td><td>6068</td></tr><tr><td>190</td><td>Manó Élővilág</td><td>3474</td></tr><tr><td>191</td><td>Manó Élővilág (2002)</td><td>4881</td></tr><tr><td>192</td><td>Manó IQ (2001)</td><td>5383</td></tr><tr><td>193</td><td>Manó Kaland (2002)</td><td>5967</td></tr><tr><td>194</td><td>Manó Magyarország (2002)</td><td>4150</td></tr><tr><td>195</td><td>Manó Matek 1.</td><td>5995</td></tr><tr><td>196</td><td>Manó Matek 1. (2002)</td><td>5396</td></tr><tr><td>197</td><td>Manó Matek 2. (1999)</td><td>5568</td></tr><tr><td>198</td><td>Manó Matek 2. (1999)</td><td>3536</td></tr><tr><td>199</td><td>Manó Matek 3.</td><td>4803</td></tr><tr><td>200</td><td>Manó Muzsika</td><td>4996</td></tr><tr><td>201</td><td>Manó Muzsika</td><td>3391</td></tr><tr><td>202</td><td>Manó Német 2.</td><td>4642</td></tr><tr><td>203</td><td>Manó Olvasás 1.</td><td>5845</td></tr><tr><td>204</td><td>Manó Puzzle (2002)</td><td>6078</td></tr><tr><td>205</td><td>Matematika (1998)</td><td>3105</td></tr><tr><td>206</td><td>Matematika felkészítő az érettségi és felvételi vizsgára</td><td>4616</td></tr><tr><td>207</td><td>Matematika kalauz (1997)</td><td>3315</td></tr><tr><td>208</td><td>Mig-29 (1998)</td><td>5040</td></tr><tr><td>209</td><td>Mikszáth Kálmán összes művei</td><td>4786</td></tr><tr><td>210</td><td>Mini Manó Tavasz</td><td>4727</td></tr><tr><td>211</td><td>MoBi Mouse: A fordító egér</td><td>5036</td></tr><tr><td>212</td><td>Monopoly Junior</td><td>3974</td></tr><tr><td>213</td><td>Mons Sacer Pannoniae (2001)</td><td>4410</td></tr><tr><td>214</td><td>Moving Puzzle Action Flight (2000)</td><td>5477</td></tr><tr><td>215</td><td>Multimédiás Menedzsment Könyvtár 1. - Változásmenedzsment</td><td>6057</td></tr><tr><td>216</td><td>Multimédiás Menedzsment Könyvtár 2. - Önszervezés</td><td>3279</td></tr><tr><td>217</td><td>Musique! (1997)</td><td>5336</td></tr><tr><td>218</td><td>Művészet és mesterség</td><td>6098</td></tr><tr><td>219</td><td>Művészet és művészek (2002)</td><td>3490</td></tr><tr><td>220</td><td>Nagy képes világtörténet (Matczáli Henrik) (1998)</td><td>4387</td></tr><tr><td>221</td><td>Nagy vicc tár</td><td>5573</td></tr><tr><td>222</td><td>A Nagybányai Festőiskola (1998)</td><td>4877</td></tr><tr><td>223</td><td>NASA 1.</td><td>5968</td></tr><tr><td>224</td><td>NASA 2.</td><td>4147</td></tr><tr><td>225</td><td>Na, So Was? - Minden helyzetben otthonosan</td><td>3600</td></tr><tr><td>226</td><td>Német : 8-10 éveseknek (2002)</td><td>3754</td></tr><tr><td>227</td><td>Német szótanító CD-ROM</td><td>3313</td></tr><tr><td>228</td><td>Németh László összes műve</td><td>4497</td></tr><tr><td>229</td><td>New York : a tragédiák városa (2001)</td><td>3723</td></tr><tr><td>230</td><td>NHL 2001</td><td>5242</td></tr><tr><td>231</td><td>Nincs királyi út - A matematika kultúrtörténete</td><td>4353</td></tr><tr><td>232</td><td>Nyelvész : Angol és német haladóknak (1997)</td><td>3522</td></tr><tr><td>233</td><td>Nyelvtan összefoglaló : érettségi előkészítő (2002)</td><td>3688</td></tr><tr><td>234</td><td>Az óceán világa - Maldiv szigetek (2000)</td><td>5833</td></tr><tr><td>235</td><td>Ókori lexikon</td><td>3122</td></tr><tr><td>236</td><td>Olasz-magyar, magyar-olasz digitális szótár</td><td>4107</td></tr><tr><td>237</td><td>Olasz szótanító CD-ROM</td><td>5108</td></tr><tr><td>238</td><td>Orosz (1998)</td><td>6009</td></tr><tr><td>239</td><td>Orosz-magyar nagyszótár</td><td>4666</td></tr><tr><td>240</td><td>Az Országos Széchényi Könyvtár corvinái, 2002 (2002)</td><td>4753</td></tr><tr><td>241</td><td>Az Osztrák-Magyar Monarchia írásban és képekben (2001)</td><td>4359</td></tr><tr><td>242</td><td>Paddle Bash (2001)</td><td>3937</td></tr><tr><td>243</td><td>Pannon Enciklopédia (1998)</td><td>4606</td></tr><tr><td>244</td><td>Pannonhalmi Főapátság (2001)</td><td>5817</td></tr><tr><td>245</td><td>Panzer General III: Scorched Earth (2000)</td><td>6058</td></tr><tr><td>246</td><td>People's General (1998)</td><td>5623</td></tr><tr><td>247</td><td>Petőfi Sándor: Arany Lacinak (2002)</td><td>5488</td></tr><tr><td>248</td><td>Petőfi Sándor összes költeményei</td><td>3782</td></tr><tr><td>249</td><td>Plane Crazy</td><td>5011</td></tr><tr><td>250</td><td>Quake III. (2001)</td><td>3144</td></tr><tr><td>251</td><td>Rákóczi-szabadságharc</td><td>4778</td></tr><tr><td>252</td><td>Rally Championship</td><td>3106</td></tr><tr><td>253</td><td>Rayman: Matek és olvasás</td><td>4484</td></tr><tr><td>254</td><td>Re-Volt (1999)</td><td>3989</td></tr><tr><td>255</td><td>The Settlers III. 1-2. (1998)</td><td>4267</td></tr><tr><td>256</td><td>The Settlers IV. (2001)</td><td>4143</td></tr><tr><td>257</td><td>Shanghai (1997)</td><td>5900</td></tr><tr><td>258</td><td>The Sims</td><td>4043</td></tr><tr><td>259</td><td>Sonic Racer</td><td>3450</td></tr><tr><td>260</td><td>Spanyol (1997)</td><td>3775</td></tr><tr><td>261</td><td>Spanyol-magyar szótár</td><td>5734</td></tr><tr><td>262</td><td>Star Wars: Battle for Naboo</td><td>3520</td></tr><tr><td>263</td><td>Star Wars: Force Commander (2001)</td><td>5785</td></tr><tr><td>264</td><td>Star Wars : Rogue Squadron 3D</td><td>5803</td></tr><tr><td>265</td><td>Supreme Snowboarding</td><td>4151</td></tr><tr><td>266</td><td>Szabadítsd ki a kisoroszlánt!</td><td>5537</td></tr><tr><td>267</td><td>Szabadságharc 1848-49 (1988)</td><td>6060</td></tr><tr><td>268</td><td>A szabadságharc népzenei emlékei</td><td>5187</td></tr><tr><td>269</td><td>Szolfézs: Kezdőknek és haladóknak</td><td>4492</td></tr><tr><td>270</td><td>Talk To Me Deutsch 2-4.</td><td>5990</td></tr><tr><td>271</td><td>Talk To Me English 1.</td><td>4743</td></tr><tr><td>272</td><td>Talk To Me Francais 1-2.</td><td>4973</td></tr><tr><td>273</td><td>Tankok, tüzérség (2002)</td><td>6084</td></tr><tr><td>274</td><td>Tanulj tovább! 2000 (2000)</td><td>4310</td></tr><tr><td>275</td><td>Táplálkozás, életmód mesterfokon (2002)</td><td>4480</td></tr><tr><td>276</td><td>Target English (1998)</td><td>6061</td></tr><tr><td>277</td><td>Tarzan</td><td>3737</td></tr><tr><td>278</td><td>Terrorizmus (2002)</td><td>4877</td></tr><tr><td>279</td><td>Testbeszéd (1998)</td><td>5382</td></tr><tr><td>280</td><td>Tesztre készen: angol (1998)</td><td>4157</td></tr><tr><td>281</td><td>Tesztre készen: német (1998)</td><td>4566</td></tr><tr><td>282</td><td>Thaiföldi ízek (1999)</td><td>5250</td></tr><tr><td>283</td><td>Timeshock!</td><td>5159</td></tr><tr><td>284</td><td>Tomi megmenti a tengert (2000)</td><td>4325</td></tr><tr><td>285</td><td>Touché - The Adventures of the Fifth</td><td>4548</td></tr><tr><td>286</td><td>Toy Story 2.</td><td>3809</td></tr><tr><td>287</td><td>Történelem (1998)</td><td>3737</td></tr><tr><td>288</td><td>Történelem : 10-14 éveseknek (2002)</td><td>3737</td></tr><tr><td>289</td><td>Történelem : középiskola 1. osztály (2002)</td><td>3736</td></tr><tr><td>290</td><td>Történelem : középiskola 4. osztály (2002)</td><td>5635</td></tr><tr><td>291</td><td>Traffic Giant</td><td>4385</td></tr><tr><td>292</td><td>Train Simulator (2002)</td><td>5428</td></tr><tr><td>293</td><td>Trickstyle</td><td>4651</td></tr><tr><td>294</td><td>A tudás próbája (2001)</td><td>5461</td></tr><tr><td>295</td><td>Turul : 1883-1900 (2002)</td><td>5238</td></tr><tr><td>296</td><td>UEFA Champions Leage Season</td><td>5522</td></tr><tr><td>297</td><td>Új Könyvek 1994-2000 (2002)</td><td>6024</td></tr><tr><td>298</td><td>Az Univerzum története</td><td>3654</td></tr><tr><td>299</td><td>Utazás a csillagok között (1998)</td><td>5705</td></tr><tr><td>300</td><td>Utazás a Naprendszerben</td><td>3582</td></tr><tr><td>301</td><td>Utazás a Naprendszerben 2.</td><td>5992</td></tr><tr><td>302</td><td>Úton 2. (1998)</td><td>5476</td></tr><tr><td>303</td><td>Üzleti protokoll CD (2002)</td><td>4891</td></tr><tr><td>304</td><td>Várak, kastélyok, legendák 1.</td><td>4237</td></tr><tr><td>305</td><td>Várak, kastélyok, legendák 2. (2002)</td><td>3313</td></tr><tr><td>306</td><td>A varázslatos emberi test (1998)</td><td>4863</td></tr><tr><td>307</td><td>Varázslatos szülinap</td><td>5712</td></tr><tr><td>308</td><td>Varázslatos történelmi nyomozás</td><td>4395</td></tr><tr><td>309</td><td>A városi élet a Római Birodalomban (1999)</td><td>5749</td></tr><tr><td>310</td><td>A Vazul-ág (1038-1301) (1997)</td><td>4060</td></tr><tr><td>311</td><td>Világatlasz '99 (1998)</td><td>5399</td></tr><tr><td>312</td><td>Világatlasz '99 (1998)</td><td>5202</td></tr><tr><td>313</td><td>Világatlasz (2001)</td><td>3446</td></tr><tr><td>314</td><td>Világirodalom : Az ókortól napjainkig (2001)</td><td>3595</td></tr><tr><td>315</td><td>Volt egyszer egy Magyarország</td><td>5302</td></tr><tr><td>316</td><td>Warcraft III. (2002)</td><td>5774</td></tr><tr><td>317</td><td>William Shakespeare összes művei</td><td>4437</td></tr><tr><td>318</td><td>Zielpunkt Deutsch (1997)</td><td>4144</td></tr><tr><td>319</td><td>Zöld Ödön a földgömbön</td><td>6065</td></tr></table>"
                    },
                    "metadata": {}
                }
            ],
            "execution_count": 1
        },
        {
            "cell_type": "markdown",
            "source": [
                "2. Melyek azok a kölcsönzések, amelyek 2005.01.01 és 2007.01.01 között történtek?"
            ],
            "metadata": {
                "azdata_cell_guid": "88f5b4bb-f4c1-4bad-a0c7-b2592687b422"
            },
            "attachments": {}
        },
        {
            "cell_type": "code",
            "source": [
                "SELECT *\r\n",
                "FROM kolcsonzesek\r\n",
                "WHERE -- ki_datum legyen 2005.01.01. utáni, és 2007.01.01 előtti\r\n",
                "    ki_datum > '2005.01.01' AND ki_datum < '2007.01.01'"
            ],
            "metadata": {
                "azdata_cell_guid": "e9de5726-f036-4fb9-8c33-a873955ed886",
                "language": "sql"
            },
            "outputs": [
                {
                    "output_type": "display_data",
                    "data": {
                        "text/html": "(2 rows affected)"
                    },
                    "metadata": {}
                },
                {
                    "output_type": "display_data",
                    "data": {
                        "text/html": "Total execution time: 00:00:00.004"
                    },
                    "metadata": {}
                },
                {
                    "output_type": "execute_result",
                    "execution_count": 2,
                    "data": {
                        "application/vnd.dataresource+json": {
                            "schema": {
                                "fields": [
                                    {
                                        "name": "ID"
                                    },
                                    {
                                        "name": "ki"
                                    },
                                    {
                                        "name": "mit"
                                    },
                                    {
                                        "name": "ki_datum"
                                    },
                                    {
                                        "name": "vissza_datum"
                                    }
                                ]
                            },
                            "data": [
                                {
                                    "ID": "13",
                                    "ki": "1",
                                    "mit": "3",
                                    "ki_datum": "2006-10-01",
                                    "vissza_datum": "2006-10-10"
                                },
                                {
                                    "ID": "14",
                                    "ki": "2",
                                    "mit": "3",
                                    "ki_datum": "2006-10-02",
                                    "vissza_datum": "2006-10-09"
                                }
                            ]
                        },
                        "text/html": "<table><tr><th>ID</th><th>ki</th><th>mit</th><th>ki_datum</th><th>vissza_datum</th></tr><tr><td>13</td><td>1</td><td>3</td><td>2006-10-01</td><td>2006-10-10</td></tr><tr><td>14</td><td>2</td><td>3</td><td>2006-10-02</td><td>2006-10-09</td></tr></table>"
                    },
                    "metadata": {}
                }
            ],
            "execution_count": 2
        },
        {
            "cell_type": "markdown",
            "source": [
                "3. Melyek azok a tagok, akiknek kedvenc stílusa a játék, és nevük a-ra végződik?\n",
                "\n",
                "  \n",
                "\n",
                "a.  Csak a tagok neve jelenjen meg, az oszlop neve Név legyen"
            ],
            "metadata": {
                "azdata_cell_guid": "9e7249de-1b59-43d8-84b1-26fa7d81fc5a"
            },
            "attachments": {}
        },
        {
            "cell_type": "code",
            "source": [
                "SELECT nev AS 'Név'\r\n",
                "FROM tagok\r\n",
                "WHERE kedvencstilus = 'játék' AND nev LIKE '%a'"
            ],
            "metadata": {
                "azdata_cell_guid": "6405d3e8-a9b1-45d7-aa76-3b1e785ef6cc",
                "language": "sql"
            },
            "outputs": [
                {
                    "output_type": "display_data",
                    "data": {
                        "text/html": "(2 rows affected)"
                    },
                    "metadata": {}
                },
                {
                    "output_type": "display_data",
                    "data": {
                        "text/html": "Total execution time: 00:00:00.019"
                    },
                    "metadata": {}
                },
                {
                    "output_type": "execute_result",
                    "execution_count": 3,
                    "data": {
                        "application/vnd.dataresource+json": {
                            "schema": {
                                "fields": [
                                    {
                                        "name": "Név"
                                    }
                                ]
                            },
                            "data": [
                                {
                                    "Név": "Bodó Kinga"
                                },
                                {
                                    "Név": "Garay Magdolna"
                                }
                            ]
                        },
                        "text/html": "<table><tr><th>Név</th></tr><tr><td>Bodó Kinga</td></tr><tr><td>Garay Magdolna</td></tr></table>"
                    },
                    "metadata": {}
                }
            ],
            "execution_count": 3
        },
        {
            "cell_type": "markdown",
            "source": [
                "4. Listázzuk egy oszlopban a tagok nevét, címét és kedvenc stílusát összefűzve! \n",
                "\n",
                "  \n",
                "\n",
                "a.  A nevet, címet és a stílust kötőjellel válasszuk el\n",
                "\n",
                "b.  A kötőjelek előtt és után legyen 1-1 szóköz\n",
                "\n",
                "c.  Az oszlop neve legyen TAG\n",
                "\n",
                "d.  Kinga keresztnevű tagok ne legyenek benne a listában"
            ],
            "metadata": {
                "azdata_cell_guid": "6478e469-c094-472c-a772-ccd5b5c61516"
            },
            "attachments": {}
        },
        {
            "cell_type": "code",
            "source": [
                "SELECT nev+' - '+cim+' - '+kedvencstilus AS 'TAG'\r\n",
                "FROM tagok\r\n",
                "WHERE nev NOT LIKE '%Kinga'"
            ],
            "metadata": {
                "azdata_cell_guid": "02031ea2-3838-458d-839c-228e3b362b61",
                "language": "sql",
                "tags": []
            },
            "outputs": [
                {
                    "output_type": "display_data",
                    "data": {
                        "text/html": "(15 rows affected)"
                    },
                    "metadata": {}
                },
                {
                    "output_type": "display_data",
                    "data": {
                        "text/html": "Total execution time: 00:00:00.003"
                    },
                    "metadata": {}
                },
                {
                    "output_type": "execute_result",
                    "execution_count": 14,
                    "data": {
                        "application/vnd.dataresource+json": {
                            "schema": {
                                "fields": [
                                    {
                                        "name": "TAG"
                                    }
                                ]
                            },
                            "data": [
                                {
                                    "TAG": "Bakk Csaba József - Ulászló u. 22. - játék"
                                },
                                {
                                    "TAG": "Kollár Zsófia - Tenkes u. 7/a I/4. - történelem"
                                },
                                {
                                    "TAG": "Mohai Mónika - Pasaréti út 23. - történelem"
                                },
                                {
                                    "TAG": "Ivicsics Miklós - Mészöly u. 4.  - sport"
                                },
                                {
                                    "TAG": "Braiwish Dalal-Brigitte - Kosztolányi tér 7. - földrajz"
                                },
                                {
                                    "TAG": "Hajnáczky Gábor - Kende u. 14. - történelem"
                                },
                                {
                                    "TAG": "Lázár Gergely - Halom u. 15. - játék"
                                },
                                {
                                    "TAG": "Göttinger Pál - Forrás tér 14. - sport"
                                },
                                {
                                    "TAG": "Bernáth Margit - Felsővár u. 55/c - történelem"
                                },
                                {
                                    "TAG": "Garay Magdolna - Bartók B. út 66. - játék"
                                },
                                {
                                    "TAG": "Ligeti Orsolya - Bartók B. u. 61. I/6. - sport"
                                },
                                {
                                    "TAG": "Király Róbert - Bajcsy Zs. u. 19/b - földrajz"
                                },
                                {
                                    "TAG": "Burai-Kovács Anikó - Bajcsy u. 1. - sport"
                                },
                                {
                                    "TAG": "Czimmermann Zsolt - Árpád u. 3. - földrajz"
                                },
                                {
                                    "TAG": "Boronkay Péter - Ábel Jenő  u. 31. - földrajz"
                                }
                            ]
                        },
                        "text/html": "<table><tr><th>TAG</th></tr><tr><td>Bakk Csaba József - Ulászló u. 22. - játék</td></tr><tr><td>Kollár Zsófia - Tenkes u. 7/a I/4. - történelem</td></tr><tr><td>Mohai Mónika - Pasaréti út 23. - történelem</td></tr><tr><td>Ivicsics Miklós - Mészöly u. 4.  - sport</td></tr><tr><td>Braiwish Dalal-Brigitte - Kosztolányi tér 7. - földrajz</td></tr><tr><td>Hajnáczky Gábor - Kende u. 14. - történelem</td></tr><tr><td>Lázár Gergely - Halom u. 15. - játék</td></tr><tr><td>Göttinger Pál - Forrás tér 14. - sport</td></tr><tr><td>Bernáth Margit - Felsővár u. 55/c - történelem</td></tr><tr><td>Garay Magdolna - Bartók B. út 66. - játék</td></tr><tr><td>Ligeti Orsolya - Bartók B. u. 61. I/6. - sport</td></tr><tr><td>Király Róbert - Bajcsy Zs. u. 19/b - földrajz</td></tr><tr><td>Burai-Kovács Anikó - Bajcsy u. 1. - sport</td></tr><tr><td>Czimmermann Zsolt - Árpád u. 3. - földrajz</td></tr><tr><td>Boronkay Péter - Ábel Jenő  u. 31. - földrajz</td></tr></table>"
                    },
                    "metadata": {}
                }
            ],
            "execution_count": 14
        },
        {
            "cell_type": "markdown",
            "source": [
                "5. Mennyi lenne a dvd-k nettó ára, ha 20%-kal csökkenne? \n",
                "\n",
                "  \n",
                "\n",
                "a.  Csak a dvd-k címét és a csökkentett árat jelenítsük meg\n",
                "\n",
                "b.  A csökkentett árat nevezzük el diszkont\\_ar-nak"
            ],
            "metadata": {
                "azdata_cell_guid": "9edbbaf9-c276-4898-9a01-e1b2993c089f"
            },
            "attachments": {}
        },
        {
            "cell_type": "code",
            "source": [
                "SELECT cim,\r\n",
                "    nettoar * 0.8 AS 'diszkont ár'\r\n",
                "FROM dvd\r\n",
                ""
            ],
            "metadata": {
                "azdata_cell_guid": "5ad5fdcb-2878-4111-861a-833bcd50e935",
                "language": "sql"
            },
            "outputs": [
                {
                    "output_type": "display_data",
                    "data": {
                        "text/html": "(318 rows affected)"
                    },
                    "metadata": {}
                },
                {
                    "output_type": "display_data",
                    "data": {
                        "text/html": "Total execution time: 00:00:00.007"
                    },
                    "metadata": {}
                },
                {
                    "output_type": "execute_result",
                    "execution_count": 15,
                    "data": {
                        "application/vnd.dataresource+json": {
                            "schema": {
                                "fields": [
                                    {
                                        "name": "cim"
                                    },
                                    {
                                        "name": "diszkont ár"
                                    }
                                ]
                            },
                            "data": [
                                {
                                    "cim": "NULL",
                                    "diszkont ár": "3087,2000000000003"
                                },
                                {
                                    "cim": "A II. világháború története (1999)",
                                    "diszkont ár": "3395,2000000000003"
                                },
                                {
                                    "cim": "3D Dinosaur - adventure",
                                    "diszkont ár": "4032,8"
                                },
                                {
                                    "cim": "3D virtuális origami (2000)",
                                    "diszkont ár": "4284"
                                },
                                {
                                    "cim": "Az 1848-1849-iki szabadságharc története (2002)",
                                    "diszkont ár": "4560"
                                },
                                {
                                    "cim": "Ablak zsiráf (1999)",
                                    "diszkont ár": "2832"
                                },
                                {
                                    "cim": "Ady Endre összes művei (1999)",
                                    "diszkont ár": "3392,8"
                                },
                                {
                                    "cim": "Afrika",
                                    "diszkont ár": "4254,400000000001"
                                },
                                {
                                    "cim": "Age of Empires (2000)",
                                    "diszkont ár": "3585,6000000000004"
                                },
                                {
                                    "cim": "Airport Inc.",
                                    "diszkont ár": "3448,8"
                                },
                                {
                                    "cim": "American Rodeo : BullRider 2000 (2001)",
                                    "diszkont ár": "4472,8"
                                },
                                {
                                    "cim": "Angol : 8-10 éveseknek (2002)",
                                    "diszkont ár": "3882,4"
                                },
                                {
                                    "cim": "Angol és német nyelvtani gyakorlatok (2002)",
                                    "diszkont ár": "3924,8"
                                },
                                {
                                    "cim": "Angol szótanító CD-ROM",
                                    "diszkont ár": "3559,2000000000003"
                                },
                                {
                                    "cim": "Angol szótanító CD-ROM",
                                    "diszkont ár": "3555,2000000000003"
                                },
                                {
                                    "cim": "Angol szótár (1996)",
                                    "diszkont ár": "2807,2000000000003"
                                },
                                {
                                    "cim": "Angol-magyar, Magyar-angol hangosszótár",
                                    "diszkont ár": "4120,8"
                                },
                                {
                                    "cim": "Angol-magyar nagyszótár (Halász Előd)",
                                    "diszkont ár": "4510,400000000001"
                                },
                                {
                                    "cim": "Az áramvonalas fakanál",
                                    "diszkont ár": "4564,8"
                                },
                                {
                                    "cim": "Arany János: A bajusz (2002)",
                                    "diszkont ár": "2712,8"
                                },
                                {
                                    "cim": "Az Árpád-ház története",
                                    "diszkont ár": "4017,6000000000004"
                                },
                                {
                                    "cim": "Art Attack (1998)",
                                    "diszkont ár": "3131,2000000000003"
                                },
                                {
                                    "cim": "Art puzzle (1998)",
                                    "diszkont ár": "4628,8"
                                },
                                {
                                    "cim": "Az ásványok világa",
                                    "diszkont ár": "4499,2"
                                },
                                {
                                    "cim": "Ausztrália",
                                    "diszkont ár": "4260,8"
                                },
                                {
                                    "cim": "Auto 2000 - Kerékvilág",
                                    "diszkont ár": "3570,4"
                                },
                                {
                                    "cim": "Ázsia (2000)",
                                    "diszkont ár": "2498,4"
                                },
                                {
                                    "cim": "Biblia (1995)",
                                    "diszkont ár": "3552"
                                },
                                {
                                    "cim": "Biológia '97",
                                    "diszkont ár": "4434,400000000001"
                                },
                                {
                                    "cim": "Biológia (2000)",
                                    "diszkont ár": "3055,2000000000003"
                                },
                                {
                                    "cim": "Biológia (2001)",
                                    "diszkont ár": "3033,6000000000004"
                                },
                                {
                                    "cim": "Biológia : 12-14 éveseknek (2003)",
                                    "diszkont ár": "2785,6000000000004"
                                },
                                {
                                    "cim": "Blinky Bill : A fantasztikus léggömbkaland",
                                    "diszkont ár": "3260,8"
                                },
                                {
                                    "cim": "Broken Sword II. (cop. 1997)",
                                    "diszkont ár": "3601,6000000000004"
                                },
                                {
                                    "cim": "Budapest kalauz",
                                    "diszkont ár": "3243,2000000000003"
                                },
                                {
                                    "cim": "Budapest Museum",
                                    "diszkont ár": "4233,6"
                                },
                                {
                                    "cim": "Buggy",
                                    "diszkont ár": "4664"
                                },
                                {
                                    "cim": "Byte Magyarország (2002)",
                                    "diszkont ár": "2621,6000000000004"
                                },
                                {
                                    "cim": "Caesar III.",
                                    "diszkont ár": "3308,8"
                                },
                                {
                                    "cim": "Capitalism II. (2001)",
                                    "diszkont ár": "4849,6"
                                },
                                {
                                    "cim": "Capitalism Plus",
                                    "diszkont ár": "4024"
                                },
                                {
                                    "cim": "Castle Explorer",
                                    "diszkont ár": "2965,6000000000004"
                                },
                                {
                                    "cim": "CD Panoráma 1-4. (1998)",
                                    "diszkont ár": "4337,6"
                                },
                                {
                                    "cim": "Computer iskola (1998)",
                                    "diszkont ár": "4208"
                                },
                                {
                                    "cim": "Csizmás kandúr (1998)",
                                    "diszkont ár": "4745,6"
                                },
                                {
                                    "cim": "Csodálatos univerzum (1997)",
                                    "diszkont ár": "3269,6000000000004"
                                },
                                {
                                    "cim": "Dél-Amerika (1999)",
                                    "diszkont ár": "3199,2000000000003"
                                },
                                {
                                    "cim": "Dementia 1-5. (1997)",
                                    "diszkont ár": "4735,2"
                                },
                                {
                                    "cim": "Deutsch: Anfanger (kezdő) + Telepítő ",
                                    "diszkont ár": "4506,400000000001"
                                },
                                {
                                    "cim": "Deutsch: Fortgeschrittene (haladó) + Installation",
                                    "diszkont ár": "4627,2"
                                },
                                {
                                    "cim": "Deutsch: Mittelstufe (középhaladó)+ Telepítő",
                                    "diszkont ár": "3501,6000000000004"
                                },
                                {
                                    "cim": "Diablo",
                                    "diszkont ár": "4775,2"
                                },
                                {
                                    "cim": "Diablo II. (2000)",
                                    "diszkont ár": "3920"
                                },
                                {
                                    "cim": "Dicső napok és hétköznapok 1848 - Digitális forrásgyűjtemény 1.",
                                    "diszkont ár": "4488,8"
                                },
                                {
                                    "cim": "Dreams to Reality 1-2. (1997)",
                                    "diszkont ár": "3759,2000000000003"
                                },
                                {
                                    "cim": "Duke Nukem 3D",
                                    "diszkont ár": "4379,2"
                                },
                                {
                                    "cim": "Dungeon Keeper 2. (1999)",
                                    "diszkont ár": "2695,2000000000003"
                                },
                                {
                                    "cim": "E-Games : Collector's Edition (2001)",
                                    "diszkont ár": "4466,400000000001"
                                },
                                {
                                    "cim": "Éléstár (1998)",
                                    "diszkont ár": "2606,4"
                                },
                                {
                                    "cim": "Élet a polgárosodó Magyarországon (2001)",
                                    "diszkont ár": "4457,6"
                                },
                                {
                                    "cim": "Életképek 1848 (1998)",
                                    "diszkont ár": "3368,8"
                                },
                                {
                                    "cim": "Az ember tragédiája",
                                    "diszkont ár": "3436"
                                },
                                {
                                    "cim": "Encarta World Atlas '99 1-2. (1998)",
                                    "diszkont ár": "4267,2"
                                },
                                {
                                    "cim": "Enemy Engaged RAH-66",
                                    "diszkont ár": "4173,6"
                                },
                                {
                                    "cim": "English 1-2. + Telepítő",
                                    "diszkont ár": "4172"
                                },
                                {
                                    "cim": "English: Intermediate (haladó)",
                                    "diszkont ár": "2901,6000000000004"
                                },
                                {
                                    "cim": "English by Stealth  lásd: Lopva angolul",
                                    "diszkont ár": "3582,4"
                                },
                                {
                                    "cim": "Erdély (1996)",
                                    "diszkont ár": "3999,2000000000003"
                                },
                                {
                                    "cim": "Espanol: Intermedio + Telepítő",
                                    "diszkont ár": "3131,2000000000003"
                                },
                                {
                                    "cim": "Espanol: Principiante + Telepítő",
                                    "diszkont ár": "4705,6"
                                },
                                {
                                    "cim": "Észak-Amerika",
                                    "diszkont ár": "3195,2000000000003"
                                },
                                {
                                    "cim": "Európa",
                                    "diszkont ár": "4216"
                                },
                                {
                                    "cim": "The F.A. Premier League Stars 2001",
                                    "diszkont ár": "3096,8"
                                },
                                {
                                    "cim": "Felvételi példatár : Angol",
                                    "diszkont ár": "3100,8"
                                },
                                {
                                    "cim": "Felvételi példatár : Biológia, földrajz",
                                    "diszkont ár": "2572"
                                },
                                {
                                    "cim": "Felvételi példatár : Kémia, fizika",
                                    "diszkont ár": "4680,8"
                                },
                                {
                                    "cim": "Felvételi példatár : Magyar nyelv és irodalom",
                                    "diszkont ár": "4764"
                                },
                                {
                                    "cim": "Felvételi példatár : Matematika",
                                    "diszkont ár": "4007,2000000000003"
                                },
                                {
                                    "cim": "Felvételi példatár : Német",
                                    "diszkont ár": "2481,6000000000004"
                                },
                                {
                                    "cim": "FIFA, 2000 (1999)",
                                    "diszkont ár": "4047,2000000000003"
                                },
                                {
                                    "cim": "Fighting Force (1998)",
                                    "diszkont ár": "3840"
                                },
                                {
                                    "cim": "Final Liberation (1997)",
                                    "diszkont ár": "3705,6000000000004"
                                },
                                {
                                    "cim": "Fitness mesterfokon / Béres Alexandra (2001)",
                                    "diszkont ár": "3685,6000000000004"
                                },
                                {
                                    "cim": "Fizika : 12-14 éveseknek (2002)",
                                    "diszkont ár": "2987,2000000000003"
                                },
                                {
                                    "cim": "Fizika felkészítő az érettségi és felvételi vizsgára",
                                    "diszkont ár": "3848"
                                },
                                {
                                    "cim": "Fizika világa (2001)",
                                    "diszkont ár": "4610,400000000001"
                                },
                                {
                                    "cim": "A Föld élővilága",
                                    "diszkont ár": "4720"
                                },
                                {
                                    "cim": "Földrajz: 10-14 éveseknek (2002)",
                                    "diszkont ár": "3144"
                                },
                                {
                                    "cim": "Földrajz: érettségi előkészítő (2002)",
                                    "diszkont ár": "2538,4"
                                },
                                {
                                    "cim": "Francais 1-2. + Telepítő",
                                    "diszkont ár": "3230,4"
                                },
                                {
                                    "cim": "Francais: Débutan (kezdő) + Telepítő",
                                    "diszkont ár": "3016"
                                },
                                {
                                    "cim": "Francais: Moyen + Telepítő",
                                    "diszkont ár": "4495,2"
                                },
                                {
                                    "cim": "Francia-magyar szótár",
                                    "diszkont ár": "2852,8"
                                },
                                {
                                    "cim": "Funschool in Dreamland (1995)",
                                    "diszkont ár": "3812,8"
                                },
                                {
                                    "cim": "Geolexikon 4.2 : földtani adatbázis (2002)",
                                    "diszkont ár": "3681,6000000000004"
                                },
                                {
                                    "cim": "Gépírás 2000",
                                    "diszkont ár": "3148,8"
                                },
                                {
                                    "cim": "Gondolattár: aforizmák, szállóigék",
                                    "diszkont ár": "4276,8"
                                },
                                {
                                    "cim": "GTA 2",
                                    "diszkont ár": "4004"
                                },
                                {
                                    "cim": "Hadiflották I. (2002)",
                                    "diszkont ár": "4099,2"
                                },
                                {
                                    "cim": "Hadtudományi lexikon (1998)",
                                    "diszkont ár": "2812"
                                },
                                {
                                    "cim": "Hajdúböszörmény",
                                    "diszkont ár": "3024,8"
                                },
                                {
                                    "cim": "Halak, kétéltűek, hüllők",
                                    "diszkont ár": "3322,4"
                                },
                                {
                                    "cim": "Half-Life (1996)",
                                    "diszkont ár": "4324"
                                },
                                {
                                    "cim": "Half-Life Generation: Game of the Year Edition (2002)",
                                    "diszkont ár": "2964"
                                },
                                {
                                    "cim": "Half-Life Generation: Counter Strike (2002)",
                                    "diszkont ár": "4595,2"
                                },
                                {
                                    "cim": "Half-Life Generation: Blue Shift (2002)",
                                    "diszkont ár": "4582,400000000001"
                                },
                                {
                                    "cim": "Harry Potter és a bölcsek köve (2001)",
                                    "diszkont ár": "3577,6000000000004"
                                },
                                {
                                    "cim": "Haza és haladás",
                                    "diszkont ár": "2784,8"
                                },
                                {
                                    "cim": "A hét világcsoda (2001)",
                                    "diszkont ár": "2529,6000000000004"
                                },
                                {
                                    "cim": "Home Desing 3D (1998)",
                                    "diszkont ár": "3429,6000000000004"
                                },
                                {
                                    "cim": "Hupikék törpikék: teletransportörp (1999)",
                                    "diszkont ár": "2488"
                                },
                                {
                                    "cim": "Informatika - Internet - Iskola",
                                    "diszkont ár": "2986,4"
                                },
                                {
                                    "cim": "Interaktív angol nyelvész kurzus haladó szint 1-5.",
                                    "diszkont ár": "3673,6000000000004"
                                },
                                {
                                    "cim": "Interaktív angol nyelvész kurzus kezdő szint",
                                    "diszkont ár": "3346,4"
                                },
                                {
                                    "cim": "Interaktív angol nyelvész kurzus középhaladó szint",
                                    "diszkont ár": "2492"
                                },
                                {
                                    "cim": "Interaktív magyar nyelvtan",
                                    "diszkont ár": "3823,2000000000003"
                                },
                                {
                                    "cim": "International Rally Championship",
                                    "diszkont ár": "3112"
                                },
                                {
                                    "cim": "Internet (1996)",
                                    "diszkont ár": "3947,2000000000003"
                                },
                                {
                                    "cim": "Introduction to Archeology",
                                    "diszkont ár": "3018,4"
                                },
                                {
                                    "cim": "Investigating 20th Century Art (1994)",
                                    "diszkont ár": "3515,2000000000003"
                                },
                                {
                                    "cim": "Az ipari forradalom kora (2000)",
                                    "diszkont ár": "4065,6000000000004"
                                },
                                {
                                    "cim": "Irodalmi arcképcsarnok",
                                    "diszkont ár": "3092,8"
                                },
                                {
                                    "cim": "Irodalom  felkészítő az érettségi és felvételi vizsgára",
                                    "diszkont ár": "4523,2"
                                },
                                {
                                    "cim": "Irodalom (1998)",
                                    "diszkont ár": "4500"
                                },
                                {
                                    "cim": "Italiano (1998) + Installation",
                                    "diszkont ár": "4348,8"
                                },
                                {
                                    "cim": "Italiano 1-2. (1998) + Installation",
                                    "diszkont ár": "4865,6"
                                },
                                {
                                    "cim": "Italiano 1-2. (1998) + Installation",
                                    "diszkont ár": "2735,2000000000003"
                                },
                                {
                                    "cim": "Jancsó",
                                    "diszkont ár": "3363,2000000000003"
                                },
                                {
                                    "cim": "Japán : képes kulturális atlasz (2001)",
                                    "diszkont ár": "3567,2000000000003"
                                },
                                {
                                    "cim": "Játékfilmek 1963-tól napjainkig",
                                    "diszkont ár": "2510,4"
                                },
                                {
                                    "cim": "Játszóház (1998)",
                                    "diszkont ár": "4239,2"
                                },
                                {
                                    "cim": "Jókai összes művei (2001)",
                                    "diszkont ár": "3814,4"
                                },
                                {
                                    "cim": "József Attila (1998)",
                                    "diszkont ár": "3096"
                                },
                                {
                                    "cim": "A jövő titkai - Interaktív horoszkóp (1998)",
                                    "diszkont ár": "4857,6"
                                },
                                {
                                    "cim": "Kártyaváros",
                                    "diszkont ár": "2485,6000000000004"
                                },
                                {
                                    "cim": "Kémia Kalauz 2.",
                                    "diszkont ár": "4075,2000000000003"
                                },
                                {
                                    "cim": "A kémkedés és a hírszerzés története (2002)",
                                    "diszkont ár": "4676"
                                },
                                {
                                    "cim": "Képes krónika (1996)",
                                    "diszkont ár": "3144,8"
                                },
                                {
                                    "cim": "Képtárak (1995)",
                                    "diszkont ár": "4326,400000000001"
                                },
                                {
                                    "cim": "Kereszt és félhold",
                                    "diszkont ár": "3441,6000000000004"
                                },
                                {
                                    "cim": "Kétfejű sas: A Habsburg-uralom Magyarországon (1699-1790)",
                                    "diszkont ár": "4367,2"
                                },
                                {
                                    "cim": "Kettős kötődés: Az Osztrák-Magyar Monarchia (1867-1918)",
                                    "diszkont ár": "3863,2000000000003"
                                },
                                {
                                    "cim": "Kínai falatok",
                                    "diszkont ár": "3640"
                                },
                                {
                                    "cim": "Királyi könyvek 1-9. kötet",
                                    "diszkont ár": "2604,8"
                                },
                                {
                                    "cim": "Királyi könyvek 18-26. kötet",
                                    "diszkont ár": "4405,6"
                                },
                                {
                                    "cim": "Királyi könyvek 27-38. kötet : 1703-1740 (2002)",
                                    "diszkont ár": "4380,8"
                                },
                                {
                                    "cim": "Kispál és a borz (1998)",
                                    "diszkont ár": "4584"
                                },
                                {
                                    "cim": "Kossuth Lajos összes munkái (2002)",
                                    "diszkont ár": "3671,2000000000003"
                                },
                                {
                                    "cim": "Környezetvédelmi kalauz (1999)",
                                    "diszkont ár": "4406,400000000001"
                                },
                                {
                                    "cim": "Kötelező olvasmányok könyvtára 1. (2002)",
                                    "diszkont ár": "2875,2000000000003"
                                },
                                {
                                    "cim": "A kőszívű ember fiai - Egri csillagok",
                                    "diszkont ár": "4430,400000000001"
                                },
                                {
                                    "cim": "A kutyák: A család kedvencei",
                                    "diszkont ár": "3970,4"
                                },
                                {
                                    "cim": "Kutyatár",
                                    "diszkont ár": "4188"
                                },
                                {
                                    "cim": "KvízIQ : A hét világcsoda (2001)",
                                    "diszkont ár": "2760,8"
                                },
                                {
                                    "cim": "Lakáskultúra 2000 (2000)",
                                    "diszkont ár": "4677,6"
                                },
                                {
                                    "cim": "Lakáskultúra 1999 (1999)",
                                    "diszkont ár": "4331,2"
                                },
                                {
                                    "cim": "Lakáskultúra 1998 (1998)",
                                    "diszkont ár": "4392,8"
                                },
                                {
                                    "cim": "Lakáskultúra 1997 (1997)",
                                    "diszkont ár": "2735,2000000000003"
                                },
                                {
                                    "cim": "Lakáskultúra 1996 (1996)",
                                    "diszkont ár": "3367,2000000000003"
                                },
                                {
                                    "cim": "Lands of Lore II. 1-4. (1997)",
                                    "diszkont ár": "3449,6000000000004"
                                },
                                {
                                    "cim": "Landscape Design 3D (1998)",
                                    "diszkont ár": "3960,8"
                                },
                                {
                                    "cim": "Legféltettebb természeti értékeink",
                                    "diszkont ár": "4066,4"
                                },
                                {
                                    "cim": "Legszebb vadnövényeink",
                                    "diszkont ár": "3550,4"
                                },
                                {
                                    "cim": "Leonardo da Vinci",
                                    "diszkont ár": "4094,4"
                                },
                                {
                                    "cim": "Lilenthal Andor sakkjátszmái",
                                    "diszkont ár": "2915,2000000000003"
                                },
                                {
                                    "cim": "Lopva angolul /English by Stealth 1.",
                                    "diszkont ár": "4344,8"
                                },
                                {
                                    "cim": "Lopva angolul /English by Stealth 2.",
                                    "diszkont ár": "3677,6000000000004"
                                },
                                {
                                    "cim": "Lopva angolul /English by Stealth 3.",
                                    "diszkont ár": "3880,8"
                                },
                                {
                                    "cim": "Lovagkirályok (1301-1437) (1997)",
                                    "diszkont ár": "3494,4"
                                },
                                {
                                    "cim": "LoveQ, SexQ : szerelmi intelligencia (2001)",
                                    "diszkont ár": "2900,8"
                                },
                                {
                                    "cim": "M1 Tank (1998)",
                                    "diszkont ár": "4784,8"
                                },
                                {
                                    "cim": "Mackó úr (2002)",
                                    "diszkont ár": "3705,6000000000004"
                                },
                                {
                                    "cim": "Madárdalos kirándulások - Madártani oktató CD-ROM (1999)",
                                    "diszkont ár": "2726,4"
                                },
                                {
                                    "cim": "Magyar bélyegek katalógusa",
                                    "diszkont ár": "3228"
                                },
                                {
                                    "cim": "Magyar fontok '97",
                                    "diszkont ár": "3076"
                                },
                                {
                                    "cim": "A Magyar Koronázási Jelvények",
                                    "diszkont ár": "3297,6000000000004"
                                },
                                {
                                    "cim": "Magyar nyelv és irodalom",
                                    "diszkont ár": "3763,2000000000003"
                                },
                                {
                                    "cim": "Magyar színházművészet a világban",
                                    "diszkont ár": "4126,400000000001"
                                },
                                {
                                    "cim": "Magyarország, 1944-1956 (2001)",
                                    "diszkont ár": "3936,8"
                                },
                                {
                                    "cim": "Magyarország, 1944-1956 (2001)",
                                    "diszkont ár": "2938,4"
                                },
                                {
                                    "cim": "Magyarország Nemzeti Parkjai I.",
                                    "diszkont ár": "2678,4"
                                },
                                {
                                    "cim": "Magyarország Nemzeti Parkjai II.",
                                    "diszkont ár": "2701,6000000000004"
                                },
                                {
                                    "cim": "Magyarországi várak (1998)",
                                    "diszkont ár": "4367,2"
                                },
                                {
                                    "cim": "Mahjongg Master (1998)",
                                    "diszkont ár": "4338,400000000001"
                                },
                                {
                                    "cim": "Manó Angol 1.",
                                    "diszkont ár": "4681,6"
                                },
                                {
                                    "cim": "Manó Angol 1. (2002)",
                                    "diszkont ár": "4840,8"
                                },
                                {
                                    "cim": "Manó Angol 2.",
                                    "diszkont ár": "4282,400000000001"
                                },
                                {
                                    "cim": "Manó Angol 2. (2000)",
                                    "diszkont ár": "4854,400000000001"
                                },
                                {
                                    "cim": "Manó Élővilág",
                                    "diszkont ár": "2779,2000000000003"
                                },
                                {
                                    "cim": "Manó Élővilág (2002)",
                                    "diszkont ár": "3904,8"
                                },
                                {
                                    "cim": "Manó IQ (2001)",
                                    "diszkont ár": "4306,400000000001"
                                },
                                {
                                    "cim": "Manó Kaland (2002)",
                                    "diszkont ár": "4773,6"
                                },
                                {
                                    "cim": "Manó Magyarország (2002)",
                                    "diszkont ár": "3320"
                                },
                                {
                                    "cim": "Manó Matek 1.",
                                    "diszkont ár": "4796"
                                },
                                {
                                    "cim": "Manó Matek 1. (2002)",
                                    "diszkont ár": "4316,8"
                                },
                                {
                                    "cim": "Manó Matek 2. (1999)",
                                    "diszkont ár": "4454,400000000001"
                                },
                                {
                                    "cim": "Manó Matek 2. (1999)",
                                    "diszkont ár": "2828,8"
                                },
                                {
                                    "cim": "Manó Matek 3.",
                                    "diszkont ár": "3842,4"
                                },
                                {
                                    "cim": "Manó Muzsika",
                                    "diszkont ár": "3996,8"
                                },
                                {
                                    "cim": "Manó Muzsika",
                                    "diszkont ár": "2712,8"
                                },
                                {
                                    "cim": "Manó Német 2.",
                                    "diszkont ár": "3713,6000000000004"
                                },
                                {
                                    "cim": "Manó Olvasás 1.",
                                    "diszkont ár": "4676"
                                },
                                {
                                    "cim": "Manó Puzzle (2002)",
                                    "diszkont ár": "4862,400000000001"
                                },
                                {
                                    "cim": "Matematika (1998)",
                                    "diszkont ár": "2484"
                                },
                                {
                                    "cim": "Matematika felkészítő az érettségi és felvételi vizsgára",
                                    "diszkont ár": "3692,8"
                                },
                                {
                                    "cim": "Matematika kalauz (1997)",
                                    "diszkont ár": "2652"
                                },
                                {
                                    "cim": "Mig-29 (1998)",
                                    "diszkont ár": "4032"
                                },
                                {
                                    "cim": "Mikszáth Kálmán összes művei",
                                    "diszkont ár": "3828,8"
                                },
                                {
                                    "cim": "Mini Manó Tavasz",
                                    "diszkont ár": "3781,6000000000004"
                                },
                                {
                                    "cim": "MoBi Mouse: A fordító egér",
                                    "diszkont ár": "4028,8"
                                },
                                {
                                    "cim": "Monopoly Junior",
                                    "diszkont ár": "3179,2000000000003"
                                },
                                {
                                    "cim": "Mons Sacer Pannoniae (2001)",
                                    "diszkont ár": "3528"
                                },
                                {
                                    "cim": "Moving Puzzle Action Flight (2000)",
                                    "diszkont ár": "4381,6"
                                },
                                {
                                    "cim": "Multimédiás Menedzsment Könyvtár 1. - Változásmenedzsment",
                                    "diszkont ár": "4845,6"
                                },
                                {
                                    "cim": "Multimédiás Menedzsment Könyvtár 2. - Önszervezés",
                                    "diszkont ár": "2623,2000000000003"
                                },
                                {
                                    "cim": "Musique! (1997)",
                                    "diszkont ár": "4268,8"
                                },
                                {
                                    "cim": "Művészet és mesterség",
                                    "diszkont ár": "4878,400000000001"
                                },
                                {
                                    "cim": "Művészet és művészek (2002)",
                                    "diszkont ár": "2792"
                                },
                                {
                                    "cim": "Nagy képes világtörténet (Matczáli Henrik) (1998)",
                                    "diszkont ár": "3509,6000000000004"
                                },
                                {
                                    "cim": "Nagy vicc tár",
                                    "diszkont ár": "4458,400000000001"
                                },
                                {
                                    "cim": "A Nagybányai Festőiskola (1998)",
                                    "diszkont ár": "3901,6000000000004"
                                },
                                {
                                    "cim": "NASA 1.",
                                    "diszkont ár": "4774,400000000001"
                                },
                                {
                                    "cim": "NASA 2.",
                                    "diszkont ár": "3317,6000000000004"
                                },
                                {
                                    "cim": "Na, So Was? - Minden helyzetben otthonosan",
                                    "diszkont ár": "2880"
                                },
                                {
                                    "cim": "Német : 8-10 éveseknek (2002)",
                                    "diszkont ár": "3003,2000000000003"
                                },
                                {
                                    "cim": "Német szótanító CD-ROM",
                                    "diszkont ár": "2650,4"
                                },
                                {
                                    "cim": "Németh László összes műve",
                                    "diszkont ár": "3597,6000000000004"
                                },
                                {
                                    "cim": "New York : a tragédiák városa (2001)",
                                    "diszkont ár": "2978,4"
                                },
                                {
                                    "cim": "NHL 2001",
                                    "diszkont ár": "4193,6"
                                },
                                {
                                    "cim": "Nincs királyi út - A matematika kultúrtörténete",
                                    "diszkont ár": "3482,4"
                                },
                                {
                                    "cim": "Nyelvész : Angol és német haladóknak (1997)",
                                    "diszkont ár": "2817,6000000000004"
                                },
                                {
                                    "cim": "Nyelvtan összefoglaló : érettségi előkészítő (2002)",
                                    "diszkont ár": "2950,4"
                                },
                                {
                                    "cim": "Az óceán világa - Maldiv szigetek (2000)",
                                    "diszkont ár": "4666,400000000001"
                                },
                                {
                                    "cim": "Ókori lexikon",
                                    "diszkont ár": "2497,6000000000004"
                                },
                                {
                                    "cim": "Olasz-magyar, magyar-olasz digitális szótár",
                                    "diszkont ár": "3285,6000000000004"
                                },
                                {
                                    "cim": "Olasz szótanító CD-ROM",
                                    "diszkont ár": "4086,4"
                                },
                                {
                                    "cim": "Orosz (1998)",
                                    "diszkont ár": "4807,2"
                                },
                                {
                                    "cim": "Orosz-magyar nagyszótár",
                                    "diszkont ár": "3732,8"
                                },
                                {
                                    "cim": "Az Országos Széchényi Könyvtár corvinái, 2002 (2002)",
                                    "diszkont ár": "3802,4"
                                },
                                {
                                    "cim": "Az Osztrák-Magyar Monarchia írásban és képekben (2001)",
                                    "diszkont ár": "3487,2000000000003"
                                },
                                {
                                    "cim": "Paddle Bash (2001)",
                                    "diszkont ár": "3149,6000000000004"
                                },
                                {
                                    "cim": "Pannon Enciklopédia (1998)",
                                    "diszkont ár": "3684,8"
                                },
                                {
                                    "cim": "Pannonhalmi Főapátság (2001)",
                                    "diszkont ár": "4653,6"
                                },
                                {
                                    "cim": "Panzer General III: Scorched Earth (2000)",
                                    "diszkont ár": "4846,400000000001"
                                },
                                {
                                    "cim": "People's General (1998)",
                                    "diszkont ár": "4498,400000000001"
                                },
                                {
                                    "cim": "Petőfi Sándor: Arany Lacinak (2002)",
                                    "diszkont ár": "4390,400000000001"
                                },
                                {
                                    "cim": "Petőfi Sándor összes költeményei",
                                    "diszkont ár": "3025,6000000000004"
                                },
                                {
                                    "cim": "Plane Crazy",
                                    "diszkont ár": "4008,8"
                                },
                                {
                                    "cim": "Quake III. (2001)",
                                    "diszkont ár": "2515,2000000000003"
                                },
                                {
                                    "cim": "Rákóczi-szabadságharc",
                                    "diszkont ár": "3822,4"
                                },
                                {
                                    "cim": "Rally Championship",
                                    "diszkont ár": "2484,8"
                                },
                                {
                                    "cim": "Rayman: Matek és olvasás",
                                    "diszkont ár": "3587,2000000000003"
                                },
                                {
                                    "cim": "Re-Volt (1999)",
                                    "diszkont ár": "3191,2000000000003"
                                },
                                {
                                    "cim": "The Settlers III. 1-2. (1998)",
                                    "diszkont ár": "3413,6000000000004"
                                },
                                {
                                    "cim": "The Settlers IV. (2001)",
                                    "diszkont ár": "3314,4"
                                },
                                {
                                    "cim": "Shanghai (1997)",
                                    "diszkont ár": "4720"
                                },
                                {
                                    "cim": "The Sims",
                                    "diszkont ár": "3234,4"
                                },
                                {
                                    "cim": "Sonic Racer",
                                    "diszkont ár": "2760"
                                },
                                {
                                    "cim": "Spanyol (1997)",
                                    "diszkont ár": "3020"
                                },
                                {
                                    "cim": "Spanyol-magyar szótár",
                                    "diszkont ár": "4587,2"
                                },
                                {
                                    "cim": "Star Wars: Battle for Naboo",
                                    "diszkont ár": "2816"
                                },
                                {
                                    "cim": "Star Wars: Force Commander (2001)",
                                    "diszkont ár": "4628"
                                },
                                {
                                    "cim": "Star Wars : Rogue Squadron 3D",
                                    "diszkont ár": "4642,400000000001"
                                },
                                {
                                    "cim": "Supreme Snowboarding",
                                    "diszkont ár": "3320,8"
                                },
                                {
                                    "cim": "Szabadítsd ki a kisoroszlánt!",
                                    "diszkont ár": "4429,6"
                                },
                                {
                                    "cim": "Szabadságharc 1848-49 (1988)",
                                    "diszkont ár": "4848"
                                },
                                {
                                    "cim": "A szabadságharc népzenei emlékei",
                                    "diszkont ár": "4149,6"
                                },
                                {
                                    "cim": "Szolfézs: Kezdőknek és haladóknak",
                                    "diszkont ár": "3593,6000000000004"
                                },
                                {
                                    "cim": "Talk To Me Deutsch 2-4.",
                                    "diszkont ár": "4792"
                                },
                                {
                                    "cim": "Talk To Me English 1.",
                                    "diszkont ár": "3794,4"
                                },
                                {
                                    "cim": "Talk To Me Francais 1-2.",
                                    "diszkont ár": "3978,4"
                                },
                                {
                                    "cim": "Tankok, tüzérség (2002)",
                                    "diszkont ár": "4867,2"
                                },
                                {
                                    "cim": "Tanulj tovább! 2000 (2000)",
                                    "diszkont ár": "3448"
                                },
                                {
                                    "cim": "Táplálkozás, életmód mesterfokon (2002)",
                                    "diszkont ár": "3584"
                                },
                                {
                                    "cim": "Target English (1998)",
                                    "diszkont ár": "4848,8"
                                },
                                {
                                    "cim": "Tarzan",
                                    "diszkont ár": "2989,6000000000004"
                                },
                                {
                                    "cim": "Terrorizmus (2002)",
                                    "diszkont ár": "3901,6000000000004"
                                },
                                {
                                    "cim": "Testbeszéd (1998)",
                                    "diszkont ár": "4305,6"
                                },
                                {
                                    "cim": "Tesztre készen: angol (1998)",
                                    "diszkont ár": "3325,6000000000004"
                                },
                                {
                                    "cim": "Tesztre készen: német (1998)",
                                    "diszkont ár": "3652,8"
                                },
                                {
                                    "cim": "Thaiföldi ízek (1999)",
                                    "diszkont ár": "4200"
                                },
                                {
                                    "cim": "Timeshock!",
                                    "diszkont ár": "4127,2"
                                },
                                {
                                    "cim": "Tomi megmenti a tengert (2000)",
                                    "diszkont ár": "3460"
                                },
                                {
                                    "cim": "Touché - The Adventures of the Fifth",
                                    "diszkont ár": "3638,4"
                                },
                                {
                                    "cim": "Toy Story 2.",
                                    "diszkont ár": "3047,2000000000003"
                                },
                                {
                                    "cim": "Történelem (1998)",
                                    "diszkont ár": "2989,6000000000004"
                                },
                                {
                                    "cim": "Történelem : 10-14 éveseknek (2002)",
                                    "diszkont ár": "2989,6000000000004"
                                },
                                {
                                    "cim": "Történelem : középiskola 1. osztály (2002)",
                                    "diszkont ár": "2988,8"
                                },
                                {
                                    "cim": "Történelem : középiskola 4. osztály (2002)",
                                    "diszkont ár": "4508"
                                },
                                {
                                    "cim": "Traffic Giant",
                                    "diszkont ár": "3508"
                                },
                                {
                                    "cim": "Train Simulator (2002)",
                                    "diszkont ár": "4342,400000000001"
                                },
                                {
                                    "cim": "Trickstyle",
                                    "diszkont ár": "3720,8"
                                },
                                {
                                    "cim": "A tudás próbája (2001)",
                                    "diszkont ár": "4368,8"
                                },
                                {
                                    "cim": "Turul : 1883-1900 (2002)",
                                    "diszkont ár": "4190,400000000001"
                                },
                                {
                                    "cim": "UEFA Champions Leage Season",
                                    "diszkont ár": "4417,6"
                                },
                                {
                                    "cim": "Új Könyvek 1994-2000 (2002)",
                                    "diszkont ár": "4819,2"
                                },
                                {
                                    "cim": "Az Univerzum története",
                                    "diszkont ár": "2923,2000000000003"
                                },
                                {
                                    "cim": "Utazás a csillagok között (1998)",
                                    "diszkont ár": "4564"
                                },
                                {
                                    "cim": "Utazás a Naprendszerben",
                                    "diszkont ár": "2865,6000000000004"
                                },
                                {
                                    "cim": "Utazás a Naprendszerben 2.",
                                    "diszkont ár": "4793,6"
                                },
                                {
                                    "cim": "Úton 2. (1998)",
                                    "diszkont ár": "4380,8"
                                },
                                {
                                    "cim": "Üzleti protokoll CD (2002)",
                                    "diszkont ár": "3912,8"
                                },
                                {
                                    "cim": "Várak, kastélyok, legendák 1.",
                                    "diszkont ár": "3389,6000000000004"
                                },
                                {
                                    "cim": "Várak, kastélyok, legendák 2. (2002)",
                                    "diszkont ár": "2650,4"
                                },
                                {
                                    "cim": "A varázslatos emberi test (1998)",
                                    "diszkont ár": "3890,4"
                                },
                                {
                                    "cim": "Varázslatos szülinap",
                                    "diszkont ár": "4569,6"
                                },
                                {
                                    "cim": "Varázslatos történelmi nyomozás",
                                    "diszkont ár": "3516"
                                },
                                {
                                    "cim": "A városi élet a Római Birodalomban (1999)",
                                    "diszkont ár": "4599,2"
                                },
                                {
                                    "cim": "A Vazul-ág (1038-1301) (1997)",
                                    "diszkont ár": "3248"
                                },
                                {
                                    "cim": "Világatlasz '99 (1998)",
                                    "diszkont ár": "4319,2"
                                },
                                {
                                    "cim": "Világatlasz '99 (1998)",
                                    "diszkont ár": "4161,6"
                                },
                                {
                                    "cim": "Világatlasz (2001)",
                                    "diszkont ár": "2756,8"
                                },
                                {
                                    "cim": "Világirodalom : Az ókortól napjainkig (2001)",
                                    "diszkont ár": "2876"
                                },
                                {
                                    "cim": "Volt egyszer egy Magyarország",
                                    "diszkont ár": "4241,6"
                                },
                                {
                                    "cim": "Warcraft III. (2002)",
                                    "diszkont ár": "4619,2"
                                },
                                {
                                    "cim": "William Shakespeare összes művei",
                                    "diszkont ár": "3549,6000000000004"
                                },
                                {
                                    "cim": "Zielpunkt Deutsch (1997)",
                                    "diszkont ár": "3315,2000000000003"
                                },
                                {
                                    "cim": "Zöld Ödön a földgömbön",
                                    "diszkont ár": "4852"
                                }
                            ]
                        },
                        "text/html": "<table><tr><th>cim</th><th>diszkont ár</th></tr><tr><td>NULL</td><td>3087,2000000000003</td></tr><tr><td>A II. világháború története (1999)</td><td>3395,2000000000003</td></tr><tr><td>3D Dinosaur - adventure</td><td>4032,8</td></tr><tr><td>3D virtuális origami (2000)</td><td>4284</td></tr><tr><td>Az 1848-1849-iki szabadságharc története (2002)</td><td>4560</td></tr><tr><td>Ablak zsiráf (1999)</td><td>2832</td></tr><tr><td>Ady Endre összes művei (1999)</td><td>3392,8</td></tr><tr><td>Afrika</td><td>4254,400000000001</td></tr><tr><td>Age of Empires (2000)</td><td>3585,6000000000004</td></tr><tr><td>Airport Inc.</td><td>3448,8</td></tr><tr><td>American Rodeo : BullRider 2000 (2001)</td><td>4472,8</td></tr><tr><td>Angol : 8-10 éveseknek (2002)</td><td>3882,4</td></tr><tr><td>Angol és német nyelvtani gyakorlatok (2002)</td><td>3924,8</td></tr><tr><td>Angol szótanító CD-ROM</td><td>3559,2000000000003</td></tr><tr><td>Angol szótanító CD-ROM</td><td>3555,2000000000003</td></tr><tr><td>Angol szótár (1996)</td><td>2807,2000000000003</td></tr><tr><td>Angol-magyar, Magyar-angol hangosszótár</td><td>4120,8</td></tr><tr><td>Angol-magyar nagyszótár (Halász Előd)</td><td>4510,400000000001</td></tr><tr><td>Az áramvonalas fakanál</td><td>4564,8</td></tr><tr><td>Arany János: A bajusz (2002)</td><td>2712,8</td></tr><tr><td>Az Árpád-ház története</td><td>4017,6000000000004</td></tr><tr><td>Art Attack (1998)</td><td>3131,2000000000003</td></tr><tr><td>Art puzzle (1998)</td><td>4628,8</td></tr><tr><td>Az ásványok világa</td><td>4499,2</td></tr><tr><td>Ausztrália</td><td>4260,8</td></tr><tr><td>Auto 2000 - Kerékvilág</td><td>3570,4</td></tr><tr><td>Ázsia (2000)</td><td>2498,4</td></tr><tr><td>Biblia (1995)</td><td>3552</td></tr><tr><td>Biológia '97</td><td>4434,400000000001</td></tr><tr><td>Biológia (2000)</td><td>3055,2000000000003</td></tr><tr><td>Biológia (2001)</td><td>3033,6000000000004</td></tr><tr><td>Biológia : 12-14 éveseknek (2003)</td><td>2785,6000000000004</td></tr><tr><td>Blinky Bill : A fantasztikus léggömbkaland</td><td>3260,8</td></tr><tr><td>Broken Sword II. (cop. 1997)</td><td>3601,6000000000004</td></tr><tr><td>Budapest kalauz</td><td>3243,2000000000003</td></tr><tr><td>Budapest Museum</td><td>4233,6</td></tr><tr><td>Buggy</td><td>4664</td></tr><tr><td>Byte Magyarország (2002)</td><td>2621,6000000000004</td></tr><tr><td>Caesar III.</td><td>3308,8</td></tr><tr><td>Capitalism II. (2001)</td><td>4849,6</td></tr><tr><td>Capitalism Plus</td><td>4024</td></tr><tr><td>Castle Explorer</td><td>2965,6000000000004</td></tr><tr><td>CD Panoráma 1-4. (1998)</td><td>4337,6</td></tr><tr><td>Computer iskola (1998)</td><td>4208</td></tr><tr><td>Csizmás kandúr (1998)</td><td>4745,6</td></tr><tr><td>Csodálatos univerzum (1997)</td><td>3269,6000000000004</td></tr><tr><td>Dél-Amerika (1999)</td><td>3199,2000000000003</td></tr><tr><td>Dementia 1-5. (1997)</td><td>4735,2</td></tr><tr><td>Deutsch: Anfanger (kezdő) + Telepítő </td><td>4506,400000000001</td></tr><tr><td>Deutsch: Fortgeschrittene (haladó) + Installation</td><td>4627,2</td></tr><tr><td>Deutsch: Mittelstufe (középhaladó)+ Telepítő</td><td>3501,6000000000004</td></tr><tr><td>Diablo</td><td>4775,2</td></tr><tr><td>Diablo II. (2000)</td><td>3920</td></tr><tr><td>Dicső napok és hétköznapok 1848 - Digitális forrásgyűjtemény 1.</td><td>4488,8</td></tr><tr><td>Dreams to Reality 1-2. (1997)</td><td>3759,2000000000003</td></tr><tr><td>Duke Nukem 3D</td><td>4379,2</td></tr><tr><td>Dungeon Keeper 2. (1999)</td><td>2695,2000000000003</td></tr><tr><td>E-Games : Collector's Edition (2001)</td><td>4466,400000000001</td></tr><tr><td>Éléstár (1998)</td><td>2606,4</td></tr><tr><td>Élet a polgárosodó Magyarországon (2001)</td><td>4457,6</td></tr><tr><td>Életképek 1848 (1998)</td><td>3368,8</td></tr><tr><td>Az ember tragédiája</td><td>3436</td></tr><tr><td>Encarta World Atlas '99 1-2. (1998)</td><td>4267,2</td></tr><tr><td>Enemy Engaged RAH-66</td><td>4173,6</td></tr><tr><td>English 1-2. + Telepítő</td><td>4172</td></tr><tr><td>English: Intermediate (haladó)</td><td>2901,6000000000004</td></tr><tr><td>English by Stealth  lásd: Lopva angolul</td><td>3582,4</td></tr><tr><td>Erdély (1996)</td><td>3999,2000000000003</td></tr><tr><td>Espanol: Intermedio + Telepítő</td><td>3131,2000000000003</td></tr><tr><td>Espanol: Principiante + Telepítő</td><td>4705,6</td></tr><tr><td>Észak-Amerika</td><td>3195,2000000000003</td></tr><tr><td>Európa</td><td>4216</td></tr><tr><td>The F.A. Premier League Stars 2001</td><td>3096,8</td></tr><tr><td>Felvételi példatár : Angol</td><td>3100,8</td></tr><tr><td>Felvételi példatár : Biológia, földrajz</td><td>2572</td></tr><tr><td>Felvételi példatár : Kémia, fizika</td><td>4680,8</td></tr><tr><td>Felvételi példatár : Magyar nyelv és irodalom</td><td>4764</td></tr><tr><td>Felvételi példatár : Matematika</td><td>4007,2000000000003</td></tr><tr><td>Felvételi példatár : Német</td><td>2481,6000000000004</td></tr><tr><td>FIFA, 2000 (1999)</td><td>4047,2000000000003</td></tr><tr><td>Fighting Force (1998)</td><td>3840</td></tr><tr><td>Final Liberation (1997)</td><td>3705,6000000000004</td></tr><tr><td>Fitness mesterfokon / Béres Alexandra (2001)</td><td>3685,6000000000004</td></tr><tr><td>Fizika : 12-14 éveseknek (2002)</td><td>2987,2000000000003</td></tr><tr><td>Fizika felkészítő az érettségi és felvételi vizsgára</td><td>3848</td></tr><tr><td>Fizika világa (2001)</td><td>4610,400000000001</td></tr><tr><td>A Föld élővilága</td><td>4720</td></tr><tr><td>Földrajz: 10-14 éveseknek (2002)</td><td>3144</td></tr><tr><td>Földrajz: érettségi előkészítő (2002)</td><td>2538,4</td></tr><tr><td>Francais 1-2. + Telepítő</td><td>3230,4</td></tr><tr><td>Francais: Débutan (kezdő) + Telepítő</td><td>3016</td></tr><tr><td>Francais: Moyen + Telepítő</td><td>4495,2</td></tr><tr><td>Francia-magyar szótár</td><td>2852,8</td></tr><tr><td>Funschool in Dreamland (1995)</td><td>3812,8</td></tr><tr><td>Geolexikon 4.2 : földtani adatbázis (2002)</td><td>3681,6000000000004</td></tr><tr><td>Gépírás 2000</td><td>3148,8</td></tr><tr><td>Gondolattár: aforizmák, szállóigék</td><td>4276,8</td></tr><tr><td>GTA 2</td><td>4004</td></tr><tr><td>Hadiflották I. (2002)</td><td>4099,2</td></tr><tr><td>Hadtudományi lexikon (1998)</td><td>2812</td></tr><tr><td>Hajdúböszörmény</td><td>3024,8</td></tr><tr><td>Halak, kétéltűek, hüllők</td><td>3322,4</td></tr><tr><td>Half-Life (1996)</td><td>4324</td></tr><tr><td>Half-Life Generation: Game of the Year Edition (2002)</td><td>2964</td></tr><tr><td>Half-Life Generation: Counter Strike (2002)</td><td>4595,2</td></tr><tr><td>Half-Life Generation: Blue Shift (2002)</td><td>4582,400000000001</td></tr><tr><td>Harry Potter és a bölcsek köve (2001)</td><td>3577,6000000000004</td></tr><tr><td>Haza és haladás</td><td>2784,8</td></tr><tr><td>A hét világcsoda (2001)</td><td>2529,6000000000004</td></tr><tr><td>Home Desing 3D (1998)</td><td>3429,6000000000004</td></tr><tr><td>Hupikék törpikék: teletransportörp (1999)</td><td>2488</td></tr><tr><td>Informatika - Internet - Iskola</td><td>2986,4</td></tr><tr><td>Interaktív angol nyelvész kurzus haladó szint 1-5.</td><td>3673,6000000000004</td></tr><tr><td>Interaktív angol nyelvész kurzus kezdő szint</td><td>3346,4</td></tr><tr><td>Interaktív angol nyelvész kurzus középhaladó szint</td><td>2492</td></tr><tr><td>Interaktív magyar nyelvtan</td><td>3823,2000000000003</td></tr><tr><td>International Rally Championship</td><td>3112</td></tr><tr><td>Internet (1996)</td><td>3947,2000000000003</td></tr><tr><td>Introduction to Archeology</td><td>3018,4</td></tr><tr><td>Investigating 20th Century Art (1994)</td><td>3515,2000000000003</td></tr><tr><td>Az ipari forradalom kora (2000)</td><td>4065,6000000000004</td></tr><tr><td>Irodalmi arcképcsarnok</td><td>3092,8</td></tr><tr><td>Irodalom  felkészítő az érettségi és felvételi vizsgára</td><td>4523,2</td></tr><tr><td>Irodalom (1998)</td><td>4500</td></tr><tr><td>Italiano (1998) + Installation</td><td>4348,8</td></tr><tr><td>Italiano 1-2. (1998) + Installation</td><td>4865,6</td></tr><tr><td>Italiano 1-2. (1998) + Installation</td><td>2735,2000000000003</td></tr><tr><td>Jancsó</td><td>3363,2000000000003</td></tr><tr><td>Japán : képes kulturális atlasz (2001)</td><td>3567,2000000000003</td></tr><tr><td>Játékfilmek 1963-tól napjainkig</td><td>2510,4</td></tr><tr><td>Játszóház (1998)</td><td>4239,2</td></tr><tr><td>Jókai összes művei (2001)</td><td>3814,4</td></tr><tr><td>József Attila (1998)</td><td>3096</td></tr><tr><td>A jövő titkai - Interaktív horoszkóp (1998)</td><td>4857,6</td></tr><tr><td>Kártyaváros</td><td>2485,6000000000004</td></tr><tr><td>Kémia Kalauz 2.</td><td>4075,2000000000003</td></tr><tr><td>A kémkedés és a hírszerzés története (2002)</td><td>4676</td></tr><tr><td>Képes krónika (1996)</td><td>3144,8</td></tr><tr><td>Képtárak (1995)</td><td>4326,400000000001</td></tr><tr><td>Kereszt és félhold</td><td>3441,6000000000004</td></tr><tr><td>Kétfejű sas: A Habsburg-uralom Magyarországon (1699-1790)</td><td>4367,2</td></tr><tr><td>Kettős kötődés: Az Osztrák-Magyar Monarchia (1867-1918)</td><td>3863,2000000000003</td></tr><tr><td>Kínai falatok</td><td>3640</td></tr><tr><td>Királyi könyvek 1-9. kötet</td><td>2604,8</td></tr><tr><td>Királyi könyvek 18-26. kötet</td><td>4405,6</td></tr><tr><td>Királyi könyvek 27-38. kötet : 1703-1740 (2002)</td><td>4380,8</td></tr><tr><td>Kispál és a borz (1998)</td><td>4584</td></tr><tr><td>Kossuth Lajos összes munkái (2002)</td><td>3671,2000000000003</td></tr><tr><td>Környezetvédelmi kalauz (1999)</td><td>4406,400000000001</td></tr><tr><td>Kötelező olvasmányok könyvtára 1. (2002)</td><td>2875,2000000000003</td></tr><tr><td>A kőszívű ember fiai - Egri csillagok</td><td>4430,400000000001</td></tr><tr><td>A kutyák: A család kedvencei</td><td>3970,4</td></tr><tr><td>Kutyatár</td><td>4188</td></tr><tr><td>KvízIQ : A hét világcsoda (2001)</td><td>2760,8</td></tr><tr><td>Lakáskultúra 2000 (2000)</td><td>4677,6</td></tr><tr><td>Lakáskultúra 1999 (1999)</td><td>4331,2</td></tr><tr><td>Lakáskultúra 1998 (1998)</td><td>4392,8</td></tr><tr><td>Lakáskultúra 1997 (1997)</td><td>2735,2000000000003</td></tr><tr><td>Lakáskultúra 1996 (1996)</td><td>3367,2000000000003</td></tr><tr><td>Lands of Lore II. 1-4. (1997)</td><td>3449,6000000000004</td></tr><tr><td>Landscape Design 3D (1998)</td><td>3960,8</td></tr><tr><td>Legféltettebb természeti értékeink</td><td>4066,4</td></tr><tr><td>Legszebb vadnövényeink</td><td>3550,4</td></tr><tr><td>Leonardo da Vinci</td><td>4094,4</td></tr><tr><td>Lilenthal Andor sakkjátszmái</td><td>2915,2000000000003</td></tr><tr><td>Lopva angolul /English by Stealth 1.</td><td>4344,8</td></tr><tr><td>Lopva angolul /English by Stealth 2.</td><td>3677,6000000000004</td></tr><tr><td>Lopva angolul /English by Stealth 3.</td><td>3880,8</td></tr><tr><td>Lovagkirályok (1301-1437) (1997)</td><td>3494,4</td></tr><tr><td>LoveQ, SexQ : szerelmi intelligencia (2001)</td><td>2900,8</td></tr><tr><td>M1 Tank (1998)</td><td>4784,8</td></tr><tr><td>Mackó úr (2002)</td><td>3705,6000000000004</td></tr><tr><td>Madárdalos kirándulások - Madártani oktató CD-ROM (1999)</td><td>2726,4</td></tr><tr><td>Magyar bélyegek katalógusa</td><td>3228</td></tr><tr><td>Magyar fontok '97</td><td>3076</td></tr><tr><td>A Magyar Koronázási Jelvények</td><td>3297,6000000000004</td></tr><tr><td>Magyar nyelv és irodalom</td><td>3763,2000000000003</td></tr><tr><td>Magyar színházművészet a világban</td><td>4126,400000000001</td></tr><tr><td>Magyarország, 1944-1956 (2001)</td><td>3936,8</td></tr><tr><td>Magyarország, 1944-1956 (2001)</td><td>2938,4</td></tr><tr><td>Magyarország Nemzeti Parkjai I.</td><td>2678,4</td></tr><tr><td>Magyarország Nemzeti Parkjai II.</td><td>2701,6000000000004</td></tr><tr><td>Magyarországi várak (1998)</td><td>4367,2</td></tr><tr><td>Mahjongg Master (1998)</td><td>4338,400000000001</td></tr><tr><td>Manó Angol 1.</td><td>4681,6</td></tr><tr><td>Manó Angol 1. (2002)</td><td>4840,8</td></tr><tr><td>Manó Angol 2.</td><td>4282,400000000001</td></tr><tr><td>Manó Angol 2. (2000)</td><td>4854,400000000001</td></tr><tr><td>Manó Élővilág</td><td>2779,2000000000003</td></tr><tr><td>Manó Élővilág (2002)</td><td>3904,8</td></tr><tr><td>Manó IQ (2001)</td><td>4306,400000000001</td></tr><tr><td>Manó Kaland (2002)</td><td>4773,6</td></tr><tr><td>Manó Magyarország (2002)</td><td>3320</td></tr><tr><td>Manó Matek 1.</td><td>4796</td></tr><tr><td>Manó Matek 1. (2002)</td><td>4316,8</td></tr><tr><td>Manó Matek 2. (1999)</td><td>4454,400000000001</td></tr><tr><td>Manó Matek 2. (1999)</td><td>2828,8</td></tr><tr><td>Manó Matek 3.</td><td>3842,4</td></tr><tr><td>Manó Muzsika</td><td>3996,8</td></tr><tr><td>Manó Muzsika</td><td>2712,8</td></tr><tr><td>Manó Német 2.</td><td>3713,6000000000004</td></tr><tr><td>Manó Olvasás 1.</td><td>4676</td></tr><tr><td>Manó Puzzle (2002)</td><td>4862,400000000001</td></tr><tr><td>Matematika (1998)</td><td>2484</td></tr><tr><td>Matematika felkészítő az érettségi és felvételi vizsgára</td><td>3692,8</td></tr><tr><td>Matematika kalauz (1997)</td><td>2652</td></tr><tr><td>Mig-29 (1998)</td><td>4032</td></tr><tr><td>Mikszáth Kálmán összes művei</td><td>3828,8</td></tr><tr><td>Mini Manó Tavasz</td><td>3781,6000000000004</td></tr><tr><td>MoBi Mouse: A fordító egér</td><td>4028,8</td></tr><tr><td>Monopoly Junior</td><td>3179,2000000000003</td></tr><tr><td>Mons Sacer Pannoniae (2001)</td><td>3528</td></tr><tr><td>Moving Puzzle Action Flight (2000)</td><td>4381,6</td></tr><tr><td>Multimédiás Menedzsment Könyvtár 1. - Változásmenedzsment</td><td>4845,6</td></tr><tr><td>Multimédiás Menedzsment Könyvtár 2. - Önszervezés</td><td>2623,2000000000003</td></tr><tr><td>Musique! (1997)</td><td>4268,8</td></tr><tr><td>Művészet és mesterség</td><td>4878,400000000001</td></tr><tr><td>Művészet és művészek (2002)</td><td>2792</td></tr><tr><td>Nagy képes világtörténet (Matczáli Henrik) (1998)</td><td>3509,6000000000004</td></tr><tr><td>Nagy vicc tár</td><td>4458,400000000001</td></tr><tr><td>A Nagybányai Festőiskola (1998)</td><td>3901,6000000000004</td></tr><tr><td>NASA 1.</td><td>4774,400000000001</td></tr><tr><td>NASA 2.</td><td>3317,6000000000004</td></tr><tr><td>Na, So Was? - Minden helyzetben otthonosan</td><td>2880</td></tr><tr><td>Német : 8-10 éveseknek (2002)</td><td>3003,2000000000003</td></tr><tr><td>Német szótanító CD-ROM</td><td>2650,4</td></tr><tr><td>Németh László összes műve</td><td>3597,6000000000004</td></tr><tr><td>New York : a tragédiák városa (2001)</td><td>2978,4</td></tr><tr><td>NHL 2001</td><td>4193,6</td></tr><tr><td>Nincs királyi út - A matematika kultúrtörténete</td><td>3482,4</td></tr><tr><td>Nyelvész : Angol és német haladóknak (1997)</td><td>2817,6000000000004</td></tr><tr><td>Nyelvtan összefoglaló : érettségi előkészítő (2002)</td><td>2950,4</td></tr><tr><td>Az óceán világa - Maldiv szigetek (2000)</td><td>4666,400000000001</td></tr><tr><td>Ókori lexikon</td><td>2497,6000000000004</td></tr><tr><td>Olasz-magyar, magyar-olasz digitális szótár</td><td>3285,6000000000004</td></tr><tr><td>Olasz szótanító CD-ROM</td><td>4086,4</td></tr><tr><td>Orosz (1998)</td><td>4807,2</td></tr><tr><td>Orosz-magyar nagyszótár</td><td>3732,8</td></tr><tr><td>Az Országos Széchényi Könyvtár corvinái, 2002 (2002)</td><td>3802,4</td></tr><tr><td>Az Osztrák-Magyar Monarchia írásban és képekben (2001)</td><td>3487,2000000000003</td></tr><tr><td>Paddle Bash (2001)</td><td>3149,6000000000004</td></tr><tr><td>Pannon Enciklopédia (1998)</td><td>3684,8</td></tr><tr><td>Pannonhalmi Főapátság (2001)</td><td>4653,6</td></tr><tr><td>Panzer General III: Scorched Earth (2000)</td><td>4846,400000000001</td></tr><tr><td>People's General (1998)</td><td>4498,400000000001</td></tr><tr><td>Petőfi Sándor: Arany Lacinak (2002)</td><td>4390,400000000001</td></tr><tr><td>Petőfi Sándor összes költeményei</td><td>3025,6000000000004</td></tr><tr><td>Plane Crazy</td><td>4008,8</td></tr><tr><td>Quake III. (2001)</td><td>2515,2000000000003</td></tr><tr><td>Rákóczi-szabadságharc</td><td>3822,4</td></tr><tr><td>Rally Championship</td><td>2484,8</td></tr><tr><td>Rayman: Matek és olvasás</td><td>3587,2000000000003</td></tr><tr><td>Re-Volt (1999)</td><td>3191,2000000000003</td></tr><tr><td>The Settlers III. 1-2. (1998)</td><td>3413,6000000000004</td></tr><tr><td>The Settlers IV. (2001)</td><td>3314,4</td></tr><tr><td>Shanghai (1997)</td><td>4720</td></tr><tr><td>The Sims</td><td>3234,4</td></tr><tr><td>Sonic Racer</td><td>2760</td></tr><tr><td>Spanyol (1997)</td><td>3020</td></tr><tr><td>Spanyol-magyar szótár</td><td>4587,2</td></tr><tr><td>Star Wars: Battle for Naboo</td><td>2816</td></tr><tr><td>Star Wars: Force Commander (2001)</td><td>4628</td></tr><tr><td>Star Wars : Rogue Squadron 3D</td><td>4642,400000000001</td></tr><tr><td>Supreme Snowboarding</td><td>3320,8</td></tr><tr><td>Szabadítsd ki a kisoroszlánt!</td><td>4429,6</td></tr><tr><td>Szabadságharc 1848-49 (1988)</td><td>4848</td></tr><tr><td>A szabadságharc népzenei emlékei</td><td>4149,6</td></tr><tr><td>Szolfézs: Kezdőknek és haladóknak</td><td>3593,6000000000004</td></tr><tr><td>Talk To Me Deutsch 2-4.</td><td>4792</td></tr><tr><td>Talk To Me English 1.</td><td>3794,4</td></tr><tr><td>Talk To Me Francais 1-2.</td><td>3978,4</td></tr><tr><td>Tankok, tüzérség (2002)</td><td>4867,2</td></tr><tr><td>Tanulj tovább! 2000 (2000)</td><td>3448</td></tr><tr><td>Táplálkozás, életmód mesterfokon (2002)</td><td>3584</td></tr><tr><td>Target English (1998)</td><td>4848,8</td></tr><tr><td>Tarzan</td><td>2989,6000000000004</td></tr><tr><td>Terrorizmus (2002)</td><td>3901,6000000000004</td></tr><tr><td>Testbeszéd (1998)</td><td>4305,6</td></tr><tr><td>Tesztre készen: angol (1998)</td><td>3325,6000000000004</td></tr><tr><td>Tesztre készen: német (1998)</td><td>3652,8</td></tr><tr><td>Thaiföldi ízek (1999)</td><td>4200</td></tr><tr><td>Timeshock!</td><td>4127,2</td></tr><tr><td>Tomi megmenti a tengert (2000)</td><td>3460</td></tr><tr><td>Touché - The Adventures of the Fifth</td><td>3638,4</td></tr><tr><td>Toy Story 2.</td><td>3047,2000000000003</td></tr><tr><td>Történelem (1998)</td><td>2989,6000000000004</td></tr><tr><td>Történelem : 10-14 éveseknek (2002)</td><td>2989,6000000000004</td></tr><tr><td>Történelem : középiskola 1. osztály (2002)</td><td>2988,8</td></tr><tr><td>Történelem : középiskola 4. osztály (2002)</td><td>4508</td></tr><tr><td>Traffic Giant</td><td>3508</td></tr><tr><td>Train Simulator (2002)</td><td>4342,400000000001</td></tr><tr><td>Trickstyle</td><td>3720,8</td></tr><tr><td>A tudás próbája (2001)</td><td>4368,8</td></tr><tr><td>Turul : 1883-1900 (2002)</td><td>4190,400000000001</td></tr><tr><td>UEFA Champions Leage Season</td><td>4417,6</td></tr><tr><td>Új Könyvek 1994-2000 (2002)</td><td>4819,2</td></tr><tr><td>Az Univerzum története</td><td>2923,2000000000003</td></tr><tr><td>Utazás a csillagok között (1998)</td><td>4564</td></tr><tr><td>Utazás a Naprendszerben</td><td>2865,6000000000004</td></tr><tr><td>Utazás a Naprendszerben 2.</td><td>4793,6</td></tr><tr><td>Úton 2. (1998)</td><td>4380,8</td></tr><tr><td>Üzleti protokoll CD (2002)</td><td>3912,8</td></tr><tr><td>Várak, kastélyok, legendák 1.</td><td>3389,6000000000004</td></tr><tr><td>Várak, kastélyok, legendák 2. (2002)</td><td>2650,4</td></tr><tr><td>A varázslatos emberi test (1998)</td><td>3890,4</td></tr><tr><td>Varázslatos szülinap</td><td>4569,6</td></tr><tr><td>Varázslatos történelmi nyomozás</td><td>3516</td></tr><tr><td>A városi élet a Római Birodalomban (1999)</td><td>4599,2</td></tr><tr><td>A Vazul-ág (1038-1301) (1997)</td><td>3248</td></tr><tr><td>Világatlasz '99 (1998)</td><td>4319,2</td></tr><tr><td>Világatlasz '99 (1998)</td><td>4161,6</td></tr><tr><td>Világatlasz (2001)</td><td>2756,8</td></tr><tr><td>Világirodalom : Az ókortól napjainkig (2001)</td><td>2876</td></tr><tr><td>Volt egyszer egy Magyarország</td><td>4241,6</td></tr><tr><td>Warcraft III. (2002)</td><td>4619,2</td></tr><tr><td>William Shakespeare összes művei</td><td>3549,6000000000004</td></tr><tr><td>Zielpunkt Deutsch (1997)</td><td>3315,2000000000003</td></tr><tr><td>Zöld Ödön a földgömbön</td><td>4852</td></tr></table>"
                    },
                    "metadata": {}
                }
            ],
            "execution_count": 15
        },
        {
            "cell_type": "markdown",
            "source": [
                "6. Melyek azok a kölcsönzések, ahol még nem hozták vissza a dvd-t?"
            ],
            "metadata": {
                "azdata_cell_guid": "5fe65c1c-2479-45ac-ad03-ec99d12eae21"
            },
            "attachments": {}
        },
        {
            "cell_type": "code",
            "source": [
                "Select *\r\n",
                "FROM kolcsonzesek\r\n",
                "Where vissza_datum IS NULL"
            ],
            "metadata": {
                "azdata_cell_guid": "924f2dde-f1c2-4def-a7f9-dbf4bace7735",
                "language": "sql"
            },
            "outputs": [
{
    "output_type": "error",
    "evalue": "Msg 208, Level 16, State 1, Line 1\r\nInvalid object name 'kolcsonzesek'.",
    "ename": "",
    "traceback": []
}, {
    "output_type": "display_data",
    "data": {
        "text/html": "Total execution time: 00:00:00.007"
    },
    "metadata": {}
}
],
            "execution_count": 2
        },
        {
            "cell_type": "markdown",
            "source": [
                "7. Listázzuk azon diákok nevét és születési idejét, akik 1984-ben vagy 1985-ben születtek!  \n",
                "\n",
                "  \n",
                "\n",
                "a.  A születési dátum csak az évet, hónapot és a napot tartalmazza! \n",
                "\n",
                "b.  A születési dátum oszlopát nevezzük el 'Születési idő'-nek!"
            ],
            "metadata": {
                "azdata_cell_guid": "3aeb6bf5-b111-40d5-92b2-9712ce335696"
            },
            "attachments": {}
        },
        {
            "cell_type": "code",
            "source": [
                "SELECT nev,\r\n",
                "    LEFT(szulido, 11)  AS 'Születési idő'\r\n",
                "FROM diak\r\n",
                "WHERE YEAR(Szulido) = 1984 OR YEAR(Szulido) = 1985"
            ],
            "metadata": {
                "azdata_cell_guid": "3e89b651-f56f-4102-af52-30eb2bbe360d",
                "language": "sql"
            },
            "outputs": [
                {
                    "output_type": "display_data",
                    "data": {
                        "text/html": "(3 rows affected)"
                    },
                    "metadata": {}
                },
                {
                    "output_type": "display_data",
                    "data": {
                        "text/html": "Total execution time: 00:00:00.003"
                    },
                    "metadata": {}
                },
                {
                    "output_type": "execute_result",
                    "execution_count": 30,
                    "data": {
                        "application/vnd.dataresource+json": {
                            "schema": {
                                "fields": [
                                    {
                                        "name": "nev"
                                    },
                                    {
                                        "name": "Születési idő"
                                    }
                                ]
                            },
                            "data": [
                                {
                                    "nev": "Kovács Imre",
                                    "Születési idő": "Mar  2 1984"
                                },
                                {
                                    "nev": "Kapos Petra",
                                    "Születési idő": "Dec 23 1985"
                                },
                                {
                                    "nev": "Koppány Olga",
                                    "Születési idő": "Feb 28 1984"
                                }
                            ]
                        },
                        "text/html": "<table><tr><th>nev</th><th>Születési idő</th></tr><tr><td>Kovács Imre</td><td>Mar  2 1984</td></tr><tr><td>Kapos Petra</td><td>Dec 23 1985</td></tr><tr><td>Koppány Olga</td><td>Feb 28 1984</td></tr></table>"
                    },
                    "metadata": {}
                }
            ],
            "execution_count": 30
        },
        {
            "cell_type": "markdown",
            "source": [
                "8. Készítsünk lekérdezést, amely a tanulók nevét és az ebből képzett felhasználói nevét tartalmazza. \n",
                "\n",
                "  \n",
                "\n",
                "a.  A felhasználói név álljon a név első kettő, illetve utolsó kettő betűjének összefűzéséből!\n",
                "\n",
                "b.  A listát szűrjük azon tanulókra, akik teljes neve - szóközzel együtt - legalább 10 betűs!"
            ],
            "metadata": {
                "azdata_cell_guid": "26a504dc-ff6a-439f-94c0-4580eca3eacf"
            },
            "attachments": {}
        },
        {
            "cell_type": "code",
            "source": [
                "SELECT nev,\r\n",
                "    LEFT(nev, 2) + RIGHT(nev, 2)\r\n",
                "FROM diak\r\n",
                "WHERE LEN(nev) > 9"
            ],
            "metadata": {
                "azdata_cell_guid": "1cbb8aeb-78b5-4350-aa45-e3202fdab85b",
                "language": "sql"
            },
            "outputs": [
                {
                    "output_type": "display_data",
                    "data": {
                        "text/html": "(8 rows affected)"
                    },
                    "metadata": {}
                },
                {
                    "output_type": "display_data",
                    "data": {
                        "text/html": "Total execution time: 00:00:00.005"
                    },
                    "metadata": {}
                },
                {
                    "output_type": "execute_result",
                    "execution_count": 33,
                    "data": {
                        "application/vnd.dataresource+json": {
                            "schema": {
                                "fields": [
                                    {
                                        "name": "nev"
                                    },
                                    {
                                        "name": "(No column name)"
                                    }
                                ]
                            },
                            "data": [
                                {
                                    "nev": "Kovács Imre",
                                    "(No column name)": "Kore"
                                },
                                {
                                    "nev": "Horváth Emil",
                                    "(No column name)": "Hoil"
                                },
                                {
                                    "nev": "Kapos Petra",
                                    "(No column name)": "Kara"
                                },
                                {
                                    "nev": "Csóka Anna",
                                    "(No column name)": "Csna"
                                },
                                {
                                    "nev": "Nyúl Tamás",
                                    "(No column name)": "Nyás"
                                },
                                {
                                    "nev": "Ordasi Emma",
                                    "(No column name)": "Orma"
                                },
                                {
                                    "nev": "Koppány Olga",
                                    "(No column name)": "Koga"
                                },
                                {
                                    "nev": "Kozma Patrícia",
                                    "(No column name)": "Koia"
                                }
                            ]
                        },
                        "text/html": "<table><tr><th>nev</th><th>(No column name)</th></tr><tr><td>Kovács Imre</td><td>Kore</td></tr><tr><td>Horváth Emil</td><td>Hoil</td></tr><tr><td>Kapos Petra</td><td>Kara</td></tr><tr><td>Csóka Anna</td><td>Csna</td></tr><tr><td>Nyúl Tamás</td><td>Nyás</td></tr><tr><td>Ordasi Emma</td><td>Orma</td></tr><tr><td>Koppány Olga</td><td>Koga</td></tr><tr><td>Kozma Patrícia</td><td>Koia</td></tr></table>"
                    },
                    "metadata": {}
                }
            ],
            "execution_count": 33
        },
        {
            "cell_type": "markdown",
            "source": [
                "9. Készítsünk listát a diákok adatairól, ahol a diákok neve úgy jelenik meg, hogy először a keresztnév, majd a vezetéknév, közöttük szóközzel!  \n",
                "\n",
                "a.  Ezen felül a születési idő három külön oszlopban jelenjen meg (év, hónap, nap). \n",
                "\n",
                "b.  Az oszlopokat nevezzük el értelemszerűen!"
            ],
            "metadata": {
                "azdata_cell_guid": "435e2860-2dd5-4877-90f4-34a43baeb53c"
            },
            "attachments": {}
        },
        {
            "cell_type": "code",
            "source": [
                ""
            ],
            "metadata": {
                "azdata_cell_guid": "ce846351-ddbe-4d8e-b8fb-2a92c73ac80b",
                "language": "sql"
            },
            "outputs": [],
            "execution_count": null
        },
        {
            "cell_type": "markdown",
            "source": [
                "10. Készítsünk listát a munkák azonosítójáról és megnevezéséről! Egy új oszlopban azt is jelenítsük meg, hogy melyik munka hetente mennyit fizet! \n",
                "\n",
                "a.  Az oszlop neve legyen Heti bér, az értéket kerekítsük 1000 forintra! \n",
                "\n",
                "b.  A listát szűrjük azon rekordokra, ahol a kerekített heti bér 10000 Ft felett van!"
            ],
            "metadata": {
                "azdata_cell_guid": "217c5772-afe2-4a7c-b913-e3a3e09d6411"
            },
            "attachments": {}
        },
        {
            "cell_type": "code",
            "source": [
                ""
            ],
            "metadata": {
                "azdata_cell_guid": "a9cc0926-3dbd-4ed8-8179-1c39d64a0762",
                "language": "sql"
            },
            "outputs": [],
            "execution_count": null
        },
        {
            "cell_type": "markdown",
            "source": [
                "11. A diákok számára differenciált béremelést terveznek: a középiskolások esetében 33%, egyéb esetben 17% mértékben. Készítsünk listát, amely tartalmazza a munkák azonosítóját, az állás nevét, az eredeti óradíjat és a tervezett emelt óradíjat.\n",
                "\n",
                "  \n",
                "\n",
                "a.  Az oszlopoknak adjuk nevet értelemszerűen!\n",
                "\n",
                "b.  Az emelt óradíj összegét kerekítsük egészre! (Az esetlegesen megjelenő 0 tizedesjegyekkel ne foglalkozzunk)"
            ],
            "metadata": {
                "azdata_cell_guid": "d2340f5f-1614-473c-b937-85740d67f7c1"
            },
            "attachments": {}
        },
        {
            "cell_type": "code",
            "source": [
                "SELECT munkaId AS 'Azonosító',\r\n",
                "        allas AS 'Állás neve',\r\n",
                "        oradij AS 'Óradíj'\r\n",
                "        --emelt oradij\r\n",
                "        ROUND(IIF(kozepiskolas = 1, oradij * 1.33, oradij * 1.17), 0) \r\n",
                "        AS 'Emelt óradíj'\r\n",
                "FROM munka"
            ],
            "metadata": {
                "azdata_cell_guid": "e99c2c53-898f-4787-b0e6-182d106dc16f",
                "language": "sql"
            },
            "outputs": [
                {
                    "output_type": "error",
                    "ename": "",
                    "evalue": "Msg 102, Level 15, State 1, Line 5\r\nIncorrect syntax near 'ROUND'.",
                    "traceback": []
                },
                {
                    "output_type": "display_data",
                    "data": {
                        "text/html": "Total execution time: 00:00:00.001"
                    },
                    "metadata": {}
                }
            ],
            "execution_count": 35
        },
        {
            "cell_type": "markdown",
            "source": [
                "12. A diákok számára próbaidőt írnak elő, amely a munka kezdetétől számítva 3 hónapig tart.    Jelenítsük meg a munka tábla adatait egy új oszloppal kiegészítve, amelyik a próbaidő    végének dátumát mutatja!  \n",
                "\n",
                "  \n",
                "\n",
                "a.  Az oszlop neve Próbaidő vége legyen! \n",
                "\n",
                "b.  A lista ne tartalmazza azokat a munkákat, ahol a diákok azonosítója nincs megadva!"
            ],
            "metadata": {
                "azdata_cell_guid": "a765e9d6-58b3-4171-872a-78f3118fd6e3"
            },
            "attachments": {}
        },
        {
            "cell_type": "code",
            "source": [
                ""
            ],
            "metadata": {
                "azdata_cell_guid": "422e8127-b652-4d3a-bfd7-9b1637b5781e",
                "language": "sql"
            },
            "outputs": [],
            "execution_count": null
        },
        {
            "cell_type": "markdown",
            "source": [
                "13. Készítsünk listát a munkák azonosítóiról és a megnevezésükről! A megnevezés allas-óraszám formában jelenjen meg, pl: eladó-4. \n",
                "\n",
                "  \n",
                "\n",
                "a.  Jelenítsük meg a dátumot is, de csak a évet és a hónapot, pl: 2003-07! \n",
                "\n",
                "b.  Ennek az oszlopnak 'Kezdés hónapja' legyen a neve! A listát szűrjük a nyári hónapokra!"
            ],
            "metadata": {
                "azdata_cell_guid": "3f9237ae-f109-401c-acb9-31d75e73331b"
            },
            "attachments": {}
        },
        {
            "cell_type": "code",
            "source": [
                ""
            ],
            "metadata": {
                "azdata_cell_guid": "4b31bb89-cfbc-46b1-8639-85c462877786",
                "language": "sql"
            },
            "outputs": [],
            "execution_count": null
        },
        {
            "cell_type": "markdown",
            "source": [
                "14. Készítsünk listát a diákok adatairól, amely a Nev oszlop helyén a diák monogramját jeleníti meg (keresztnév, illetve vezetéknév első betűje összefűzve). \n",
                "\n",
                "a.  A listát szűrjük 1983.01.01 és 1987.06.01 között született diákokra!"
            ],
            "metadata": {
                "azdata_cell_guid": "f634e09a-85ef-4e70-8ec6-ef355dfddaa7"
            },
            "attachments": {}
        },
        {
            "cell_type": "code",
            "source": [
                ""
            ],
            "metadata": {
                "azdata_cell_guid": "88abc55b-2c78-495b-a72f-3f8f4eb5fe70",
                "language": "sql"
            },
            "outputs": [],
            "execution_count": null
        },
        {
            "cell_type": "markdown",
            "source": [
                "15. A diákok a munkakezdés évének utolsó napján bónuszt kapnak, amennyiben az adott évben legalább 6 hónapot dolgoznak. \n",
                "\n",
                "  \n",
                "\n",
                "a.  Jelenítsük meg, hogy az egyes munkák adatait, egy új oszlopban az éves bónusz napját is 'Bónusz dátum' néven! \n",
                "\n",
                "b.  A lista csak a bónuszra jogosultak adatait tartalmazza!"
            ],
            "metadata": {
                "azdata_cell_guid": "4cbf2f0d-a65d-480a-8186-ccdb24498443"
            },
            "attachments": {}
        },
        {
            "cell_type": "code",
            "source": [
                ""
            ],
            "metadata": {
                "azdata_cell_guid": "c148aee8-bc85-40bf-b80a-a4898a6c05cb",
                "language": "sql"
            },
            "outputs": [],
            "execution_count": null
        }
    ]
}