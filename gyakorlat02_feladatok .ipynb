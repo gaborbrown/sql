{
    "metadata": {
        "kernelspec": {
            "name": "SQL",
            "display_name": "SQL",
            "language": "sql"
        },
        "language_info": {
            "name": "sql",
            "version": ""
        },
        "extensions": {
            "azuredatastudio": {
                "version": 1,
                "views": []
            }
        }
    },
    "nbformat_minor": 2,
    "nbformat": 4,
    "cells": [
        {
            "cell_type": "markdown",
            "source": [
                "1. <span style=\"color:rgb(36, 41, 47);font-family:-apple-system, BlinkMacSystemFont, &quot;Segoe UI&quot;, Helvetica, Arial, sans-serif, &quot;Apple Color Emoji&quot;, &quot;Segoe UI Emoji&quot;;font-size:16px;\">Készítsünk lekérdezést, amely listázza, hogy mely napokon hány db kölcsönzés történt!</span>\n",
                "\n",
                "<span style=\"font-size: 16px;\">a.&nbsp;</span> Az oszlopok neve legyen 'Dátum' és 'Kölcsönzések száma'  \n",
                "b. A listát rendezzük a kölcsönzés dátuma szerint csökkenő sorrendbe!"
            ],
            "metadata": {
                "azdata_cell_guid": "77f2d5b3-38e9-41cc-893f-f5afd02b97ef"
            },
            "attachments": {}
        },
        {
            "cell_type": "code",
            "source": [
                "--dvd_magyar adatbázis\r\n",
                "SELECT ki_datum AS 'Dátum',\r\n",
                "        COUNT(*) AS 'Kölcsönzések száma'\r\n",
                "FROM kolcsonzesek\r\n",
                "GROUP BY ki_datum"
            ],
            "metadata": {
                "azdata_cell_guid": "bd3cef1a-4e6e-4ece-9dc3-aaa9d2b5d66d",
                "language": "sql",
                "tags": []
            },
            "outputs": [
                {
                    "output_type": "display_data",
                    "data": {
                        "text/html": "(3 rows affected)"
                    },
                    "metadata": {}
                },
                {
                    "output_type": "display_data",
                    "data": {
                        "text/html": "Total execution time: 00:00:00.010"
                    },
                    "metadata": {}
                },
                {
                    "output_type": "execute_result",
                    "execution_count": 17,
                    "data": {
                        "application/vnd.dataresource+json": {
                            "schema": {
                                "fields": [
                                    {
                                        "name": "Dátum"
                                    },
                                    {
                                        "name": "Kölcsönzések száma"
                                    }
                                ]
                            },
                            "data": [
                                {
                                    "Dátum": "2003-12-11",
                                    "Kölcsönzések száma": "3"
                                },
                                {
                                    "Dátum": "2006-10-01",
                                    "Kölcsönzések száma": "1"
                                },
                                {
                                    "Dátum": "2006-10-02",
                                    "Kölcsönzések száma": "1"
                                }
                            ]
                        },
                        "text/html": "<table><tr><th>Dátum</th><th>Kölcsönzések száma</th></tr><tr><td>2003-12-11</td><td>3</td></tr><tr><td>2006-10-01</td><td>1</td></tr><tr><td>2006-10-02</td><td>1</td></tr></table>"
                    },
                    "metadata": {}
                }
            ],
            "execution_count": 17
        },
        {
            "cell_type": "markdown",
            "source": [
                "2. <span style=\"font-weight: 600; color: rgb(36, 41, 47); font-family: -apple-system, BlinkMacSystemFont, &quot;Segoe UI&quot;, Helvetica, Arial, sans-serif, &quot;Apple Color Emoji&quot;, &quot;Segoe UI Emoji&quot;; font-size: 16px;\">Mennyi a dvd-k átlagos ára stílusonkénti bontásban?</span>\n",
                "\n",
                "1. Csak azokat a stílusokat vegyük figyelembe, ahol az átlagos ár 4500 Ft feletti!\n",
                "2. Az oszlopokat nevezzük el értelemszerűen!\n",
                "3. A listát rendezzük átlagos ár szerint csökkenő sorrendbe!"
            ],
            "metadata": {
                "azdata_cell_guid": "88f5b4bb-f4c1-4bad-a0c7-b2592687b422"
            },
            "attachments": {}
        },
        {
            "cell_type": "code",
            "source": [
                "SELECT stilus,\n",
                "        AVG(nettoar) AS 'átlagár'\n",
                "FROM dvd\n",
                "GROUP BY stilus\n",
                "HAVING AVG(nettoar) > 4500\n",
                "ORDER BY AVG(nettoar) DESC"
            ],
            "metadata": {
                "azdata_cell_guid": "e9de5726-f036-4fb9-8c33-a873955ed886",
                "language": "sql"
            },
            "outputs": [
                {
                    "output_type": "display_data",
                    "data": {
                        "text/html": "(30 rows affected)"
                    },
                    "metadata": {}
                },
                {
                    "output_type": "display_data",
                    "data": {
                        "text/html": "Total execution time: 00:00:00.010"
                    },
                    "metadata": {}
                },
                {
                    "output_type": "execute_result",
                    "execution_count": 23,
                    "data": {
                        "application/vnd.dataresource+json": {
                            "schema": {
                                "fields": [
                                    {
                                        "name": "stilus"
                                    },
                                    {
                                        "name": "átlagár"
                                    }
                                ]
                            },
                            "data": [
                                {
                                    "stilus": "ásványtan",
                                    "átlagár": "5624"
                                },
                                {
                                    "stilus": "játék (rodeó)",
                                    "átlagár": "5591"
                                },
                                {
                                    "stilus": "humor",
                                    "átlagár": "5573"
                                },
                                {
                                    "stilus": "környezetvédelem",
                                    "átlagár": "5508"
                                },
                                {
                                    "stilus": "kresz",
                                    "átlagár": "5476"
                                },
                                {
                                    "stilus": "játék (jégkorong)",
                                    "átlagár": "5242"
                                },
                                {
                                    "stilus": "színház",
                                    "átlagár": "5158"
                                },
                                {
                                    "stilus": "múvészet",
                                    "átlagár": "5118"
                                },
                                {
                                    "stilus": "kémia",
                                    "átlagár": "5094"
                                },
                                {
                                    "stilus": "fordító program",
                                    "átlagár": "5036"
                                },
                                {
                                    "stilus": "kerttervező",
                                    "átlagár": "4951"
                                },
                                {
                                    "stilus": "művészet",
                                    "átlagár": "4939.25"
                                },
                                {
                                    "stilus": "festészet",
                                    "átlagár": "4901"
                                },
                                {
                                    "stilus": "zene",
                                    "átlagár": "4855.333333333333"
                                },
                                {
                                    "stilus": "játék",
                                    "átlagár": "4850.466666666666"
                                },
                                {
                                    "stilus": "játék (labdarúgás)",
                                    "átlagár": "4817.333333333333"
                                },
                                {
                                    "stilus": "állattan",
                                    "átlagár": "4783.666666666667"
                                },
                                {
                                    "stilus": "nyelvtan",
                                    "átlagár": "4770.666666666667"
                                },
                                {
                                    "stilus": "fizika",
                                    "átlagár": "4769"
                                },
                                {
                                    "stilus": "nyelvtanító",
                                    "átlagár": "4759.476190476191"
                                },
                                {
                                    "stilus": "csillagászat",
                                    "átlagár": "4733.571428571428"
                                },
                                {
                                    "stilus": "ismeretterjesztő",
                                    "átlagár": "4726.673913043478"
                                },
                                {
                                    "stilus": "irodalom, nyelv",
                                    "átlagár": "4704"
                                },
                                {
                                    "stilus": "gasztronómia",
                                    "átlagár": "4691"
                                },
                                {
                                    "stilus": "történelem",
                                    "átlagár": "4655.731707317073"
                                },
                                {
                                    "stilus": "szótár",
                                    "átlagár": "4624.428571428572"
                                },
                                {
                                    "stilus": "sport",
                                    "átlagár": "4607"
                                },
                                {
                                    "stilus": "földrajz",
                                    "átlagár": "4580.0625"
                                },
                                {
                                    "stilus": "matematika",
                                    "átlagár": "4520.777777777777"
                                },
                                {
                                    "stilus": "felvételi",
                                    "átlagár": "4501.333333333333"
                                }
                            ]
                        },
                        "text/html": "<table><tr><th>stilus</th><th>átlagár</th></tr><tr><td>ásványtan</td><td>5624</td></tr><tr><td>játék (rodeó)</td><td>5591</td></tr><tr><td>humor</td><td>5573</td></tr><tr><td>környezetvédelem</td><td>5508</td></tr><tr><td>kresz</td><td>5476</td></tr><tr><td>játék (jégkorong)</td><td>5242</td></tr><tr><td>színház</td><td>5158</td></tr><tr><td>múvészet</td><td>5118</td></tr><tr><td>kémia</td><td>5094</td></tr><tr><td>fordító program</td><td>5036</td></tr><tr><td>kerttervező</td><td>4951</td></tr><tr><td>művészet</td><td>4939.25</td></tr><tr><td>festészet</td><td>4901</td></tr><tr><td>zene</td><td>4855.333333333333</td></tr><tr><td>játék</td><td>4850.466666666666</td></tr><tr><td>játék (labdarúgás)</td><td>4817.333333333333</td></tr><tr><td>állattan</td><td>4783.666666666667</td></tr><tr><td>nyelvtan</td><td>4770.666666666667</td></tr><tr><td>fizika</td><td>4769</td></tr><tr><td>nyelvtanító</td><td>4759.476190476191</td></tr><tr><td>csillagászat</td><td>4733.571428571428</td></tr><tr><td>ismeretterjesztő</td><td>4726.673913043478</td></tr><tr><td>irodalom, nyelv</td><td>4704</td></tr><tr><td>gasztronómia</td><td>4691</td></tr><tr><td>történelem</td><td>4655.731707317073</td></tr><tr><td>szótár</td><td>4624.428571428572</td></tr><tr><td>sport</td><td>4607</td></tr><tr><td>földrajz</td><td>4580.0625</td></tr><tr><td>matematika</td><td>4520.777777777777</td></tr><tr><td>felvételi</td><td>4501.333333333333</td></tr></table>"
                    },
                    "metadata": {}
                }
            ],
            "execution_count": 23
        },
        {
            "cell_type": "markdown",
            "source": [
                "3. <span style=\"color:rgb(36, 41, 47);font-family:-apple-system, BlinkMacSystemFont, &quot;Segoe UI&quot;, Helvetica, Arial, sans-serif, &quot;Apple Color Emoji&quot;, &quot;Segoe UI Emoji&quot;;font-size:16px;\">Listázzuk nyelvenkénti, azon belül stílusonkénti bontásban, hogy mennyi a dvd-k legkisebb és legnagyobb ára!&nbsp;</span> \n",
                "\n",
                "<span style=\"font-size: 16px;\">a. Az oszlopok neve legyen 'Nyelv', 'Stílus', 'MinÁr' és 'MaxÁr'!<br>b.&nbsp;</span> A listából hagyjuk ki azokat a sorokat, ahol a nyelv vagy a stílus nincs megadva!  \n",
                "c. Szintén hagyjuk ki azokat a csoportokat, ahol a csoport elemszáma 3-nál kisebb!"
            ],
            "metadata": {
                "azdata_cell_guid": "9e7249de-1b59-43d8-84b1-26fa7d81fc5a"
            },
            "attachments": {}
        },
        {
            "cell_type": "code",
            "source": [
                "SELECT ny.lang AS Nyelv,\r\n",
                "        stilus AS Stílus,\r\n",
                "        MIN(nettoar) AS MinÁr,\r\n",
                "        MAX(nettoar) AS MaxÁR\r\n",
                "        \r\n",
                "FROM dvd JOIN nyelvek ny ON dvd.lang = ny.id\r\n",
                "GROUP BY ny.lang, stilus\r\n",
                "HAVING COUNT(*) < 3\r\n",
                ""
            ],
            "metadata": {
                "azdata_cell_guid": "6405d3e8-a9b1-45d7-aa76-3b1e785ef6cc",
                "language": "sql"
            },
            "outputs": [
                {
                    "output_type": "display_data",
                    "data": {
                        "text/html": "(39 rows affected)"
                    },
                    "metadata": {}
                },
                {
                    "output_type": "display_data",
                    "data": {
                        "text/html": "Total execution time: 00:00:00.018"
                    },
                    "metadata": {}
                },
                {
                    "output_type": "execute_result",
                    "execution_count": 32,
                    "data": {
                        "application/vnd.dataresource+json": {
                            "schema": {
                                "fields": [
                                    {
                                        "name": "Nyelv"
                                    },
                                    {
                                        "name": "Stílus"
                                    },
                                    {
                                        "name": "MinÁr"
                                    },
                                    {
                                        "name": "MaxÁR"
                                    }
                                ]
                            },
                            "data": [
                                {
                                    "Nyelv": "magyar",
                                    "Stílus": "ásványtan",
                                    "MinÁr": "5624",
                                    "MaxÁR": "5624"
                                },
                                {
                                    "Nyelv": "magyar",
                                    "Stílus": "betűtípusok",
                                    "MinÁr": "3845",
                                    "MaxÁR": "3845"
                                },
                                {
                                    "Nyelv": "angol",
                                    "Stílus": "felvételi",
                                    "MinÁr": "3876",
                                    "MaxÁR": "3876"
                                },
                                {
                                    "Nyelv": "német",
                                    "Stílus": "felvételi",
                                    "MinÁr": "3102",
                                    "MaxÁR": "3102"
                                },
                                {
                                    "Nyelv": "angol",
                                    "Stílus": "festészet",
                                    "MinÁr": "4394",
                                    "MaxÁR": "4394"
                                },
                                {
                                    "Nyelv": "magyar",
                                    "Stílus": "festészet",
                                    "MinÁr": "5408",
                                    "MaxÁR": "5408"
                                },
                                {
                                    "Nyelv": "magyar",
                                    "Stílus": "filmtörténet",
                                    "MinÁr": "3138",
                                    "MaxÁR": "4204"
                                },
                                {
                                    "Nyelv": "magyar/angol",
                                    "Stílus": "fordító program",
                                    "MinÁr": "5036",
                                    "MaxÁR": "5036"
                                },
                                {
                                    "Nyelv": "magyar",
                                    "Stílus": "gépírás",
                                    "MinÁr": "3936",
                                    "MaxÁR": "3936"
                                },
                                {
                                    "Nyelv": "magyar",
                                    "Stílus": "hadtudomány",
                                    "MinÁr": "3515",
                                    "MaxÁR": "3515"
                                },
                                {
                                    "Nyelv": "magyar",
                                    "Stílus": "humor",
                                    "MinÁr": "5573",
                                    "MaxÁR": "5573"
                                },
                                {
                                    "Nyelv": "magyar",
                                    "Stílus": "irodalom, nyelv",
                                    "MinÁr": "4704",
                                    "MaxÁR": "4704"
                                },
                                {
                                    "Nyelv": "magyar",
                                    "Stílus": "ismeretterjesztő + játék",
                                    "MinÁr": "3107",
                                    "MaxÁR": "3107"
                                },
                                {
                                    "Nyelv": "angol",
                                    "Stílus": "játék - autós",
                                    "MinÁr": "3989",
                                    "MaxÁR": "3989"
                                },
                                {
                                    "Nyelv": "angol",
                                    "Stílus": "játék (jégkorong)",
                                    "MinÁr": "5242",
                                    "MaxÁR": "5242"
                                },
                                {
                                    "Nyelv": "angol",
                                    "Stílus": "játék (labdarúgás)",
                                    "MinÁr": "3871",
                                    "MaxÁR": "5059"
                                },
                                {
                                    "Nyelv": "magyar",
                                    "Stílus": "játék (labdarúgás)",
                                    "MinÁr": "5522",
                                    "MaxÁR": "5522"
                                },
                                {
                                    "Nyelv": "angol",
                                    "Stílus": "játék (repülős)",
                                    "MinÁr": "4311",
                                    "MaxÁR": "4311"
                                },
                                {
                                    "Nyelv": "angol",
                                    "Stílus": "játék (rodeó)",
                                    "MinÁr": "5591",
                                    "MaxÁR": "5591"
                                },
                                {
                                    "Nyelv": "angol",
                                    "Stílus": "játék (történelmi)",
                                    "MinÁr": "3707",
                                    "MaxÁR": "3707"
                                },
                                {
                                    "Nyelv": "magyar",
                                    "Stílus": "játék, sakk",
                                    "MinÁr": "3644",
                                    "MaxÁR": "3644"
                                },
                                {
                                    "Nyelv": "magyar",
                                    "Stílus": "kémia",
                                    "MinÁr": "5094",
                                    "MaxÁR": "5094"
                                },
                                {
                                    "Nyelv": "angol",
                                    "Stílus": "kerttervező",
                                    "MinÁr": "4951",
                                    "MaxÁR": "4951"
                                },
                                {
                                    "Nyelv": "magyar",
                                    "Stílus": "környezetvédelem",
                                    "MinÁr": "5508",
                                    "MaxÁR": "5508"
                                },
                                {
                                    "Nyelv": "magyar",
                                    "Stílus": "kresz",
                                    "MinÁr": "5476",
                                    "MaxÁR": "5476"
                                },
                                {
                                    "Nyelv": "angol",
                                    "Stílus": "lakástervező",
                                    "MinÁr": "4287",
                                    "MaxÁR": "4287"
                                },
                                {
                                    "Nyelv": "magyar",
                                    "Stílus": "matematika, nyelvtan",
                                    "MinÁr": "4484",
                                    "MaxÁR": "4484"
                                },
                                {
                                    "Nyelv": "angol",
                                    "Stílus": "múvészet",
                                    "MinÁr": "5118",
                                    "MaxÁR": "5118"
                                },
                                {
                                    "Nyelv": "magyar",
                                    "Stílus": "növénytan",
                                    "MinÁr": "4438",
                                    "MaxÁR": "4438"
                                },
                                {
                                    "Nyelv": "orosz",
                                    "Stílus": "nyelvtanító",
                                    "MinÁr": "6009",
                                    "MaxÁR": "6009"
                                },
                                {
                                    "Nyelv": "angol",
                                    "Stílus": "régészet",
                                    "MinÁr": "3773",
                                    "MaxÁR": "3773"
                                },
                                {
                                    "Nyelv": "magyar",
                                    "Stílus": "sport",
                                    "MinÁr": "4607",
                                    "MaxÁR": "4607"
                                },
                                {
                                    "Nyelv": "magyar",
                                    "Stílus": "színház",
                                    "MinÁr": "5158",
                                    "MaxÁR": "5158"
                                },
                                {
                                    "Nyelv": "angol/német",
                                    "Stílus": "szótár",
                                    "MinÁr": "5734",
                                    "MaxÁR": "5734"
                                },
                                {
                                    "Nyelv": "francia",
                                    "Stílus": "szótár",
                                    "MinÁr": "3566",
                                    "MaxÁR": "3566"
                                },
                                {
                                    "Nyelv": "olasz",
                                    "Stílus": "szótár",
                                    "MinÁr": "4107",
                                    "MaxÁR": "4107"
                                },
                                {
                                    "Nyelv": "orosz",
                                    "Stílus": "szótár",
                                    "MinÁr": "4666",
                                    "MaxÁR": "4666"
                                },
                                {
                                    "Nyelv": "angol",
                                    "Stílus": "történelem",
                                    "MinÁr": "5041",
                                    "MaxÁR": "5041"
                                },
                                {
                                    "Nyelv": "angol",
                                    "Stílus": "zene",
                                    "MinÁr": "5336",
                                    "MaxÁR": "5336"
                                }
                            ]
                        },
                        "text/html": "<table><tr><th>Nyelv</th><th>Stílus</th><th>MinÁr</th><th>MaxÁR</th></tr><tr><td>magyar</td><td>ásványtan</td><td>5624</td><td>5624</td></tr><tr><td>magyar</td><td>betűtípusok</td><td>3845</td><td>3845</td></tr><tr><td>angol</td><td>felvételi</td><td>3876</td><td>3876</td></tr><tr><td>német</td><td>felvételi</td><td>3102</td><td>3102</td></tr><tr><td>angol</td><td>festészet</td><td>4394</td><td>4394</td></tr><tr><td>magyar</td><td>festészet</td><td>5408</td><td>5408</td></tr><tr><td>magyar</td><td>filmtörténet</td><td>3138</td><td>4204</td></tr><tr><td>magyar/angol</td><td>fordító program</td><td>5036</td><td>5036</td></tr><tr><td>magyar</td><td>gépírás</td><td>3936</td><td>3936</td></tr><tr><td>magyar</td><td>hadtudomány</td><td>3515</td><td>3515</td></tr><tr><td>magyar</td><td>humor</td><td>5573</td><td>5573</td></tr><tr><td>magyar</td><td>irodalom, nyelv</td><td>4704</td><td>4704</td></tr><tr><td>magyar</td><td>ismeretterjesztő + játék</td><td>3107</td><td>3107</td></tr><tr><td>angol</td><td>játék - autós</td><td>3989</td><td>3989</td></tr><tr><td>angol</td><td>játék (jégkorong)</td><td>5242</td><td>5242</td></tr><tr><td>angol</td><td>játék (labdarúgás)</td><td>3871</td><td>5059</td></tr><tr><td>magyar</td><td>játék (labdarúgás)</td><td>5522</td><td>5522</td></tr><tr><td>angol</td><td>játék (repülős)</td><td>4311</td><td>4311</td></tr><tr><td>angol</td><td>játék (rodeó)</td><td>5591</td><td>5591</td></tr><tr><td>angol</td><td>játék (történelmi)</td><td>3707</td><td>3707</td></tr><tr><td>magyar</td><td>játék, sakk</td><td>3644</td><td>3644</td></tr><tr><td>magyar</td><td>kémia</td><td>5094</td><td>5094</td></tr><tr><td>angol</td><td>kerttervező</td><td>4951</td><td>4951</td></tr><tr><td>magyar</td><td>környezetvédelem</td><td>5508</td><td>5508</td></tr><tr><td>magyar</td><td>kresz</td><td>5476</td><td>5476</td></tr><tr><td>angol</td><td>lakástervező</td><td>4287</td><td>4287</td></tr><tr><td>magyar</td><td>matematika, nyelvtan</td><td>4484</td><td>4484</td></tr><tr><td>angol</td><td>múvészet</td><td>5118</td><td>5118</td></tr><tr><td>magyar</td><td>növénytan</td><td>4438</td><td>4438</td></tr><tr><td>orosz</td><td>nyelvtanító</td><td>6009</td><td>6009</td></tr><tr><td>angol</td><td>régészet</td><td>3773</td><td>3773</td></tr><tr><td>magyar</td><td>sport</td><td>4607</td><td>4607</td></tr><tr><td>magyar</td><td>színház</td><td>5158</td><td>5158</td></tr><tr><td>angol/német</td><td>szótár</td><td>5734</td><td>5734</td></tr><tr><td>francia</td><td>szótár</td><td>3566</td><td>3566</td></tr><tr><td>olasz</td><td>szótár</td><td>4107</td><td>4107</td></tr><tr><td>orosz</td><td>szótár</td><td>4666</td><td>4666</td></tr><tr><td>angol</td><td>történelem</td><td>5041</td><td>5041</td></tr><tr><td>angol</td><td>zene</td><td>5336</td><td>5336</td></tr></table>"
                    },
                    "metadata": {}
                }
            ],
            "execution_count": 32
        },
        {
            "cell_type": "markdown",
            "source": [
                "4. <span style=\"color: rgb(36, 41, 47); font-family: -apple-system, BlinkMacSystemFont, &quot;Segoe UI&quot;, Helvetica, Arial, sans-serif, &quot;Apple Color Emoji&quot;, &quot;Segoe UI Emoji&quot;; font-size: 16px;\">Készítsünk listát, amely a csoportokat hoz létre aszerint, hogy a mai naptól számítva hány nap telt el a kölcsönzés kezdete óta. A lista jelenítse meg csoportonkénti bontásban a kikölcsönzött dvd-k számát!</span>\n",
                "\n",
                "1. Az oszlopokat nevezzük el értelemszerűen!\n",
                "2. A listát rendezzük az eltelt napok száma szerint csökkenő sorrendbe!"
            ],
            "metadata": {
                "azdata_cell_guid": "6478e469-c094-472c-a772-ccd5b5c61516"
            },
            "attachments": {}
        },
        {
            "cell_type": "code",
            "source": [
                "select DATEDIFF(day, ki_datum, '2023.03.04') AS 'eltelt napok',\r\n",
                "        COUNT(*) AS 'kölcsönzések száma'\r\n",
                "\r\n",
                "FROM kolcsonzesek\r\n",
                "group BY ki_datum\r\n",
                "ORDER BY 'eltelt napok' DESC"
            ],
            "metadata": {
                "azdata_cell_guid": "02031ea2-3838-458d-839c-228e3b362b61",
                "language": "sql"
            },
            "outputs": [
                {
                    "output_type": "display_data",
                    "data": {
                        "text/html": "(3 rows affected)"
                    },
                    "metadata": {}
                },
                {
                    "output_type": "display_data",
                    "data": {
                        "text/html": "Total execution time: 00:00:00.006"
                    },
                    "metadata": {}
                },
                {
                    "output_type": "execute_result",
                    "execution_count": 44,
                    "data": {
                        "application/vnd.dataresource+json": {
                            "schema": {
                                "fields": [
                                    {
                                        "name": "eltelt napok"
                                    },
                                    {
                                        "name": "kölcsönzések száma"
                                    }
                                ]
                            },
                            "data": [
                                {
                                    "eltelt napok": "7023",
                                    "kölcsönzések száma": "3"
                                },
                                {
                                    "eltelt napok": "5998",
                                    "kölcsönzések száma": "1"
                                },
                                {
                                    "eltelt napok": "5997",
                                    "kölcsönzések száma": "1"
                                }
                            ]
                        },
                        "text/html": "<table><tr><th>eltelt napok</th><th>kölcsönzések száma</th></tr><tr><td>7023</td><td>3</td></tr><tr><td>5998</td><td>1</td></tr><tr><td>5997</td><td>1</td></tr></table>"
                    },
                    "metadata": {}
                }
            ],
            "execution_count": 44
        },
        {
            "cell_type": "markdown",
            "source": [
                "5. <span style=\"color: rgb(36, 41, 47); font-family: -apple-system, BlinkMacSystemFont, &quot;Segoe UI&quot;, Helvetica, Arial, sans-serif, &quot;Apple Color Emoji&quot;, &quot;Segoe UI Emoji&quot;; font-size: 16px;\">A kölcsönző tulajdonosa elhatározza, hogy ezentúl kerekebb árakat alkalmaz. Ezért minden dvd árát 1000 Ft-ra kerekíti. Készítsünk lekérdezést, amely megmutatja, hogy melyik 1000 Ft-ra kerekített ár szerint, azon belül stílus szerint hány db dvd összesen raktáron! **</span>\n",
                "\n",
                "1. Csak olyan csoportokat listázzunk, ahol a raktárkészlet legalább 30!\n",
                "2. A listát rendezzük kerekített ár szerint, azon belül raktárkészlet szerint növekvő sorrendbe!"
            ],
            "metadata": {
                "azdata_cell_guid": "9edbbaf9-c276-4898-9a01-e1b2993c089f"
            },
            "attachments": {}
        },
        {
            "cell_type": "code",
            "source": [
                "SELECT FLOOR(nettoar/1000) * 1000 AS 'kerekített ár'\r\n",
                "FROM dvd"
            ],
            "metadata": {
                "azdata_cell_guid": "5ad5fdcb-2878-4111-861a-833bcd50e935",
                "language": "sql"
            },
            "outputs": [
                {
                    "output_type": "display_data",
                    "data": {
                        "text/html": "(318 rows affected)"
                    },
                    "metadata": {}
                },
                {
                    "output_type": "display_data",
                    "data": {
                        "text/html": "Total execution time: 00:00:00.040"
                    },
                    "metadata": {}
                },
                {
                    "output_type": "execute_result",
                    "execution_count": 71,
                    "data": {
                        "application/vnd.dataresource+json": {
                            "schema": {
                                "fields": [
                                    {
                                        "name": "kerekített ár"
                                    }
                                ]
                            },
                            "data": [
                                {
                                    "kerekített ár": "3000"
                                },
                                {
                                    "kerekített ár": "4000"
                                },
                                {
                                    "kerekített ár": "5000"
                                },
                                {
                                    "kerekített ár": "5000"
                                },
                                {
                                    "kerekített ár": "5000"
                                },
                                {
                                    "kerekített ár": "3000"
                                },
                                {
                                    "kerekített ár": "4000"
                                },
                                {
                                    "kerekített ár": "5000"
                                },
                                {
                                    "kerekített ár": "4000"
                                },
                                {
                                    "kerekített ár": "4000"
                                },
                                {
                                    "kerekített ár": "5000"
                                },
                                {
                                    "kerekített ár": "4000"
                                },
                                {
                                    "kerekített ár": "4000"
                                },
                                {
                                    "kerekített ár": "4000"
                                },
                                {
                                    "kerekített ár": "4000"
                                },
                                {
                                    "kerekített ár": "3000"
                                },
                                {
                                    "kerekített ár": "5000"
                                },
                                {
                                    "kerekített ár": "5000"
                                },
                                {
                                    "kerekített ár": "5000"
                                },
                                {
                                    "kerekített ár": "3000"
                                },
                                {
                                    "kerekített ár": "5000"
                                },
                                {
                                    "kerekített ár": "3000"
                                },
                                {
                                    "kerekített ár": "5000"
                                },
                                {
                                    "kerekített ár": "5000"
                                },
                                {
                                    "kerekített ár": "5000"
                                },
                                {
                                    "kerekített ár": "4000"
                                },
                                {
                                    "kerekített ár": "3000"
                                },
                                {
                                    "kerekített ár": "4000"
                                },
                                {
                                    "kerekített ár": "5000"
                                },
                                {
                                    "kerekített ár": "3000"
                                },
                                {
                                    "kerekített ár": "3000"
                                },
                                {
                                    "kerekített ár": "3000"
                                },
                                {
                                    "kerekített ár": "4000"
                                },
                                {
                                    "kerekített ár": "4000"
                                },
                                {
                                    "kerekített ár": "4000"
                                },
                                {
                                    "kerekített ár": "5000"
                                },
                                {
                                    "kerekített ár": "5000"
                                },
                                {
                                    "kerekített ár": "3000"
                                },
                                {
                                    "kerekített ár": "4000"
                                },
                                {
                                    "kerekített ár": "6000"
                                },
                                {
                                    "kerekített ár": "5000"
                                },
                                {
                                    "kerekített ár": "3000"
                                },
                                {
                                    "kerekített ár": "5000"
                                },
                                {
                                    "kerekített ár": "5000"
                                },
                                {
                                    "kerekített ár": "5000"
                                },
                                {
                                    "kerekített ár": "4000"
                                },
                                {
                                    "kerekített ár": "3000"
                                },
                                {
                                    "kerekített ár": "5000"
                                },
                                {
                                    "kerekített ár": "5000"
                                },
                                {
                                    "kerekített ár": "5000"
                                },
                                {
                                    "kerekített ár": "4000"
                                },
                                {
                                    "kerekített ár": "5000"
                                },
                                {
                                    "kerekített ár": "4000"
                                },
                                {
                                    "kerekített ár": "5000"
                                },
                                {
                                    "kerekített ár": "4000"
                                },
                                {
                                    "kerekített ár": "5000"
                                },
                                {
                                    "kerekített ár": "3000"
                                },
                                {
                                    "kerekített ár": "5000"
                                },
                                {
                                    "kerekített ár": "3000"
                                },
                                {
                                    "kerekített ár": "5000"
                                },
                                {
                                    "kerekített ár": "4000"
                                },
                                {
                                    "kerekített ár": "4000"
                                },
                                {
                                    "kerekített ár": "5000"
                                },
                                {
                                    "kerekített ár": "5000"
                                },
                                {
                                    "kerekített ár": "5000"
                                },
                                {
                                    "kerekített ár": "3000"
                                },
                                {
                                    "kerekített ár": "4000"
                                },
                                {
                                    "kerekített ár": "4000"
                                },
                                {
                                    "kerekített ár": "3000"
                                },
                                {
                                    "kerekített ár": "5000"
                                },
                                {
                                    "kerekített ár": "3000"
                                },
                                {
                                    "kerekített ár": "5000"
                                },
                                {
                                    "kerekített ár": "3000"
                                },
                                {
                                    "kerekített ár": "3000"
                                },
                                {
                                    "kerekített ár": "3000"
                                },
                                {
                                    "kerekített ár": "5000"
                                },
                                {
                                    "kerekített ár": "5000"
                                },
                                {
                                    "kerekített ár": "5000"
                                },
                                {
                                    "kerekített ár": "3000"
                                },
                                {
                                    "kerekített ár": "5000"
                                },
                                {
                                    "kerekített ár": "4000"
                                },
                                {
                                    "kerekített ár": "4000"
                                },
                                {
                                    "kerekített ár": "4000"
                                },
                                {
                                    "kerekített ár": "3000"
                                },
                                {
                                    "kerekített ár": "4000"
                                },
                                {
                                    "kerekített ár": "5000"
                                },
                                {
                                    "kerekített ár": "5000"
                                },
                                {
                                    "kerekített ár": "3000"
                                },
                                {
                                    "kerekített ár": "3000"
                                },
                                {
                                    "kerekített ár": "4000"
                                },
                                {
                                    "kerekített ár": "3000"
                                },
                                {
                                    "kerekített ár": "5000"
                                },
                                {
                                    "kerekített ár": "3000"
                                },
                                {
                                    "kerekített ár": "4000"
                                },
                                {
                                    "kerekített ár": "4000"
                                },
                                {
                                    "kerekített ár": "3000"
                                },
                                {
                                    "kerekített ár": "5000"
                                },
                                {
                                    "kerekített ár": "5000"
                                },
                                {
                                    "kerekített ár": "5000"
                                },
                                {
                                    "kerekített ár": "3000"
                                },
                                {
                                    "kerekített ár": "3000"
                                },
                                {
                                    "kerekített ár": "4000"
                                },
                                {
                                    "kerekített ár": "5000"
                                },
                                {
                                    "kerekített ár": "3000"
                                },
                                {
                                    "kerekített ár": "5000"
                                },
                                {
                                    "kerekített ár": "5000"
                                },
                                {
                                    "kerekített ár": "4000"
                                },
                                {
                                    "kerekített ár": "3000"
                                },
                                {
                                    "kerekített ár": "3000"
                                },
                                {
                                    "kerekített ár": "4000"
                                },
                                {
                                    "kerekített ár": "3000"
                                },
                                {
                                    "kerekített ár": "3000"
                                },
                                {
                                    "kerekített ár": "4000"
                                },
                                {
                                    "kerekített ár": "4000"
                                },
                                {
                                    "kerekített ár": "3000"
                                },
                                {
                                    "kerekített ár": "4000"
                                },
                                {
                                    "kerekített ár": "3000"
                                },
                                {
                                    "kerekített ár": "4000"
                                },
                                {
                                    "kerekített ár": "3000"
                                },
                                {
                                    "kerekített ár": "4000"
                                },
                                {
                                    "kerekített ár": "5000"
                                },
                                {
                                    "kerekített ár": "3000"
                                },
                                {
                                    "kerekített ár": "5000"
                                },
                                {
                                    "kerekített ár": "5000"
                                },
                                {
                                    "kerekített ár": "5000"
                                },
                                {
                                    "kerekített ár": "6000"
                                },
                                {
                                    "kerekített ár": "3000"
                                },
                                {
                                    "kerekített ár": "4000"
                                },
                                {
                                    "kerekített ár": "4000"
                                },
                                {
                                    "kerekített ár": "3000"
                                },
                                {
                                    "kerekített ár": "5000"
                                },
                                {
                                    "kerekített ár": "4000"
                                },
                                {
                                    "kerekített ár": "3000"
                                },
                                {
                                    "kerekített ár": "6000"
                                },
                                {
                                    "kerekített ár": "3000"
                                },
                                {
                                    "kerekített ár": "5000"
                                },
                                {
                                    "kerekített ár": "5000"
                                },
                                {
                                    "kerekített ár": "3000"
                                },
                                {
                                    "kerekített ár": "5000"
                                },
                                {
                                    "kerekített ár": "4000"
                                },
                                {
                                    "kerekített ár": "5000"
                                },
                                {
                                    "kerekített ár": "4000"
                                },
                                {
                                    "kerekített ár": "4000"
                                },
                                {
                                    "kerekített ár": "3000"
                                },
                                {
                                    "kerekített ár": "5000"
                                },
                                {
                                    "kerekített ár": "5000"
                                },
                                {
                                    "kerekített ár": "5000"
                                },
                                {
                                    "kerekített ár": "4000"
                                },
                                {
                                    "kerekített ár": "5000"
                                },
                                {
                                    "kerekített ár": "3000"
                                },
                                {
                                    "kerekített ár": "5000"
                                },
                                {
                                    "kerekített ár": "4000"
                                },
                                {
                                    "kerekített ár": "5000"
                                },
                                {
                                    "kerekített ár": "3000"
                                },
                                {
                                    "kerekített ár": "5000"
                                },
                                {
                                    "kerekített ár": "5000"
                                },
                                {
                                    "kerekített ár": "5000"
                                },
                                {
                                    "kerekített ár": "3000"
                                },
                                {
                                    "kerekített ár": "4000"
                                },
                                {
                                    "kerekített ár": "4000"
                                },
                                {
                                    "kerekített ár": "4000"
                                },
                                {
                                    "kerekített ár": "5000"
                                },
                                {
                                    "kerekített ár": "4000"
                                },
                                {
                                    "kerekített ár": "5000"
                                },
                                {
                                    "kerekített ár": "3000"
                                },
                                {
                                    "kerekített ár": "5000"
                                },
                                {
                                    "kerekített ár": "4000"
                                },
                                {
                                    "kerekített ár": "4000"
                                },
                                {
                                    "kerekített ár": "4000"
                                },
                                {
                                    "kerekített ár": "3000"
                                },
                                {
                                    "kerekített ár": "5000"
                                },
                                {
                                    "kerekített ár": "4000"
                                },
                                {
                                    "kerekített ár": "3000"
                                },
                                {
                                    "kerekített ár": "4000"
                                },
                                {
                                    "kerekített ár": "3000"
                                },
                                {
                                    "kerekített ár": "4000"
                                },
                                {
                                    "kerekített ár": "4000"
                                },
                                {
                                    "kerekített ár": "5000"
                                },
                                {
                                    "kerekített ár": "4000"
                                },
                                {
                                    "kerekített ár": "3000"
                                },
                                {
                                    "kerekített ár": "3000"
                                },
                                {
                                    "kerekített ár": "3000"
                                },
                                {
                                    "kerekített ár": "5000"
                                },
                                {
                                    "kerekített ár": "5000"
                                },
                                {
                                    "kerekített ár": "5000"
                                },
                                {
                                    "kerekített ár": "6000"
                                },
                                {
                                    "kerekített ár": "5000"
                                },
                                {
                                    "kerekített ár": "6000"
                                },
                                {
                                    "kerekített ár": "3000"
                                },
                                {
                                    "kerekített ár": "4000"
                                },
                                {
                                    "kerekített ár": "5000"
                                },
                                {
                                    "kerekített ár": "5000"
                                },
                                {
                                    "kerekített ár": "4000"
                                },
                                {
                                    "kerekített ár": "5000"
                                },
                                {
                                    "kerekített ár": "5000"
                                },
                                {
                                    "kerekített ár": "5000"
                                },
                                {
                                    "kerekített ár": "3000"
                                },
                                {
                                    "kerekített ár": "4000"
                                },
                                {
                                    "kerekített ár": "4000"
                                },
                                {
                                    "kerekített ár": "3000"
                                },
                                {
                                    "kerekített ár": "4000"
                                },
                                {
                                    "kerekített ár": "5000"
                                },
                                {
                                    "kerekített ár": "6000"
                                },
                                {
                                    "kerekített ár": "3000"
                                },
                                {
                                    "kerekített ár": "4000"
                                },
                                {
                                    "kerekített ár": "3000"
                                },
                                {
                                    "kerekített ár": "5000"
                                },
                                {
                                    "kerekített ár": "4000"
                                },
                                {
                                    "kerekített ár": "4000"
                                },
                                {
                                    "kerekített ár": "5000"
                                },
                                {
                                    "kerekített ár": "3000"
                                },
                                {
                                    "kerekített ár": "4000"
                                },
                                {
                                    "kerekített ár": "5000"
                                },
                                {
                                    "kerekített ár": "6000"
                                },
                                {
                                    "kerekített ár": "3000"
                                },
                                {
                                    "kerekített ár": "5000"
                                },
                                {
                                    "kerekített ár": "6000"
                                },
                                {
                                    "kerekített ár": "3000"
                                },
                                {
                                    "kerekített ár": "4000"
                                },
                                {
                                    "kerekített ár": "5000"
                                },
                                {
                                    "kerekített ár": "4000"
                                },
                                {
                                    "kerekített ár": "5000"
                                },
                                {
                                    "kerekített ár": "4000"
                                },
                                {
                                    "kerekített ár": "3000"
                                },
                                {
                                    "kerekített ár": "3000"
                                },
                                {
                                    "kerekített ár": "3000"
                                },
                                {
                                    "kerekített ár": "4000"
                                },
                                {
                                    "kerekített ár": "3000"
                                },
                                {
                                    "kerekített ár": "5000"
                                },
                                {
                                    "kerekített ár": "4000"
                                },
                                {
                                    "kerekített ár": "3000"
                                },
                                {
                                    "kerekített ár": "3000"
                                },
                                {
                                    "kerekített ár": "5000"
                                },
                                {
                                    "kerekített ár": "3000"
                                },
                                {
                                    "kerekített ár": "4000"
                                },
                                {
                                    "kerekített ár": "5000"
                                },
                                {
                                    "kerekített ár": "6000"
                                },
                                {
                                    "kerekített ár": "4000"
                                },
                                {
                                    "kerekített ár": "4000"
                                },
                                {
                                    "kerekített ár": "4000"
                                },
                                {
                                    "kerekített ár": "3000"
                                },
                                {
                                    "kerekített ár": "4000"
                                },
                                {
                                    "kerekített ár": "5000"
                                },
                                {
                                    "kerekített ár": "6000"
                                },
                                {
                                    "kerekített ár": "5000"
                                },
                                {
                                    "kerekített ár": "5000"
                                },
                                {
                                    "kerekített ár": "3000"
                                },
                                {
                                    "kerekített ár": "5000"
                                },
                                {
                                    "kerekített ár": "3000"
                                },
                                {
                                    "kerekített ár": "4000"
                                },
                                {
                                    "kerekített ár": "3000"
                                },
                                {
                                    "kerekített ár": "4000"
                                },
                                {
                                    "kerekített ár": "3000"
                                },
                                {
                                    "kerekített ár": "4000"
                                },
                                {
                                    "kerekített ár": "4000"
                                },
                                {
                                    "kerekített ár": "5000"
                                },
                                {
                                    "kerekített ár": "4000"
                                },
                                {
                                    "kerekített ár": "3000"
                                },
                                {
                                    "kerekített ár": "3000"
                                },
                                {
                                    "kerekített ár": "5000"
                                },
                                {
                                    "kerekített ár": "3000"
                                },
                                {
                                    "kerekített ár": "5000"
                                },
                                {
                                    "kerekített ár": "5000"
                                },
                                {
                                    "kerekített ár": "4000"
                                },
                                {
                                    "kerekített ár": "5000"
                                },
                                {
                                    "kerekített ár": "6000"
                                },
                                {
                                    "kerekített ár": "5000"
                                },
                                {
                                    "kerekített ár": "4000"
                                },
                                {
                                    "kerekített ár": "5000"
                                },
                                {
                                    "kerekített ár": "4000"
                                },
                                {
                                    "kerekített ár": "4000"
                                },
                                {
                                    "kerekített ár": "6000"
                                },
                                {
                                    "kerekített ár": "4000"
                                },
                                {
                                    "kerekített ár": "4000"
                                },
                                {
                                    "kerekített ár": "6000"
                                },
                                {
                                    "kerekített ár": "3000"
                                },
                                {
                                    "kerekített ár": "4000"
                                },
                                {
                                    "kerekített ár": "5000"
                                },
                                {
                                    "kerekített ár": "4000"
                                },
                                {
                                    "kerekített ár": "4000"
                                },
                                {
                                    "kerekített ár": "5000"
                                },
                                {
                                    "kerekített ár": "5000"
                                },
                                {
                                    "kerekített ár": "4000"
                                },
                                {
                                    "kerekített ár": "4000"
                                },
                                {
                                    "kerekített ár": "3000"
                                },
                                {
                                    "kerekített ár": "3000"
                                },
                                {
                                    "kerekített ár": "3000"
                                },
                                {
                                    "kerekített ár": "3000"
                                },
                                {
                                    "kerekített ár": "5000"
                                },
                                {
                                    "kerekített ár": "4000"
                                },
                                {
                                    "kerekített ár": "5000"
                                },
                                {
                                    "kerekített ár": "4000"
                                },
                                {
                                    "kerekített ár": "5000"
                                },
                                {
                                    "kerekített ár": "5000"
                                },
                                {
                                    "kerekített ár": "5000"
                                },
                                {
                                    "kerekített ár": "6000"
                                },
                                {
                                    "kerekített ár": "3000"
                                },
                                {
                                    "kerekített ár": "5000"
                                },
                                {
                                    "kerekített ár": "3000"
                                },
                                {
                                    "kerekített ár": "5000"
                                },
                                {
                                    "kerekített ár": "5000"
                                },
                                {
                                    "kerekített ár": "4000"
                                },
                                {
                                    "kerekített ár": "4000"
                                },
                                {
                                    "kerekített ár": "3000"
                                },
                                {
                                    "kerekített ár": "4000"
                                },
                                {
                                    "kerekített ár": "5000"
                                },
                                {
                                    "kerekített ár": "4000"
                                },
                                {
                                    "kerekített ár": "5000"
                                },
                                {
                                    "kerekített ár": "4000"
                                },
                                {
                                    "kerekített ár": "5000"
                                },
                                {
                                    "kerekített ár": "5000"
                                },
                                {
                                    "kerekített ár": "3000"
                                },
                                {
                                    "kerekített ár": "3000"
                                },
                                {
                                    "kerekített ár": "5000"
                                },
                                {
                                    "kerekített ár": "5000"
                                },
                                {
                                    "kerekített ár": "4000"
                                },
                                {
                                    "kerekített ár": "4000"
                                },
                                {
                                    "kerekített ár": "6000"
                                }
                            ]
                        },
                        "text/html": "<table><tr><th>kerekített ár</th></tr><tr><td>3000</td></tr><tr><td>4000</td></tr><tr><td>5000</td></tr><tr><td>5000</td></tr><tr><td>5000</td></tr><tr><td>3000</td></tr><tr><td>4000</td></tr><tr><td>5000</td></tr><tr><td>4000</td></tr><tr><td>4000</td></tr><tr><td>5000</td></tr><tr><td>4000</td></tr><tr><td>4000</td></tr><tr><td>4000</td></tr><tr><td>4000</td></tr><tr><td>3000</td></tr><tr><td>5000</td></tr><tr><td>5000</td></tr><tr><td>5000</td></tr><tr><td>3000</td></tr><tr><td>5000</td></tr><tr><td>3000</td></tr><tr><td>5000</td></tr><tr><td>5000</td></tr><tr><td>5000</td></tr><tr><td>4000</td></tr><tr><td>3000</td></tr><tr><td>4000</td></tr><tr><td>5000</td></tr><tr><td>3000</td></tr><tr><td>3000</td></tr><tr><td>3000</td></tr><tr><td>4000</td></tr><tr><td>4000</td></tr><tr><td>4000</td></tr><tr><td>5000</td></tr><tr><td>5000</td></tr><tr><td>3000</td></tr><tr><td>4000</td></tr><tr><td>6000</td></tr><tr><td>5000</td></tr><tr><td>3000</td></tr><tr><td>5000</td></tr><tr><td>5000</td></tr><tr><td>5000</td></tr><tr><td>4000</td></tr><tr><td>3000</td></tr><tr><td>5000</td></tr><tr><td>5000</td></tr><tr><td>5000</td></tr><tr><td>4000</td></tr><tr><td>5000</td></tr><tr><td>4000</td></tr><tr><td>5000</td></tr><tr><td>4000</td></tr><tr><td>5000</td></tr><tr><td>3000</td></tr><tr><td>5000</td></tr><tr><td>3000</td></tr><tr><td>5000</td></tr><tr><td>4000</td></tr><tr><td>4000</td></tr><tr><td>5000</td></tr><tr><td>5000</td></tr><tr><td>5000</td></tr><tr><td>3000</td></tr><tr><td>4000</td></tr><tr><td>4000</td></tr><tr><td>3000</td></tr><tr><td>5000</td></tr><tr><td>3000</td></tr><tr><td>5000</td></tr><tr><td>3000</td></tr><tr><td>3000</td></tr><tr><td>3000</td></tr><tr><td>5000</td></tr><tr><td>5000</td></tr><tr><td>5000</td></tr><tr><td>3000</td></tr><tr><td>5000</td></tr><tr><td>4000</td></tr><tr><td>4000</td></tr><tr><td>4000</td></tr><tr><td>3000</td></tr><tr><td>4000</td></tr><tr><td>5000</td></tr><tr><td>5000</td></tr><tr><td>3000</td></tr><tr><td>3000</td></tr><tr><td>4000</td></tr><tr><td>3000</td></tr><tr><td>5000</td></tr><tr><td>3000</td></tr><tr><td>4000</td></tr><tr><td>4000</td></tr><tr><td>3000</td></tr><tr><td>5000</td></tr><tr><td>5000</td></tr><tr><td>5000</td></tr><tr><td>3000</td></tr><tr><td>3000</td></tr><tr><td>4000</td></tr><tr><td>5000</td></tr><tr><td>3000</td></tr><tr><td>5000</td></tr><tr><td>5000</td></tr><tr><td>4000</td></tr><tr><td>3000</td></tr><tr><td>3000</td></tr><tr><td>4000</td></tr><tr><td>3000</td></tr><tr><td>3000</td></tr><tr><td>4000</td></tr><tr><td>4000</td></tr><tr><td>3000</td></tr><tr><td>4000</td></tr><tr><td>3000</td></tr><tr><td>4000</td></tr><tr><td>3000</td></tr><tr><td>4000</td></tr><tr><td>5000</td></tr><tr><td>3000</td></tr><tr><td>5000</td></tr><tr><td>5000</td></tr><tr><td>5000</td></tr><tr><td>6000</td></tr><tr><td>3000</td></tr><tr><td>4000</td></tr><tr><td>4000</td></tr><tr><td>3000</td></tr><tr><td>5000</td></tr><tr><td>4000</td></tr><tr><td>3000</td></tr><tr><td>6000</td></tr><tr><td>3000</td></tr><tr><td>5000</td></tr><tr><td>5000</td></tr><tr><td>3000</td></tr><tr><td>5000</td></tr><tr><td>4000</td></tr><tr><td>5000</td></tr><tr><td>4000</td></tr><tr><td>4000</td></tr><tr><td>3000</td></tr><tr><td>5000</td></tr><tr><td>5000</td></tr><tr><td>5000</td></tr><tr><td>4000</td></tr><tr><td>5000</td></tr><tr><td>3000</td></tr><tr><td>5000</td></tr><tr><td>4000</td></tr><tr><td>5000</td></tr><tr><td>3000</td></tr><tr><td>5000</td></tr><tr><td>5000</td></tr><tr><td>5000</td></tr><tr><td>3000</td></tr><tr><td>4000</td></tr><tr><td>4000</td></tr><tr><td>4000</td></tr><tr><td>5000</td></tr><tr><td>4000</td></tr><tr><td>5000</td></tr><tr><td>3000</td></tr><tr><td>5000</td></tr><tr><td>4000</td></tr><tr><td>4000</td></tr><tr><td>4000</td></tr><tr><td>3000</td></tr><tr><td>5000</td></tr><tr><td>4000</td></tr><tr><td>3000</td></tr><tr><td>4000</td></tr><tr><td>3000</td></tr><tr><td>4000</td></tr><tr><td>4000</td></tr><tr><td>5000</td></tr><tr><td>4000</td></tr><tr><td>3000</td></tr><tr><td>3000</td></tr><tr><td>3000</td></tr><tr><td>5000</td></tr><tr><td>5000</td></tr><tr><td>5000</td></tr><tr><td>6000</td></tr><tr><td>5000</td></tr><tr><td>6000</td></tr><tr><td>3000</td></tr><tr><td>4000</td></tr><tr><td>5000</td></tr><tr><td>5000</td></tr><tr><td>4000</td></tr><tr><td>5000</td></tr><tr><td>5000</td></tr><tr><td>5000</td></tr><tr><td>3000</td></tr><tr><td>4000</td></tr><tr><td>4000</td></tr><tr><td>3000</td></tr><tr><td>4000</td></tr><tr><td>5000</td></tr><tr><td>6000</td></tr><tr><td>3000</td></tr><tr><td>4000</td></tr><tr><td>3000</td></tr><tr><td>5000</td></tr><tr><td>4000</td></tr><tr><td>4000</td></tr><tr><td>5000</td></tr><tr><td>3000</td></tr><tr><td>4000</td></tr><tr><td>5000</td></tr><tr><td>6000</td></tr><tr><td>3000</td></tr><tr><td>5000</td></tr><tr><td>6000</td></tr><tr><td>3000</td></tr><tr><td>4000</td></tr><tr><td>5000</td></tr><tr><td>4000</td></tr><tr><td>5000</td></tr><tr><td>4000</td></tr><tr><td>3000</td></tr><tr><td>3000</td></tr><tr><td>3000</td></tr><tr><td>4000</td></tr><tr><td>3000</td></tr><tr><td>5000</td></tr><tr><td>4000</td></tr><tr><td>3000</td></tr><tr><td>3000</td></tr><tr><td>5000</td></tr><tr><td>3000</td></tr><tr><td>4000</td></tr><tr><td>5000</td></tr><tr><td>6000</td></tr><tr><td>4000</td></tr><tr><td>4000</td></tr><tr><td>4000</td></tr><tr><td>3000</td></tr><tr><td>4000</td></tr><tr><td>5000</td></tr><tr><td>6000</td></tr><tr><td>5000</td></tr><tr><td>5000</td></tr><tr><td>3000</td></tr><tr><td>5000</td></tr><tr><td>3000</td></tr><tr><td>4000</td></tr><tr><td>3000</td></tr><tr><td>4000</td></tr><tr><td>3000</td></tr><tr><td>4000</td></tr><tr><td>4000</td></tr><tr><td>5000</td></tr><tr><td>4000</td></tr><tr><td>3000</td></tr><tr><td>3000</td></tr><tr><td>5000</td></tr><tr><td>3000</td></tr><tr><td>5000</td></tr><tr><td>5000</td></tr><tr><td>4000</td></tr><tr><td>5000</td></tr><tr><td>6000</td></tr><tr><td>5000</td></tr><tr><td>4000</td></tr><tr><td>5000</td></tr><tr><td>4000</td></tr><tr><td>4000</td></tr><tr><td>6000</td></tr><tr><td>4000</td></tr><tr><td>4000</td></tr><tr><td>6000</td></tr><tr><td>3000</td></tr><tr><td>4000</td></tr><tr><td>5000</td></tr><tr><td>4000</td></tr><tr><td>4000</td></tr><tr><td>5000</td></tr><tr><td>5000</td></tr><tr><td>4000</td></tr><tr><td>4000</td></tr><tr><td>3000</td></tr><tr><td>3000</td></tr><tr><td>3000</td></tr><tr><td>3000</td></tr><tr><td>5000</td></tr><tr><td>4000</td></tr><tr><td>5000</td></tr><tr><td>4000</td></tr><tr><td>5000</td></tr><tr><td>5000</td></tr><tr><td>5000</td></tr><tr><td>6000</td></tr><tr><td>3000</td></tr><tr><td>5000</td></tr><tr><td>3000</td></tr><tr><td>5000</td></tr><tr><td>5000</td></tr><tr><td>4000</td></tr><tr><td>4000</td></tr><tr><td>3000</td></tr><tr><td>4000</td></tr><tr><td>5000</td></tr><tr><td>4000</td></tr><tr><td>5000</td></tr><tr><td>4000</td></tr><tr><td>5000</td></tr><tr><td>5000</td></tr><tr><td>3000</td></tr><tr><td>3000</td></tr><tr><td>5000</td></tr><tr><td>5000</td></tr><tr><td>4000</td></tr><tr><td>4000</td></tr><tr><td>6000</td></tr></table>"
                    },
                    "metadata": {}
                }
            ],
            "execution_count": 71
        },
        {
            "cell_type": "markdown",
            "source": [
                "6. <span style=\"font-weight: 600; color: rgb(36, 41, 47); font-family: -apple-system, BlinkMacSystemFont, &quot;Segoe UI&quot;, Helvetica, Arial, sans-serif, &quot;Apple Color Emoji&quot;, &quot;Segoe UI Emoji&quot;; font-size: 16px;\">A dvd-ket csoportosíthatjuk aszerint, hogy milyen hosszú a címük. Amelyiknél a cím hosszúsága 10 karakter alatt van, az legyen Rövid, 10-20-ig Átlagos, 20 felett Hosszú. Hány Rövid, Átlagos, illetve Hosszú dvd-van összesen raktáron?</span>\n",
                "\n",
                "1. Az oszlopok neve legyen 'Cím hosszúság' és 'Darabszám"
            ],
            "metadata": {
                "azdata_cell_guid": "5fe65c1c-2479-45ac-ad03-ec99d12eae21"
            },
            "attachments": {}
        },
        {
            "cell_type": "code",
            "source": [
                "select CASE WHEN LEN(cim) < 10 then 'Rövid'\r\n",
                "            when LEN(cim) BETWEEN 10 and 20 Then 'Közepes'\r\n",
                "            else 'Hosszú'\r\n",
                "        END AS 'Cím hosszúság',\r\n",
                "            SUM([raktár készlet]) AS 'Darabszám'\r\n",
                "\r\n",
                "FROM dvd\r\n",
                "GROUP BY CASE WHEN LEN(cim) < 10 then 'Rövid'\r\n",
                "            when LEN(cim) BETWEEN 10 and 20 Then 'Közepes'\r\n",
                "            else 'Hosszú'\r\n",
                "            END"
            ],
            "metadata": {
                "azdata_cell_guid": "924f2dde-f1c2-4def-a7f9-dbf4bace7735",
                "language": "sql"
            },
            "outputs": [
                {
                    "output_type": "display_data",
                    "data": {
                        "text/html": "(3 rows affected)"
                    },
                    "metadata": {}
                },
                {
                    "output_type": "display_data",
                    "data": {
                        "text/html": "Total execution time: 00:00:00.023"
                    },
                    "metadata": {}
                },
                {
                    "output_type": "execute_result",
                    "execution_count": 11,
                    "data": {
                        "application/vnd.dataresource+json": {
                            "schema": {
                                "fields": [
                                    {
                                        "name": "Cím hosszúság"
                                    },
                                    {
                                        "name": "Darabszám"
                                    }
                                ]
                            },
                            "data": [
                                {
                                    "Cím hosszúság": "Hosszú",
                                    "Darabszám": "2128"
                                },
                                {
                                    "Cím hosszúság": "Közepes",
                                    "Darabszám": "930"
                                },
                                {
                                    "Cím hosszúság": "Rövid",
                                    "Darabszám": "120"
                                }
                            ]
                        },
                        "text/html": "<table><tr><th>Cím hosszúság</th><th>Darabszám</th></tr><tr><td>Hosszú</td><td>2128</td></tr><tr><td>Közepes</td><td>930</td></tr><tr><td>Rövid</td><td>120</td></tr></table>"
                    },
                    "metadata": {}
                }
            ],
            "execution_count": 11
        },
        {
            "cell_type": "markdown",
            "source": [
                "7. <span style=\"color: rgb(36, 41, 47); font-family: -apple-system, BlinkMacSystemFont, &quot;Segoe UI&quot;, Helvetica, Arial, sans-serif, &quot;Apple Color Emoji&quot;, &quot;Segoe UI Emoji&quot;; font-size: 16px;\">Készítsünk listát arról, hogy melyik teremben hány óra van!</span>\n",
                "\n",
                "1. Jelenítsük meg a termek azonosítóit és a teremben tartott órák számát!\n",
                "2. Az oszlopokat nevezzük el értelemszerűen!\n",
                "3. Szűrjünk azokra a termekre, ahol az órák száma legalább 3!"
            ],
            "metadata": {
                "azdata_cell_guid": "3aeb6bf5-b111-40d5-92b2-9712ce335696"
            },
            "attachments": {}
        },
        {
            "cell_type": "code",
            "source": [
                "--többtáblás lekérdezés\r\n",
                "--tanulmányi adatbázis\r\n",
                "SELECT terem,\r\n",
                "        COUNT(*) AS \"órák száma\"\r\n",
                "FROM Orak\r\n",
                "GROUP BY terem\r\n",
                "HAVING count(*) >= 3"
            ],
            "metadata": {
                "azdata_cell_guid": "3e89b651-f56f-4102-af52-30eb2bbe360d",
                "language": "sql"
            },
            "outputs": [
                {
                    "output_type": "display_data",
                    "data": {
                        "text/html": "(11 rows affected)"
                    },
                    "metadata": {}
                },
                {
                    "output_type": "display_data",
                    "data": {
                        "text/html": "Total execution time: 00:00:00.011"
                    },
                    "metadata": {}
                },
                {
                    "output_type": "execute_result",
                    "execution_count": 13,
                    "data": {
                        "application/vnd.dataresource+json": {
                            "schema": {
                                "fields": [
                                    {
                                        "name": "terem"
                                    },
                                    {
                                        "name": "órák száma"
                                    }
                                ]
                            },
                            "data": [
                                {
                                    "terem": "2",
                                    "órák száma": "5"
                                },
                                {
                                    "terem": "3",
                                    "órák száma": "11"
                                },
                                {
                                    "terem": "4",
                                    "órák száma": "8"
                                },
                                {
                                    "terem": "5",
                                    "órák száma": "5"
                                },
                                {
                                    "terem": "6",
                                    "órák száma": "6"
                                },
                                {
                                    "terem": "7",
                                    "órák száma": "6"
                                },
                                {
                                    "terem": "8",
                                    "órák száma": "6"
                                },
                                {
                                    "terem": "10",
                                    "órák száma": "3"
                                },
                                {
                                    "terem": "12",
                                    "órák száma": "3"
                                },
                                {
                                    "terem": "13",
                                    "órák száma": "5"
                                },
                                {
                                    "terem": "14",
                                    "órák száma": "3"
                                }
                            ]
                        },
                        "text/html": "<table><tr><th>terem</th><th>órák száma</th></tr><tr><td>2</td><td>5</td></tr><tr><td>3</td><td>11</td></tr><tr><td>4</td><td>8</td></tr><tr><td>5</td><td>5</td></tr><tr><td>6</td><td>6</td></tr><tr><td>7</td><td>6</td></tr><tr><td>8</td><td>6</td></tr><tr><td>10</td><td>3</td></tr><tr><td>12</td><td>3</td></tr><tr><td>13</td><td>5</td></tr><tr><td>14</td><td>3</td></tr></table>"
                    },
                    "metadata": {}
                }
            ],
            "execution_count": 13
        },
        {
            "cell_type": "markdown",
            "source": [
                "8. <span style=\"color: rgb(36, 41, 47); font-family: -apple-system, BlinkMacSystemFont, &quot;Segoe UI&quot;, Helvetica, Arial, sans-serif, &quot;Apple Color Emoji&quot;, &quot;Segoe UI Emoji&quot;; font-size: 16px;\">Készítsünk lekérdezést, amely megadja, hogy minimálian és maximálisan hány kreditet ér egy tantárgy!</span>\n",
                "\n",
                "1. Az oszlopokat nevezzük el értelemszerűen!\n",
                "2. Ne vegyük figyelembe azokat a tantárgyakat, amelyek nevében az „alapjai” szó szerepel, vagy a tantárgy neve 10 karakternél rövidebb!"
            ],
            "metadata": {
                "azdata_cell_guid": "26a504dc-ff6a-439f-94c0-4580eca3eacf"
            },
            "attachments": {}
        },
        {
            "cell_type": "code",
            "source": [
                "select MIN(Kredit) AS 'MinKredit',\r\n",
                "        MAX(Kredit) AS 'MaxKredit'\r\n",
                "FROM Tantárgyak\r\n",
                "WHERE Tantárgynév not like 'alapjai' and LEN(Tantárgynév) >= 10"
            ],
            "metadata": {
                "azdata_cell_guid": "1cbb8aeb-78b5-4350-aa45-e3202fdab85b",
                "language": "sql"
            },
            "outputs": [
                {
                    "output_type": "display_data",
                    "data": {
                        "text/html": "(1 row affected)"
                    },
                    "metadata": {}
                },
                {
                    "output_type": "display_data",
                    "data": {
                        "text/html": "Total execution time: 00:00:00.011"
                    },
                    "metadata": {}
                },
                {
                    "output_type": "execute_result",
                    "execution_count": 16,
                    "data": {
                        "application/vnd.dataresource+json": {
                            "schema": {
                                "fields": [
                                    {
                                        "name": "MinKredit"
                                    },
                                    {
                                        "name": "MaxKredit"
                                    }
                                ]
                            },
                            "data": [
                                {
                                    "MinKredit": "1",
                                    "MaxKredit": "5"
                                }
                            ]
                        },
                        "text/html": "<table><tr><th>MinKredit</th><th>MaxKredit</th></tr><tr><td>1</td><td>5</td></tr></table>"
                    },
                    "metadata": {}
                }
            ],
            "execution_count": 16
        },
        {
            "cell_type": "markdown",
            "source": [
                "9. <span style=\"color: rgb(36, 41, 47); font-family: -apple-system, BlinkMacSystemFont, &quot;Segoe UI&quot;, Helvetica, Arial, sans-serif, &quot;Apple Color Emoji&quot;, &quot;Segoe UI Emoji&quot;; font-size: 16px;\">A tapasztalat alapján a tanársegédeknek 8, az óraadóknak 10 órájuk van egy héten. A többiek annyi órát tartanak, amennyi az elvárt óraszámuk. Készítsünk lekérdezést, amely minden beosztáshoz megjeleníti, hogy hetente hány túlóra tartozik hozzá!</span>\n",
                "\n",
                "1. A lekérdezés csak a beosztások nevét és a heti túlórák számát jelenítse meg!"
            ],
            "metadata": {
                "azdata_cell_guid": "435e2860-2dd5-4877-90f4-34a43baeb53c"
            },
            "attachments": {}
        },
        {
            "cell_type": "code",
            "source": [
                "SELECT beosztasnev,\r\n",
                "        case when beosztasnev = 'Tanársegéd' then 8\r\n",
                "        when beosztasnev = 'Óraadó' then 10\r\n",
                "        else elvart\r\n",
                "        end - elvart\r\n",
                "FROM Beosztasok"
            ],
            "metadata": {
                "azdata_cell_guid": "ce846351-ddbe-4d8e-b8fb-2a92c73ac80b",
                "language": "sql",
                "tags": []
            },
            "outputs": [
                {
                    "output_type": "display_data",
                    "data": {
                        "text/html": "(7 rows affected)"
                    },
                    "metadata": {}
                },
                {
                    "output_type": "display_data",
                    "data": {
                        "text/html": "Total execution time: 00:00:00.015"
                    },
                    "metadata": {}
                },
                {
                    "output_type": "execute_result",
                    "execution_count": 18,
                    "data": {
                        "application/vnd.dataresource+json": {
                            "schema": {
                                "fields": [
                                    {
                                        "name": "beosztasnev"
                                    },
                                    {
                                        "name": "(No column name)"
                                    }
                                ]
                            },
                            "data": [
                                {
                                    "beosztasnev": "Óraadó",
                                    "(No column name)": "4"
                                },
                                {
                                    "beosztasnev": "Tanársegéd",
                                    "(No column name)": "2"
                                },
                                {
                                    "beosztasnev": "Adjunktus",
                                    "(No column name)": "0"
                                },
                                {
                                    "beosztasnev": "Docens",
                                    "(No column name)": "0"
                                },
                                {
                                    "beosztasnev": "Professzor",
                                    "(No column name)": "0"
                                },
                                {
                                    "beosztasnev": "Egyetemi tanár",
                                    "(No column name)": "0"
                                },
                                {
                                    "beosztasnev": "Tudományos munkatárs",
                                    "(No column name)": "0"
                                }
                            ]
                        },
                        "text/html": "<table><tr><th>beosztasnev</th><th>(No column name)</th></tr><tr><td>Óraadó</td><td>4</td></tr><tr><td>Tanársegéd</td><td>2</td></tr><tr><td>Adjunktus</td><td>0</td></tr><tr><td>Docens</td><td>0</td></tr><tr><td>Professzor</td><td>0</td></tr><tr><td>Egyetemi tanár</td><td>0</td></tr><tr><td>Tudományos munkatárs</td><td>0</td></tr></table>"
                    },
                    "metadata": {}
                }
            ],
            "execution_count": 18
        },
        {
            "cell_type": "markdown",
            "source": [
                "10. <span style=\"font-weight: 600; color: rgb(36, 41, 47); font-family: -apple-system, BlinkMacSystemFont, &quot;Segoe UI&quot;, Helvetica, Arial, sans-serif, &quot;Apple Color Emoji&quot;, &quot;Segoe UI Emoji&quot;; font-size: 16px;\">Melyek azok az oktatók, akiknek nincs órájuk?</span>\n",
                "\n",
                "1. Csak az oktatók neve jelenjen meg!\n",
                "2. ÖTLET: használjunk LEFT JOIN-t, és szűrjünk azokra a rekordokra, ahol NULL érték van a JOIN utáni feltétel jobb oldalán!"
            ],
            "metadata": {
                "azdata_cell_guid": "217c5772-afe2-4a7c-b913-e3a3e09d6411"
            },
            "attachments": {}
        },
        {
            "cell_type": "code",
            "source": [
                "SELECT ok.nev\r\n",
                "from oktatok ok LEFT JOIN Orak o ON ok.oktato_id = o.tanar\r\n",
                "WHERE o.tanar is null\r\n",
                "\r\n",
                ""
            ],
            "metadata": {
                "azdata_cell_guid": "a9cc0926-3dbd-4ed8-8179-1c39d64a0762",
                "language": "sql"
            },
            "outputs": [
                {
                    "output_type": "display_data",
                    "data": {
                        "text/html": "(5 rows affected)"
                    },
                    "metadata": {}
                },
                {
                    "output_type": "display_data",
                    "data": {
                        "text/html": "Total execution time: 00:00:00.007"
                    },
                    "metadata": {}
                },
                {
                    "output_type": "execute_result",
                    "execution_count": 42,
                    "data": {
                        "application/vnd.dataresource+json": {
                            "schema": {
                                "fields": [
                                    {
                                        "name": "nev"
                                    }
                                ]
                            },
                            "data": [
                                {
                                    "nev": "Józsa Gábor"
                                },
                                {
                                    "nev": "Rácz András"
                                },
                                {
                                    "nev": "Kiss István"
                                },
                                {
                                    "nev": "Mészáros Kriszta"
                                },
                                {
                                    "nev": "Kovacs Istvan"
                                }
                            ]
                        },
                        "text/html": "<table><tr><th>nev</th></tr><tr><td>Józsa Gábor</td></tr><tr><td>Rácz András</td></tr><tr><td>Kiss István</td></tr><tr><td>Mészáros Kriszta</td></tr><tr><td>Kovacs Istvan</td></tr></table>"
                    },
                    "metadata": {}
                }
            ],
            "execution_count": 42
        },
        {
            "cell_type": "markdown",
            "source": [
                "11. <span style=\"font-weight: 600; color: rgb(36, 41, 47); font-family: -apple-system, BlinkMacSystemFont, &quot;Segoe UI&quot;, Helvetica, Arial, sans-serif, &quot;Apple Color Emoji&quot;, &quot;Segoe UI Emoji&quot;; font-size: 16px;\">Készítsünk lekérdezést, amely részletesen megjeleníti az egyes órák fontosabb adatait, azaz</span>\n",
                "\n",
                "1. Az órák azonosítóit, a tanár nevét, a tantárgy nevét, a terem nevét és a kezdési időpontot!\n",
                "2. Az oszlopokat nevezzük el értelemszerűen!"
            ],
            "metadata": {
                "azdata_cell_guid": "d2340f5f-1614-473c-b937-85740d67f7c1"
            },
            "attachments": {}
        },
        {
            "cell_type": "code",
            "source": [
                "SELECT Orak.ora_id,\r\n",
                "       Oktatok.oktato_id,\r\n",
                "       Tantárgyak.Tantárgynév,\r\n",
                "       Savok.Időpont,\r\n",
                "       Termek.Terem,\r\n",
                "       Savok.Időpont\r\n",
                "FROM Orak JOIN Oktatok ON Orak.tanar = Oktatok.oktato_id\r\n",
                "          JOIN Tantárgyak ON Orak.targy = Tantárgyak.Tkód\r\n",
                "          JOIN Termek ON Orak.terem = Termek.Tkód\r\n",
                "          JOIN Savok ON Orak.Sav = Savok.Sav_id"
            ],
            "metadata": {
                "azdata_cell_guid": "e99c2c53-898f-4787-b0e6-182d106dc16f",
                "language": "sql"
            },
            "outputs": [
                {
                    "output_type": "display_data",
                    "data": {
                        "text/html": "(67 rows affected)"
                    },
                    "metadata": {}
                },
                {
                    "output_type": "display_data",
                    "data": {
                        "text/html": "Total execution time: 00:00:00.075"
                    },
                    "metadata": {}
                },
                {
                    "output_type": "execute_result",
                    "execution_count": 43,
                    "data": {
                        "application/vnd.dataresource+json": {
                            "schema": {
                                "fields": [
                                    {
                                        "name": "ora_id"
                                    },
                                    {
                                        "name": "oktato_id"
                                    },
                                    {
                                        "name": "Tantárgynév"
                                    },
                                    {
                                        "name": "Időpont"
                                    },
                                    {
                                        "name": "Terem"
                                    },
                                    {
                                        "name": "Időpont"
                                    }
                                ]
                            },
                            "data": [
                                {
                                    "ora_id": "159",
                                    "oktato_id": "4",
                                    "Tantárgynév": "Az ürgeöntés alapjai",
                                    "Időpont": "8.00",
                                    "Terem": "117"
                                },
                                {
                                    "ora_id": "160",
                                    "oktato_id": "8",
                                    "Tantárgynév": "Az ürgeöntés alapjai",
                                    "Időpont": "14.00",
                                    "Terem": "118"
                                },
                                {
                                    "ora_id": "161",
                                    "oktato_id": "8",
                                    "Tantárgynév": "Az ürgeöntés alapjai",
                                    "Időpont": "9.30",
                                    "Terem": "118"
                                },
                                {
                                    "ora_id": "162",
                                    "oktato_id": "20",
                                    "Tantárgynév": "Az ürgeöntés alapjai",
                                    "Időpont": "12.30",
                                    "Terem": "119"
                                },
                                {
                                    "ora_id": "163",
                                    "oktato_id": "3",
                                    "Tantárgynév": "Az ürgeöntés alapjai",
                                    "Időpont": "9.30",
                                    "Terem": "120"
                                },
                                {
                                    "ora_id": "164",
                                    "oktato_id": "7",
                                    "Tantárgynév": "Az ürgeöntés alapjai",
                                    "Időpont": "11.00",
                                    "Terem": "119"
                                },
                                {
                                    "ora_id": "165",
                                    "oktato_id": "3",
                                    "Tantárgynév": "Az ürgeöntés alapjai",
                                    "Időpont": "11.00",
                                    "Terem": "119"
                                },
                                {
                                    "ora_id": "166",
                                    "oktato_id": "3",
                                    "Tantárgynév": "Az ürgeöntés alapjai",
                                    "Időpont": "12.30",
                                    "Terem": "119"
                                },
                                {
                                    "ora_id": "167",
                                    "oktato_id": "2",
                                    "Tantárgynév": "Az ürgeöntés alapjai",
                                    "Időpont": "12.30",
                                    "Terem": "120"
                                },
                                {
                                    "ora_id": "168",
                                    "oktato_id": "4",
                                    "Tantárgynév": "Az ürgeöntés alapjai",
                                    "Időpont": "11.00",
                                    "Terem": "217"
                                },
                                {
                                    "ora_id": "169",
                                    "oktato_id": "20",
                                    "Tantárgynév": "Az ürgeöntés alapjai",
                                    "Időpont": "9.30",
                                    "Terem": "218"
                                },
                                {
                                    "ora_id": "170",
                                    "oktato_id": "104",
                                    "Tantárgynév": "Az ürgeöntés alapjai",
                                    "Időpont": "9.30",
                                    "Terem": "120"
                                },
                                {
                                    "ora_id": "171",
                                    "oktato_id": "14",
                                    "Tantárgynév": "Az ürgeöntés alapjai",
                                    "Időpont": "9.30",
                                    "Terem": "220"
                                },
                                {
                                    "ora_id": "172",
                                    "oktato_id": "7",
                                    "Tantárgynév": "Az ürgeöntés alapjai",
                                    "Időpont": "9.30",
                                    "Terem": "119"
                                },
                                {
                                    "ora_id": "173",
                                    "oktato_id": "20",
                                    "Tantárgynév": "Az ürgeöntés alapjai",
                                    "Időpont": "11.00",
                                    "Terem": "119"
                                },
                                {
                                    "ora_id": "174",
                                    "oktato_id": "104",
                                    "Tantárgynév": "Az ürgeöntés alapjai",
                                    "Időpont": "11.00",
                                    "Terem": "219"
                                },
                                {
                                    "ora_id": "175",
                                    "oktato_id": "14",
                                    "Tantárgynév": "Az ürgeöntés alapjai",
                                    "Időpont": "12.30",
                                    "Terem": "120"
                                },
                                {
                                    "ora_id": "176",
                                    "oktato_id": "20",
                                    "Tantárgynév": "Az ürgeöntés alapjai",
                                    "Időpont": "12.30",
                                    "Terem": "118"
                                },
                                {
                                    "ora_id": "177",
                                    "oktato_id": "2",
                                    "Tantárgynév": "Az ürgeöntés alapjai",
                                    "Időpont": "14.00",
                                    "Terem": "119"
                                },
                                {
                                    "ora_id": "178",
                                    "oktato_id": "111",
                                    "Tantárgynév": "Az ürgeöntés alapjai",
                                    "Időpont": "14.00",
                                    "Terem": "220"
                                },
                                {
                                    "ora_id": "179",
                                    "oktato_id": "2",
                                    "Tantárgynév": "Az ürgeöntés alapjai",
                                    "Időpont": "15.30",
                                    "Terem": "120"
                                },
                                {
                                    "ora_id": "180",
                                    "oktato_id": "111",
                                    "Tantárgynév": "Az ürgeöntés alapjai",
                                    "Időpont": "15.30",
                                    "Terem": "119"
                                },
                                {
                                    "ora_id": "181",
                                    "oktato_id": "2",
                                    "Tantárgynév": "Az ürgeöntés alapjai",
                                    "Időpont": "8.00",
                                    "Terem": "118"
                                },
                                {
                                    "ora_id": "182",
                                    "oktato_id": "111",
                                    "Tantárgynév": "Az ürgeöntés alapjai",
                                    "Időpont": "8.00",
                                    "Terem": "219"
                                },
                                {
                                    "ora_id": "183",
                                    "oktato_id": "2",
                                    "Tantárgynév": "Az ürgeöntés alapjai",
                                    "Időpont": "9.30",
                                    "Terem": "220"
                                },
                                {
                                    "ora_id": "184",
                                    "oktato_id": "111",
                                    "Tantárgynév": "Az ürgeöntés alapjai",
                                    "Időpont": "9.30",
                                    "Terem": "218"
                                },
                                {
                                    "ora_id": "185",
                                    "oktato_id": "2",
                                    "Tantárgynév": "Az ürgeöntés alapjai",
                                    "Időpont": "11.00",
                                    "Terem": "120"
                                },
                                {
                                    "ora_id": "186",
                                    "oktato_id": "18",
                                    "Tantárgynév": "ü-business",
                                    "Időpont": "12.30",
                                    "Terem": "219"
                                },
                                {
                                    "ora_id": "187",
                                    "oktato_id": "5",
                                    "Tantárgynév": "Bevezetés az ürgeöntésbe",
                                    "Időpont": "9.30",
                                    "Terem": "217"
                                },
                                {
                                    "ora_id": "188",
                                    "oktato_id": "9",
                                    "Tantárgynév": "Bevezetés az ürgeöntésbe",
                                    "Időpont": "15.30",
                                    "Terem": "VP 203."
                                },
                                {
                                    "ora_id": "189",
                                    "oktato_id": "9",
                                    "Tantárgynév": "Bevezetés az ürgeöntésbe",
                                    "Időpont": "9.30",
                                    "Terem": "VP 203."
                                },
                                {
                                    "ora_id": "190",
                                    "oktato_id": "9",
                                    "Tantárgynév": "Bevezetés az ürgeöntésbe",
                                    "Időpont": "11.00",
                                    "Terem": "E.2.238"
                                },
                                {
                                    "ora_id": "191",
                                    "oktato_id": "12",
                                    "Tantárgynév": "Az ürgeöntés hydrológiai alapjai II.",
                                    "Időpont": "14.00",
                                    "Terem": "220"
                                },
                                {
                                    "ora_id": "192",
                                    "oktato_id": "12",
                                    "Tantárgynév": "Az ürgeöntés hydrológiai alapjai II.",
                                    "Időpont": "15.30",
                                    "Terem": "119"
                                },
                                {
                                    "ora_id": "193",
                                    "oktato_id": "9",
                                    "Tantárgynév": "Az ürgeöntés hydrológiai alapjai II.",
                                    "Időpont": "14.00",
                                    "Terem": "217"
                                },
                                {
                                    "ora_id": "194",
                                    "oktato_id": "9",
                                    "Tantárgynév": "Az ürgeöntés hydrológiai alapjai II.",
                                    "Időpont": "15.30",
                                    "Terem": "E.fsz.I"
                                },
                                {
                                    "ora_id": "195",
                                    "oktato_id": "5",
                                    "Tantárgynév": "Az ürgeöntés hydrológiai alapjai II.",
                                    "Időpont": "14.00",
                                    "Terem": "116"
                                },
                                {
                                    "ora_id": "196",
                                    "oktato_id": "5",
                                    "Tantárgynév": "Az ürgeöntés hydrológiai alapjai II.",
                                    "Időpont": "15.30",
                                    "Terem": "218"
                                },
                                {
                                    "ora_id": "197",
                                    "oktato_id": "9",
                                    "Tantárgynév": "Az ürgeöntés hydrológiai alapjai II.",
                                    "Időpont": "8.00",
                                    "Terem": "116"
                                },
                                {
                                    "ora_id": "198",
                                    "oktato_id": "9",
                                    "Tantárgynév": "Az ürgeöntés hydrológiai alapjai II.",
                                    "Időpont": "9.30",
                                    "Terem": "119"
                                },
                                {
                                    "ora_id": "199",
                                    "oktato_id": "300",
                                    "Tantárgynév": "Az ürgeöntés hydrológiai alapjai II.",
                                    "Időpont": "8.00",
                                    "Terem": "218"
                                },
                                {
                                    "ora_id": "200",
                                    "oktato_id": "300",
                                    "Tantárgynév": "Az ürgeöntés hydrológiai alapjai II.",
                                    "Időpont": "9.30",
                                    "Terem": "220"
                                },
                                {
                                    "ora_id": "201",
                                    "oktato_id": "301",
                                    "Tantárgynév": "Öntési gyakorlat",
                                    "Időpont": "12.30",
                                    "Terem": "E.2.238"
                                },
                                {
                                    "ora_id": "202",
                                    "oktato_id": "301",
                                    "Tantárgynév": "Öntési gyakorlat",
                                    "Időpont": "14.00",
                                    "Terem": "E.3.332"
                                },
                                {
                                    "ora_id": "203",
                                    "oktato_id": "200",
                                    "Tantárgynév": "Az ürgeöntés hydrológiai alapjai I.",
                                    "Időpont": "12.30",
                                    "Terem": "S.Asor.S3"
                                },
                                {
                                    "ora_id": "204",
                                    "oktato_id": "108",
                                    "Tantárgynév": "Az ürgeöntés hydrológiai alapjai I.",
                                    "Időpont": "14.00",
                                    "Terem": "120"
                                },
                                {
                                    "ora_id": "205",
                                    "oktato_id": "4",
                                    "Tantárgynév": "Az öntés elmélete",
                                    "Időpont": "12.30",
                                    "Terem": "220"
                                },
                                {
                                    "ora_id": "206",
                                    "oktato_id": "12",
                                    "Tantárgynév": "Az öntés elmélete",
                                    "Időpont": "8.00",
                                    "Terem": "S.Asor.S3"
                                },
                                {
                                    "ora_id": "207",
                                    "oktato_id": "12",
                                    "Tantárgynév": "Az öntés elmélete",
                                    "Időpont": "12.30",
                                    "Terem": "219"
                                },
                                {
                                    "ora_id": "208",
                                    "oktato_id": "10",
                                    "Tantárgynév": "Ürgevitel",
                                    "Időpont": "8.00",
                                    "Terem": "VP 203."
                                },
                                {
                                    "ora_id": "209",
                                    "oktato_id": "10",
                                    "Tantárgynév": "Ürgevitel",
                                    "Időpont": "9.30",
                                    "Terem": "VP 203."
                                },
                                {
                                    "ora_id": "210",
                                    "oktato_id": "6",
                                    "Tantárgynév": "Ürgeöntés az EU-ban",
                                    "Időpont": "15.30",
                                    "Terem": "E.2.238"
                                },
                                {
                                    "ora_id": "211",
                                    "oktato_id": "6",
                                    "Tantárgynév": "Ürgeöntés az EU-ban",
                                    "Időpont": "17.00",
                                    "Terem": "217"
                                },
                                {
                                    "ora_id": "212",
                                    "oktato_id": "7",
                                    "Tantárgynév": "Ürgeöntés az EU-ban",
                                    "Időpont": "18.30",
                                    "Terem": "120"
                                },
                                {
                                    "ora_id": "213",
                                    "oktato_id": "7",
                                    "Tantárgynév": "Ürgeöntés az EU-ban",
                                    "Időpont": "20.00",
                                    "Terem": "218"
                                },
                                {
                                    "ora_id": "214",
                                    "oktato_id": "8",
                                    "Tantárgynév": "Az ürge anatómiája",
                                    "Időpont": "11.00",
                                    "Terem": "219"
                                },
                                {
                                    "ora_id": "215",
                                    "oktato_id": "8",
                                    "Tantárgynév": "Az ürge anatómiája",
                                    "Időpont": "12.30",
                                    "Terem": "E.fsz.IV."
                                },
                                {
                                    "ora_id": "216",
                                    "oktato_id": "6",
                                    "Tantárgynév": "Az ürge anatómiája",
                                    "Időpont": "11.00",
                                    "Terem": "218"
                                },
                                {
                                    "ora_id": "217",
                                    "oktato_id": "6",
                                    "Tantárgynév": "Az ürge anatómiája",
                                    "Időpont": "12.30",
                                    "Terem": "217"
                                },
                                {
                                    "ora_id": "218",
                                    "oktato_id": "8",
                                    "Tantárgynév": "Az ürge anatómiája",
                                    "Időpont": "15.30",
                                    "Terem": "118"
                                },
                                {
                                    "ora_id": "219",
                                    "oktato_id": "8",
                                    "Tantárgynév": "Az ürge anatómiája",
                                    "Időpont": "17.00",
                                    "Terem": "219"
                                },
                                {
                                    "ora_id": "220",
                                    "oktato_id": "1",
                                    "Tantárgynév": "Fejezetek az ürgék jogaiból",
                                    "Időpont": "11.00",
                                    "Terem": "119"
                                },
                                {
                                    "ora_id": "221",
                                    "oktato_id": "1",
                                    "Tantárgynév": "Fejezetek az ürgék jogaiból",
                                    "Időpont": "11.00",
                                    "Terem": "VP 203."
                                },
                                {
                                    "ora_id": "222",
                                    "oktato_id": "1",
                                    "Tantárgynév": "Fejezetek az ürgék jogaiból",
                                    "Időpont": "14.00",
                                    "Terem": "116"
                                },
                                {
                                    "ora_id": "223",
                                    "oktato_id": "1",
                                    "Tantárgynév": "Fejezetek az ürgék jogaiból",
                                    "Időpont": "8.00",
                                    "Terem": "S.Asor.S3"
                                },
                                {
                                    "ora_id": "226",
                                    "oktato_id": "2",
                                    "Tantárgynév": "ürgefőzés",
                                    "Időpont": "11.00",
                                    "Terem": "117"
                                },
                                {
                                    "ora_id": "227",
                                    "oktato_id": "2",
                                    "Tantárgynév": "Az ürgeöntés hydrológiai alapjai I.",
                                    "Időpont": "14.00",
                                    "Terem": "116"
                                }
                            ]
                        },
                        "text/html": "<table><tr><th>ora_id</th><th>oktato_id</th><th>Tantárgynév</th><th>Időpont</th><th>Terem</th><th>Időpont</th></tr><tr><td>159</td><td>4</td><td>Az ürgeöntés alapjai</td><td>8.00</td><td>117</td><td>8.00</td></tr><tr><td>160</td><td>8</td><td>Az ürgeöntés alapjai</td><td>14.00</td><td>118</td><td>14.00</td></tr><tr><td>161</td><td>8</td><td>Az ürgeöntés alapjai</td><td>9.30</td><td>118</td><td>9.30</td></tr><tr><td>162</td><td>20</td><td>Az ürgeöntés alapjai</td><td>12.30</td><td>119</td><td>12.30</td></tr><tr><td>163</td><td>3</td><td>Az ürgeöntés alapjai</td><td>9.30</td><td>120</td><td>9.30</td></tr><tr><td>164</td><td>7</td><td>Az ürgeöntés alapjai</td><td>11.00</td><td>119</td><td>11.00</td></tr><tr><td>165</td><td>3</td><td>Az ürgeöntés alapjai</td><td>11.00</td><td>119</td><td>11.00</td></tr><tr><td>166</td><td>3</td><td>Az ürgeöntés alapjai</td><td>12.30</td><td>119</td><td>12.30</td></tr><tr><td>167</td><td>2</td><td>Az ürgeöntés alapjai</td><td>12.30</td><td>120</td><td>12.30</td></tr><tr><td>168</td><td>4</td><td>Az ürgeöntés alapjai</td><td>11.00</td><td>217</td><td>11.00</td></tr><tr><td>169</td><td>20</td><td>Az ürgeöntés alapjai</td><td>9.30</td><td>218</td><td>9.30</td></tr><tr><td>170</td><td>104</td><td>Az ürgeöntés alapjai</td><td>9.30</td><td>120</td><td>9.30</td></tr><tr><td>171</td><td>14</td><td>Az ürgeöntés alapjai</td><td>9.30</td><td>220</td><td>9.30</td></tr><tr><td>172</td><td>7</td><td>Az ürgeöntés alapjai</td><td>9.30</td><td>119</td><td>9.30</td></tr><tr><td>173</td><td>20</td><td>Az ürgeöntés alapjai</td><td>11.00</td><td>119</td><td>11.00</td></tr><tr><td>174</td><td>104</td><td>Az ürgeöntés alapjai</td><td>11.00</td><td>219</td><td>11.00</td></tr><tr><td>175</td><td>14</td><td>Az ürgeöntés alapjai</td><td>12.30</td><td>120</td><td>12.30</td></tr><tr><td>176</td><td>20</td><td>Az ürgeöntés alapjai</td><td>12.30</td><td>118</td><td>12.30</td></tr><tr><td>177</td><td>2</td><td>Az ürgeöntés alapjai</td><td>14.00</td><td>119</td><td>14.00</td></tr><tr><td>178</td><td>111</td><td>Az ürgeöntés alapjai</td><td>14.00</td><td>220</td><td>14.00</td></tr><tr><td>179</td><td>2</td><td>Az ürgeöntés alapjai</td><td>15.30</td><td>120</td><td>15.30</td></tr><tr><td>180</td><td>111</td><td>Az ürgeöntés alapjai</td><td>15.30</td><td>119</td><td>15.30</td></tr><tr><td>181</td><td>2</td><td>Az ürgeöntés alapjai</td><td>8.00</td><td>118</td><td>8.00</td></tr><tr><td>182</td><td>111</td><td>Az ürgeöntés alapjai</td><td>8.00</td><td>219</td><td>8.00</td></tr><tr><td>183</td><td>2</td><td>Az ürgeöntés alapjai</td><td>9.30</td><td>220</td><td>9.30</td></tr><tr><td>184</td><td>111</td><td>Az ürgeöntés alapjai</td><td>9.30</td><td>218</td><td>9.30</td></tr><tr><td>185</td><td>2</td><td>Az ürgeöntés alapjai</td><td>11.00</td><td>120</td><td>11.00</td></tr><tr><td>186</td><td>18</td><td>ü-business</td><td>12.30</td><td>219</td><td>12.30</td></tr><tr><td>187</td><td>5</td><td>Bevezetés az ürgeöntésbe</td><td>9.30</td><td>217</td><td>9.30</td></tr><tr><td>188</td><td>9</td><td>Bevezetés az ürgeöntésbe</td><td>15.30</td><td>VP 203.</td><td>15.30</td></tr><tr><td>189</td><td>9</td><td>Bevezetés az ürgeöntésbe</td><td>9.30</td><td>VP 203.</td><td>9.30</td></tr><tr><td>190</td><td>9</td><td>Bevezetés az ürgeöntésbe</td><td>11.00</td><td>E.2.238</td><td>11.00</td></tr><tr><td>191</td><td>12</td><td>Az ürgeöntés hydrológiai alapjai II.</td><td>14.00</td><td>220</td><td>14.00</td></tr><tr><td>192</td><td>12</td><td>Az ürgeöntés hydrológiai alapjai II.</td><td>15.30</td><td>119</td><td>15.30</td></tr><tr><td>193</td><td>9</td><td>Az ürgeöntés hydrológiai alapjai II.</td><td>14.00</td><td>217</td><td>14.00</td></tr><tr><td>194</td><td>9</td><td>Az ürgeöntés hydrológiai alapjai II.</td><td>15.30</td><td>E.fsz.I</td><td>15.30</td></tr><tr><td>195</td><td>5</td><td>Az ürgeöntés hydrológiai alapjai II.</td><td>14.00</td><td>116</td><td>14.00</td></tr><tr><td>196</td><td>5</td><td>Az ürgeöntés hydrológiai alapjai II.</td><td>15.30</td><td>218</td><td>15.30</td></tr><tr><td>197</td><td>9</td><td>Az ürgeöntés hydrológiai alapjai II.</td><td>8.00</td><td>116</td><td>8.00</td></tr><tr><td>198</td><td>9</td><td>Az ürgeöntés hydrológiai alapjai II.</td><td>9.30</td><td>119</td><td>9.30</td></tr><tr><td>199</td><td>300</td><td>Az ürgeöntés hydrológiai alapjai II.</td><td>8.00</td><td>218</td><td>8.00</td></tr><tr><td>200</td><td>300</td><td>Az ürgeöntés hydrológiai alapjai II.</td><td>9.30</td><td>220</td><td>9.30</td></tr><tr><td>201</td><td>301</td><td>Öntési gyakorlat</td><td>12.30</td><td>E.2.238</td><td>12.30</td></tr><tr><td>202</td><td>301</td><td>Öntési gyakorlat</td><td>14.00</td><td>E.3.332</td><td>14.00</td></tr><tr><td>203</td><td>200</td><td>Az ürgeöntés hydrológiai alapjai I.</td><td>12.30</td><td>S.Asor.S3</td><td>12.30</td></tr><tr><td>204</td><td>108</td><td>Az ürgeöntés hydrológiai alapjai I.</td><td>14.00</td><td>120</td><td>14.00</td></tr><tr><td>205</td><td>4</td><td>Az öntés elmélete</td><td>12.30</td><td>220</td><td>12.30</td></tr><tr><td>206</td><td>12</td><td>Az öntés elmélete</td><td>8.00</td><td>S.Asor.S3</td><td>8.00</td></tr><tr><td>207</td><td>12</td><td>Az öntés elmélete</td><td>12.30</td><td>219</td><td>12.30</td></tr><tr><td>208</td><td>10</td><td>Ürgevitel</td><td>8.00</td><td>VP 203.</td><td>8.00</td></tr><tr><td>209</td><td>10</td><td>Ürgevitel</td><td>9.30</td><td>VP 203.</td><td>9.30</td></tr><tr><td>210</td><td>6</td><td>Ürgeöntés az EU-ban</td><td>15.30</td><td>E.2.238</td><td>15.30</td></tr><tr><td>211</td><td>6</td><td>Ürgeöntés az EU-ban</td><td>17.00</td><td>217</td><td>17.00</td></tr><tr><td>212</td><td>7</td><td>Ürgeöntés az EU-ban</td><td>18.30</td><td>120</td><td>18.30</td></tr><tr><td>213</td><td>7</td><td>Ürgeöntés az EU-ban</td><td>20.00</td><td>218</td><td>20.00</td></tr><tr><td>214</td><td>8</td><td>Az ürge anatómiája</td><td>11.00</td><td>219</td><td>11.00</td></tr><tr><td>215</td><td>8</td><td>Az ürge anatómiája</td><td>12.30</td><td>E.fsz.IV.</td><td>12.30</td></tr><tr><td>216</td><td>6</td><td>Az ürge anatómiája</td><td>11.00</td><td>218</td><td>11.00</td></tr><tr><td>217</td><td>6</td><td>Az ürge anatómiája</td><td>12.30</td><td>217</td><td>12.30</td></tr><tr><td>218</td><td>8</td><td>Az ürge anatómiája</td><td>15.30</td><td>118</td><td>15.30</td></tr><tr><td>219</td><td>8</td><td>Az ürge anatómiája</td><td>17.00</td><td>219</td><td>17.00</td></tr><tr><td>220</td><td>1</td><td>Fejezetek az ürgék jogaiból</td><td>11.00</td><td>119</td><td>11.00</td></tr><tr><td>221</td><td>1</td><td>Fejezetek az ürgék jogaiból</td><td>11.00</td><td>VP 203.</td><td>11.00</td></tr><tr><td>222</td><td>1</td><td>Fejezetek az ürgék jogaiból</td><td>14.00</td><td>116</td><td>14.00</td></tr><tr><td>223</td><td>1</td><td>Fejezetek az ürgék jogaiból</td><td>8.00</td><td>S.Asor.S3</td><td>8.00</td></tr><tr><td>226</td><td>2</td><td>ürgefőzés</td><td>11.00</td><td>117</td><td>11.00</td></tr><tr><td>227</td><td>2</td><td>Az ürgeöntés hydrológiai alapjai I.</td><td>14.00</td><td>116</td><td>14.00</td></tr></table>"
                    },
                    "metadata": {}
                }
            ],
            "execution_count": 43
        },
        {
            "cell_type": "markdown",
            "source": [
                "12. <span style=\"color: rgb(36, 41, 47); font-family: -apple-system, BlinkMacSystemFont, &quot;Segoe UI&quot;, Helvetica, Arial, sans-serif, &quot;Apple Color Emoji&quot;, &quot;Segoe UI Emoji&quot;; font-size: 16px;\">Készítsünk listát, amely tartalmazza az egyes órák azonosítóit, és az órán oktatott tantárgy felelősének nevét!</span>\n",
                "\n",
                "1. Rendezzük a listát a tantárgyfelelős neve szerint csökkenő sorrendbe!"
            ],
            "metadata": {
                "azdata_cell_guid": "a765e9d6-58b3-4171-872a-78f3118fd6e3"
            },
            "attachments": {}
        },
        {
            "cell_type": "code",
            "source": [
                "SELECT ora_id,\r\n",
                "        okt.nev\r\n",
                "from Orak o JOIN Tantárgyak t ON o.targy = t.Tkód\r\n",
                "            JOIN Oktatok okt ON t.Tantárgyfelelős = okt.oktato_id\r\n",
                "ORDER by okt.nev DESC\r\n",
                ""
            ],
            "metadata": {
                "azdata_cell_guid": "422e8127-b652-4d3a-bfd7-9b1637b5781e",
                "language": "sql"
            },
            "outputs": [
                {
                    "output_type": "display_data",
                    "data": {
                        "text/html": "(67 rows affected)"
                    },
                    "metadata": {}
                },
                {
                    "output_type": "display_data",
                    "data": {
                        "text/html": "Total execution time: 00:00:00.047"
                    },
                    "metadata": {}
                },
                {
                    "output_type": "execute_result",
                    "execution_count": 48,
                    "data": {
                        "application/vnd.dataresource+json": {
                            "schema": {
                                "fields": [
                                    {
                                        "name": "ora_id"
                                    },
                                    {
                                        "name": "nev"
                                    }
                                ]
                            },
                            "data": [
                                {
                                    "ora_id": "203",
                                    "nev": "Ujfalussi István"
                                },
                                {
                                    "ora_id": "204",
                                    "nev": "Ujfalussi István"
                                },
                                {
                                    "ora_id": "227",
                                    "nev": "Ujfalussi István"
                                },
                                {
                                    "ora_id": "210",
                                    "nev": "Pelikán József"
                                },
                                {
                                    "ora_id": "211",
                                    "nev": "Pelikán József"
                                },
                                {
                                    "ora_id": "212",
                                    "nev": "Pelikán József"
                                },
                                {
                                    "ora_id": "213",
                                    "nev": "Pelikán József"
                                },
                                {
                                    "ora_id": "214",
                                    "nev": "Pelikán József"
                                },
                                {
                                    "ora_id": "215",
                                    "nev": "Pelikán József"
                                },
                                {
                                    "ora_id": "216",
                                    "nev": "Pelikán József"
                                },
                                {
                                    "ora_id": "217",
                                    "nev": "Pelikán József"
                                },
                                {
                                    "ora_id": "218",
                                    "nev": "Pelikán József"
                                },
                                {
                                    "ora_id": "219",
                                    "nev": "Pelikán József"
                                },
                                {
                                    "ora_id": "201",
                                    "nev": "Pelikán József"
                                },
                                {
                                    "ora_id": "202",
                                    "nev": "Pelikán József"
                                },
                                {
                                    "ora_id": "205",
                                    "nev": "Kovács László"
                                },
                                {
                                    "ora_id": "206",
                                    "nev": "Kovács László"
                                },
                                {
                                    "ora_id": "207",
                                    "nev": "Kovács László"
                                },
                                {
                                    "ora_id": "226",
                                    "nev": "Kovács László"
                                },
                                {
                                    "ora_id": "186",
                                    "nev": "Kovács László"
                                },
                                {
                                    "ora_id": "220",
                                    "nev": "Kovács László"
                                },
                                {
                                    "ora_id": "221",
                                    "nev": "Kovács László"
                                },
                                {
                                    "ora_id": "222",
                                    "nev": "Kovács László"
                                },
                                {
                                    "ora_id": "223",
                                    "nev": "Kovács László"
                                },
                                {
                                    "ora_id": "208",
                                    "nev": "Jogrerős Pál"
                                },
                                {
                                    "ora_id": "209",
                                    "nev": "Jogrerős Pál"
                                },
                                {
                                    "ora_id": "191",
                                    "nev": "Balkán András"
                                },
                                {
                                    "ora_id": "192",
                                    "nev": "Balkán András"
                                },
                                {
                                    "ora_id": "193",
                                    "nev": "Balkán András"
                                },
                                {
                                    "ora_id": "194",
                                    "nev": "Balkán András"
                                },
                                {
                                    "ora_id": "195",
                                    "nev": "Balkán András"
                                },
                                {
                                    "ora_id": "196",
                                    "nev": "Balkán András"
                                },
                                {
                                    "ora_id": "197",
                                    "nev": "Balkán András"
                                },
                                {
                                    "ora_id": "198",
                                    "nev": "Balkán András"
                                },
                                {
                                    "ora_id": "199",
                                    "nev": "Balkán András"
                                },
                                {
                                    "ora_id": "200",
                                    "nev": "Balkán András"
                                },
                                {
                                    "ora_id": "159",
                                    "nev": "Balkán András"
                                },
                                {
                                    "ora_id": "160",
                                    "nev": "Balkán András"
                                },
                                {
                                    "ora_id": "161",
                                    "nev": "Balkán András"
                                },
                                {
                                    "ora_id": "162",
                                    "nev": "Balkán András"
                                },
                                {
                                    "ora_id": "163",
                                    "nev": "Balkán András"
                                },
                                {
                                    "ora_id": "164",
                                    "nev": "Balkán András"
                                },
                                {
                                    "ora_id": "165",
                                    "nev": "Balkán András"
                                },
                                {
                                    "ora_id": "166",
                                    "nev": "Balkán András"
                                },
                                {
                                    "ora_id": "167",
                                    "nev": "Balkán András"
                                },
                                {
                                    "ora_id": "168",
                                    "nev": "Balkán András"
                                },
                                {
                                    "ora_id": "169",
                                    "nev": "Balkán András"
                                },
                                {
                                    "ora_id": "170",
                                    "nev": "Balkán András"
                                },
                                {
                                    "ora_id": "171",
                                    "nev": "Balkán András"
                                },
                                {
                                    "ora_id": "172",
                                    "nev": "Balkán András"
                                },
                                {
                                    "ora_id": "173",
                                    "nev": "Balkán András"
                                },
                                {
                                    "ora_id": "174",
                                    "nev": "Balkán András"
                                },
                                {
                                    "ora_id": "175",
                                    "nev": "Balkán András"
                                },
                                {
                                    "ora_id": "176",
                                    "nev": "Balkán András"
                                },
                                {
                                    "ora_id": "177",
                                    "nev": "Balkán András"
                                },
                                {
                                    "ora_id": "178",
                                    "nev": "Balkán András"
                                },
                                {
                                    "ora_id": "179",
                                    "nev": "Balkán András"
                                },
                                {
                                    "ora_id": "180",
                                    "nev": "Balkán András"
                                },
                                {
                                    "ora_id": "181",
                                    "nev": "Balkán András"
                                },
                                {
                                    "ora_id": "182",
                                    "nev": "Balkán András"
                                },
                                {
                                    "ora_id": "183",
                                    "nev": "Balkán András"
                                },
                                {
                                    "ora_id": "184",
                                    "nev": "Balkán András"
                                },
                                {
                                    "ora_id": "185",
                                    "nev": "Balkán András"
                                },
                                {
                                    "ora_id": "187",
                                    "nev": "Balkán András"
                                },
                                {
                                    "ora_id": "188",
                                    "nev": "Balkán András"
                                },
                                {
                                    "ora_id": "189",
                                    "nev": "Balkán András"
                                },
                                {
                                    "ora_id": "190",
                                    "nev": "Balkán András"
                                }
                            ]
                        },
                        "text/html": "<table><tr><th>ora_id</th><th>nev</th></tr><tr><td>203</td><td>Ujfalussi István</td></tr><tr><td>204</td><td>Ujfalussi István</td></tr><tr><td>227</td><td>Ujfalussi István</td></tr><tr><td>210</td><td>Pelikán József</td></tr><tr><td>211</td><td>Pelikán József</td></tr><tr><td>212</td><td>Pelikán József</td></tr><tr><td>213</td><td>Pelikán József</td></tr><tr><td>214</td><td>Pelikán József</td></tr><tr><td>215</td><td>Pelikán József</td></tr><tr><td>216</td><td>Pelikán József</td></tr><tr><td>217</td><td>Pelikán József</td></tr><tr><td>218</td><td>Pelikán József</td></tr><tr><td>219</td><td>Pelikán József</td></tr><tr><td>201</td><td>Pelikán József</td></tr><tr><td>202</td><td>Pelikán József</td></tr><tr><td>205</td><td>Kovács László</td></tr><tr><td>206</td><td>Kovács László</td></tr><tr><td>207</td><td>Kovács László</td></tr><tr><td>226</td><td>Kovács László</td></tr><tr><td>186</td><td>Kovács László</td></tr><tr><td>220</td><td>Kovács László</td></tr><tr><td>221</td><td>Kovács László</td></tr><tr><td>222</td><td>Kovács László</td></tr><tr><td>223</td><td>Kovács László</td></tr><tr><td>208</td><td>Jogrerős Pál</td></tr><tr><td>209</td><td>Jogrerős Pál</td></tr><tr><td>191</td><td>Balkán András</td></tr><tr><td>192</td><td>Balkán András</td></tr><tr><td>193</td><td>Balkán András</td></tr><tr><td>194</td><td>Balkán András</td></tr><tr><td>195</td><td>Balkán András</td></tr><tr><td>196</td><td>Balkán András</td></tr><tr><td>197</td><td>Balkán András</td></tr><tr><td>198</td><td>Balkán András</td></tr><tr><td>199</td><td>Balkán András</td></tr><tr><td>200</td><td>Balkán András</td></tr><tr><td>159</td><td>Balkán András</td></tr><tr><td>160</td><td>Balkán András</td></tr><tr><td>161</td><td>Balkán András</td></tr><tr><td>162</td><td>Balkán András</td></tr><tr><td>163</td><td>Balkán András</td></tr><tr><td>164</td><td>Balkán András</td></tr><tr><td>165</td><td>Balkán András</td></tr><tr><td>166</td><td>Balkán András</td></tr><tr><td>167</td><td>Balkán András</td></tr><tr><td>168</td><td>Balkán András</td></tr><tr><td>169</td><td>Balkán András</td></tr><tr><td>170</td><td>Balkán András</td></tr><tr><td>171</td><td>Balkán András</td></tr><tr><td>172</td><td>Balkán András</td></tr><tr><td>173</td><td>Balkán András</td></tr><tr><td>174</td><td>Balkán András</td></tr><tr><td>175</td><td>Balkán András</td></tr><tr><td>176</td><td>Balkán András</td></tr><tr><td>177</td><td>Balkán András</td></tr><tr><td>178</td><td>Balkán András</td></tr><tr><td>179</td><td>Balkán András</td></tr><tr><td>180</td><td>Balkán András</td></tr><tr><td>181</td><td>Balkán András</td></tr><tr><td>182</td><td>Balkán András</td></tr><tr><td>183</td><td>Balkán András</td></tr><tr><td>184</td><td>Balkán András</td></tr><tr><td>185</td><td>Balkán András</td></tr><tr><td>187</td><td>Balkán András</td></tr><tr><td>188</td><td>Balkán András</td></tr><tr><td>189</td><td>Balkán András</td></tr><tr><td>190</td><td>Balkán András</td></tr></table>"
                    },
                    "metadata": {}
                }
            ],
            "execution_count": 48
        },
        {
            "cell_type": "markdown",
            "source": [
                "13. <span style=\"color: rgb(36, 41, 47); font-family: -apple-system, BlinkMacSystemFont, &quot;Segoe UI&quot;, Helvetica, Arial, sans-serif, &quot;Apple Color Emoji&quot;, &quot;Segoe UI Emoji&quot;; font-size: 16px;\">Készítsünk listát, amely megjeleníti, hogy az Orak táblában lévő órák közül hányat tart Dr., illetve nem Dr. titulusú tanár!</span>\n",
                "\n",
                "1. Az oszlopokat nevezzük el értelemszerűen!"
            ],
            "metadata": {
                "azdata_cell_guid": "3f9237ae-f109-401c-acb9-31d75e73331b"
            },
            "attachments": {}
        },
        {
            "cell_type": "code",
            "source": [
                "SELECT CASE \r\n",
                "         WHEN okt.titulus = 'Dr.' THEN 'Dr' \r\n",
                "         ELSE 'Nem Dr.'\r\n",
                "        END AS 'titulus',\r\n",
                "        COUNT(*) AS 'órák száma'\r\n",
                "FROM Orak o JOIN Oktatok okt ON o.tanar = okt.oktato_id\r\n",
                "GROUP BY CASE WHEN okt.titulus = 'Dr.' THEN 'Dr' ELSE 'Nem Dr.' END \r\n",
                "\r\n",
                ""
            ],
            "metadata": {
                "azdata_cell_guid": "4b31bb89-cfbc-46b1-8639-85c462877786",
                "language": "sql"
            },
            "outputs": [
                {
                    "output_type": "display_data",
                    "data": {
                        "text/html": "(2 rows affected)"
                    },
                    "metadata": {}
                },
                {
                    "output_type": "display_data",
                    "data": {
                        "text/html": "Total execution time: 00:00:00.013"
                    },
                    "metadata": {}
                },
                {
                    "output_type": "execute_result",
                    "execution_count": 103,
                    "data": {
                        "application/vnd.dataresource+json": {
                            "schema": {
                                "fields": [
                                    {
                                        "name": "titulus"
                                    },
                                    {
                                        "name": "órák száma"
                                    }
                                ]
                            },
                            "data": [
                                {
                                    "titulus": "Dr",
                                    "órák száma": "25"
                                },
                                {
                                    "titulus": "Nem Dr.",
                                    "órák száma": "42"
                                }
                            ]
                        },
                        "text/html": "<table><tr><th>titulus</th><th>órák száma</th></tr><tr><td>Dr</td><td>25</td></tr><tr><td>Nem Dr.</td><td>42</td></tr></table>"
                    },
                    "metadata": {}
                }
            ],
            "execution_count": 103
        },
        {
            "cell_type": "markdown",
            "source": [
                "14. <span style=\"color: rgb(36, 41, 47); font-family: -apple-system, BlinkMacSystemFont, &quot;Segoe UI&quot;, Helvetica, Arial, sans-serif, &quot;Apple Color Emoji&quot;, &quot;Segoe UI Emoji&quot;; font-size: 16px;\">Készítsünk listát arról, hogy beosztásonként hány óra szerepel az Orak táblában!</span>\n",
                "\n",
                "1. Jelenítsük meg a beosztások nevét és az órák számát!\n",
                "2. A listát szűrjük azokra a beosztásokra, ahol ez az óraszám 10 feletti!"
            ],
            "metadata": {
                "azdata_cell_guid": "f634e09a-85ef-4e70-8ec6-ef355dfddaa7"
            },
            "attachments": {}
        },
        {
            "cell_type": "code",
            "source": [
                "SELECT Beosztasok.beosztasnev,\r\n",
                "        COUNT(Orak.ora_id)\r\n",
                "from Orak JOIN Oktatok ON Orak.tanar = Oktatok.oktato_id\r\n",
                "            JOIN Beosztasok ON Oktatok.beosztás = Beosztasok.beosztas_id\r\n",
                "GROUP BY Beosztasok.beosztasnev\r\n",
                "HAVING COUNT(Orak.ora_id) > 10"
            ],
            "metadata": {
                "azdata_cell_guid": "88abc55b-2c78-495b-a72f-3f8f4eb5fe70",
                "language": "sql"
            },
            "outputs": [
                {
                    "output_type": "display_data",
                    "data": {
                        "text/html": "(3 rows affected)"
                    },
                    "metadata": {}
                },
                {
                    "output_type": "display_data",
                    "data": {
                        "text/html": "Total execution time: 00:00:00.013"
                    },
                    "metadata": {}
                },
                {
                    "output_type": "execute_result",
                    "execution_count": 105,
                    "data": {
                        "application/vnd.dataresource+json": {
                            "schema": {
                                "fields": [
                                    {
                                        "name": "beosztasnev"
                                    },
                                    {
                                        "name": "(No column name)"
                                    }
                                ]
                            },
                            "data": [
                                {
                                    "beosztasnev": "Adjunktus",
                                    "(No column name)": "14"
                                },
                                {
                                    "beosztasnev": "Egyetemi tanár",
                                    "(No column name)": "11"
                                },
                                {
                                    "beosztasnev": "Tanársegéd",
                                    "(No column name)": "22"
                                }
                            ]
                        },
                        "text/html": "<table><tr><th>beosztasnev</th><th>(No column name)</th></tr><tr><td>Adjunktus</td><td>14</td></tr><tr><td>Egyetemi tanár</td><td>11</td></tr><tr><td>Tanársegéd</td><td>22</td></tr></table>"
                    },
                    "metadata": {}
                }
            ],
            "execution_count": 105
        },
        {
            "cell_type": "markdown",
            "source": [
                "15. <span style=\"color: rgb(36, 41, 47); font-family: -apple-system, BlinkMacSystemFont, &quot;Segoe UI&quot;, Helvetica, Arial, sans-serif, &quot;Apple Color Emoji&quot;, &quot;Segoe UI Emoji&quot;; font-size: 16px;\">Melyek azok az órák, amelyek kezdési időpontja olyan sávba esik, amely a mostani időpont (óra:perc) után van?</span>\n",
                "\n",
                "1. Listázzuk az órák azonosítóit, valamint az órakezdés napját és időpontját!\n",
                "2. A listát rendezzük az időpont szerint növekvő sorrendbe!"
            ],
            "metadata": {
                "azdata_cell_guid": "4cbf2f0d-a65d-480a-8186-ccdb24498443"
            },
            "attachments": {}
        },
        {
            "cell_type": "code",
            "source": [
                "SELECT Orak.ora_id\r\n",
                "from Orak JOIN Savok ON Orak.Sav = Savok.Sav_id\r\n",
                "WHERE Savok.Időpont > DATE_BUCKET(,)"
            ],
            "metadata": {
                "azdata_cell_guid": "c148aee8-bc85-40bf-b80a-a4898a6c05cb",
                "language": "sql"
            },
            "outputs": [
                {
                    "output_type": "error",
                    "ename": "",
                    "evalue": "Msg 102, Level 15, State 1, Line 3\r\nIncorrect syntax near ','.",
                    "traceback": []
                },
                {
                    "output_type": "display_data",
                    "data": {
                        "text/html": "Total execution time: 00:00:00.004"
                    },
                    "metadata": {}
                }
            ],
            "execution_count": 2
        }
    ]
}