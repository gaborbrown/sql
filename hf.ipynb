{
    "metadata": {
        "kernelspec": {
            "name": "SQL",
            "display_name": "SQL",
            "language": "sql"
        },
        "language_info": {
            "name": "sql",
            "version": ""
        }
    },
    "nbformat_minor": 2,
    "nbformat": 4,
    "cells": [
        {
            "cell_type": "code",
            "source": [
                "SELECT stilus, \r\n",
                "        sum([raktár készlet]) AS 'raktáron'\r\n",
                "FROM dvd\r\n",
                "where stilus is not null\r\n",
                "GROUP BY stilus\r\n",
                "ORDER by raktáron ASC"
            ],
            "metadata": {
                "azdata_cell_guid": "4f20b039-370e-4654-bf8a-5c8faab5d491",
                "language": "sql",
                "tags": []
            },
            "outputs": [
                {
                    "output_type": "display_data",
                    "data": {
                        "text/html": "(47 rows affected)"
                    },
                    "metadata": {}
                },
                {
                    "output_type": "display_data",
                    "data": {
                        "text/html": "Total execution time: 00:00:00.015"
                    },
                    "metadata": {}
                },
                {
                    "output_type": "execute_result",
                    "metadata": {},
                    "execution_count": 29,
                    "data": {
                        "application/vnd.dataresource+json": {
                            "schema": {
                                "fields": [
                                    {
                                        "name": "stilus"
                                    },
                                    {
                                        "name": "raktáron"
                                    }
                                ]
                            },
                            "data": [
                                {
                                    "stilus": "ásványtan",
                                    "raktáron": "10"
                                },
                                {
                                    "stilus": "betűtípusok",
                                    "raktáron": "10"
                                },
                                {
                                    "stilus": "gépírás",
                                    "raktáron": "10"
                                },
                                {
                                    "stilus": "hadtudomány",
                                    "raktáron": "10"
                                },
                                {
                                    "stilus": "humor",
                                    "raktáron": "10"
                                },
                                {
                                    "stilus": "fordító program",
                                    "raktáron": "10"
                                },
                                {
                                    "stilus": "irodalom, nyelv",
                                    "raktáron": "10"
                                },
                                {
                                    "stilus": "játék (repülős)",
                                    "raktáron": "10"
                                },
                                {
                                    "stilus": "játék (rodeó)",
                                    "raktáron": "10"
                                },
                                {
                                    "stilus": "játék (történelmi)",
                                    "raktáron": "10"
                                },
                                {
                                    "stilus": "játék, sakk",
                                    "raktáron": "10"
                                },
                                {
                                    "stilus": "kémia",
                                    "raktáron": "10"
                                },
                                {
                                    "stilus": "kerttervező",
                                    "raktáron": "10"
                                },
                                {
                                    "stilus": "környezetvédelem",
                                    "raktáron": "10"
                                },
                                {
                                    "stilus": "kresz",
                                    "raktáron": "10"
                                },
                                {
                                    "stilus": "lakástervező",
                                    "raktáron": "10"
                                },
                                {
                                    "stilus": "ismeretterjesztő + játék",
                                    "raktáron": "10"
                                },
                                {
                                    "stilus": "játék - autós",
                                    "raktáron": "10"
                                },
                                {
                                    "stilus": "játék (jégkorong)",
                                    "raktáron": "10"
                                },
                                {
                                    "stilus": "matematika, nyelvtan",
                                    "raktáron": "10"
                                },
                                {
                                    "stilus": "múvészet",
                                    "raktáron": "10"
                                },
                                {
                                    "stilus": "növénytan",
                                    "raktáron": "10"
                                },
                                {
                                    "stilus": "régészet",
                                    "raktáron": "10"
                                },
                                {
                                    "stilus": "sport",
                                    "raktáron": "10"
                                },
                                {
                                    "stilus": "színház",
                                    "raktáron": "10"
                                },
                                {
                                    "stilus": "festészet",
                                    "raktáron": "20"
                                },
                                {
                                    "stilus": "filmtörténet",
                                    "raktáron": "20"
                                },
                                {
                                    "stilus": "fizika",
                                    "raktáron": "30"
                                },
                                {
                                    "stilus": "állattan",
                                    "raktáron": "30"
                                },
                                {
                                    "stilus": "játék (labdarúgás)",
                                    "raktáron": "30"
                                },
                                {
                                    "stilus": "számítástechnika",
                                    "raktáron": "30"
                                },
                                {
                                    "stilus": "nyelvtan",
                                    "raktáron": "30"
                                },
                                {
                                    "stilus": "gasztronómia",
                                    "raktáron": "40"
                                },
                                {
                                    "stilus": "művészet",
                                    "raktáron": "40"
                                },
                                {
                                    "stilus": "játék (autóverseny)",
                                    "raktáron": "40"
                                },
                                {
                                    "stilus": "biológia",
                                    "raktáron": "50"
                                },
                                {
                                    "stilus": "felvételi",
                                    "raktáron": "60"
                                },
                                {
                                    "stilus": "zene",
                                    "raktáron": "60"
                                },
                                {
                                    "stilus": "szótár",
                                    "raktáron": "70"
                                },
                                {
                                    "stilus": "csillagászat",
                                    "raktáron": "70"
                                },
                                {
                                    "stilus": "matematika",
                                    "raktáron": "90"
                                },
                                {
                                    "stilus": "földrajz",
                                    "raktáron": "160"
                                },
                                {
                                    "stilus": "irodalom",
                                    "raktáron": "160"
                                },
                                {
                                    "stilus": "történelem",
                                    "raktáron": "408"
                                },
                                {
                                    "stilus": "nyelvtanító",
                                    "raktáron": "420"
                                },
                                {
                                    "stilus": "ismeretterjesztő",
                                    "raktáron": "460"
                                },
                                {
                                    "stilus": "játék",
                                    "raktáron": "600"
                                }
                            ]
                        },
                        "text/html": [
                            "<table>",
                            "<tr><th>stilus</th><th>raktáron</th></tr>",
                            "<tr><td>ásványtan</td><td>10</td></tr>",
                            "<tr><td>betűtípusok</td><td>10</td></tr>",
                            "<tr><td>gépírás</td><td>10</td></tr>",
                            "<tr><td>hadtudomány</td><td>10</td></tr>",
                            "<tr><td>humor</td><td>10</td></tr>",
                            "<tr><td>fordító program</td><td>10</td></tr>",
                            "<tr><td>irodalom, nyelv</td><td>10</td></tr>",
                            "<tr><td>játék (repülős)</td><td>10</td></tr>",
                            "<tr><td>játék (rodeó)</td><td>10</td></tr>",
                            "<tr><td>játék (történelmi)</td><td>10</td></tr>",
                            "<tr><td>játék, sakk</td><td>10</td></tr>",
                            "<tr><td>kémia</td><td>10</td></tr>",
                            "<tr><td>kerttervező</td><td>10</td></tr>",
                            "<tr><td>környezetvédelem</td><td>10</td></tr>",
                            "<tr><td>kresz</td><td>10</td></tr>",
                            "<tr><td>lakástervező</td><td>10</td></tr>",
                            "<tr><td>ismeretterjesztő + játék</td><td>10</td></tr>",
                            "<tr><td>játék - autós</td><td>10</td></tr>",
                            "<tr><td>játék (jégkorong)</td><td>10</td></tr>",
                            "<tr><td>matematika, nyelvtan</td><td>10</td></tr>",
                            "<tr><td>múvészet</td><td>10</td></tr>",
                            "<tr><td>növénytan</td><td>10</td></tr>",
                            "<tr><td>régészet</td><td>10</td></tr>",
                            "<tr><td>sport</td><td>10</td></tr>",
                            "<tr><td>színház</td><td>10</td></tr>",
                            "<tr><td>festészet</td><td>20</td></tr>",
                            "<tr><td>filmtörténet</td><td>20</td></tr>",
                            "<tr><td>fizika</td><td>30</td></tr>",
                            "<tr><td>állattan</td><td>30</td></tr>",
                            "<tr><td>játék (labdarúgás)</td><td>30</td></tr>",
                            "<tr><td>számítástechnika</td><td>30</td></tr>",
                            "<tr><td>nyelvtan</td><td>30</td></tr>",
                            "<tr><td>gasztronómia</td><td>40</td></tr>",
                            "<tr><td>művészet</td><td>40</td></tr>",
                            "<tr><td>játék (autóverseny)</td><td>40</td></tr>",
                            "<tr><td>biológia</td><td>50</td></tr>",
                            "<tr><td>felvételi</td><td>60</td></tr>",
                            "<tr><td>zene</td><td>60</td></tr>",
                            "<tr><td>szótár</td><td>70</td></tr>",
                            "<tr><td>csillagászat</td><td>70</td></tr>",
                            "<tr><td>matematika</td><td>90</td></tr>",
                            "<tr><td>földrajz</td><td>160</td></tr>",
                            "<tr><td>irodalom</td><td>160</td></tr>",
                            "<tr><td>történelem</td><td>408</td></tr>",
                            "<tr><td>nyelvtanító</td><td>420</td></tr>",
                            "<tr><td>ismeretterjesztő</td><td>460</td></tr>",
                            "<tr><td>játék</td><td>600</td></tr>",
                            "</table>"
                        ]
                    }
                }
            ],
            "execution_count": 29
        },
        {
            "cell_type": "markdown",
            "source": [
                "![](https://i.gyazo.com/5afe15f8f8a977527f1f3335f34a3dfc.png)"
            ],
            "metadata": {
                "azdata_cell_guid": "2347f393-d813-4981-85dd-2e9296192352"
            },
            "attachments": {}
        },
        {
            "cell_type": "code",
            "source": [
                "SELECT stilus,\r\n",
                "        SUM(nettoar) as 'összesen',\r\n",
                "        round(AVG(nettoar),0) as 'átlagár',\r\n",
                "        round(MAX(nettoar),0) as 'max ár',\r\n",
                "        round(MIN(nettoar),0) as 'min ár'\r\n",
                "\r\n",
                "FROM dvd\r\n",
                "WHERE stilus is not null\r\n",
                "GROUP BY stilus\r\n",
                "order by összesen ASC\r\n",
                ""
            ],
            "metadata": {
                "azdata_cell_guid": "addcfce8-f8b5-43d0-8e91-7734e7592ecf",
                "language": ""
            },
            "outputs": [
                {
                    "output_type": "display_data",
                    "data": {
                        "text/html": "(47 rows affected)"
                    },
                    "metadata": {}
                },
                {
                    "output_type": "display_data",
                    "data": {
                        "text/html": "Total execution time: 00:00:00.059"
                    },
                    "metadata": {}
                },
                {
                    "output_type": "execute_result",
                    "metadata": {},
                    "execution_count": 13,
                    "data": {
                        "application/vnd.dataresource+json": {
                            "schema": {
                                "fields": [
                                    {
                                        "name": "stilus"
                                    },
                                    {
                                        "name": "összesen"
                                    },
                                    {
                                        "name": "átlagár"
                                    },
                                    {
                                        "name": "max ár"
                                    },
                                    {
                                        "name": "min ár"
                                    }
                                ]
                            },
                            "data": [
                                {
                                    "stilus": "ismeretterjesztő + játék",
                                    "összesen": "3107",
                                    "átlagár": "3107",
                                    "max ár": "3107",
                                    "min ár": "3107"
                                },
                                {
                                    "stilus": "hadtudomány",
                                    "összesen": "3515",
                                    "átlagár": "3515",
                                    "max ár": "3515",
                                    "min ár": "3515"
                                },
                                {
                                    "stilus": "játék, sakk",
                                    "összesen": "3644",
                                    "átlagár": "3644",
                                    "max ár": "3644",
                                    "min ár": "3644"
                                },
                                {
                                    "stilus": "játék (történelmi)",
                                    "összesen": "3707",
                                    "átlagár": "3707",
                                    "max ár": "3707",
                                    "min ár": "3707"
                                },
                                {
                                    "stilus": "régészet",
                                    "összesen": "3773",
                                    "átlagár": "3773",
                                    "max ár": "3773",
                                    "min ár": "3773"
                                },
                                {
                                    "stilus": "betűtípusok",
                                    "összesen": "3845",
                                    "átlagár": "3845",
                                    "max ár": "3845",
                                    "min ár": "3845"
                                },
                                {
                                    "stilus": "gépírás",
                                    "összesen": "3936",
                                    "átlagár": "3936",
                                    "max ár": "3936",
                                    "min ár": "3936"
                                },
                                {
                                    "stilus": "játék - autós",
                                    "összesen": "3989",
                                    "átlagár": "3989",
                                    "max ár": "3989",
                                    "min ár": "3989"
                                },
                                {
                                    "stilus": "lakástervező",
                                    "összesen": "4287",
                                    "átlagár": "4287",
                                    "max ár": "4287",
                                    "min ár": "4287"
                                },
                                {
                                    "stilus": "játék (repülős)",
                                    "összesen": "4311",
                                    "átlagár": "4311",
                                    "max ár": "4311",
                                    "min ár": "4311"
                                },
                                {
                                    "stilus": "növénytan",
                                    "összesen": "4438",
                                    "átlagár": "4438",
                                    "max ár": "4438",
                                    "min ár": "4438"
                                },
                                {
                                    "stilus": "matematika, nyelvtan",
                                    "összesen": "4484",
                                    "átlagár": "4484",
                                    "max ár": "4484",
                                    "min ár": "4484"
                                },
                                {
                                    "stilus": "sport",
                                    "összesen": "4607",
                                    "átlagár": "4607",
                                    "max ár": "4607",
                                    "min ár": "4607"
                                },
                                {
                                    "stilus": "irodalom, nyelv",
                                    "összesen": "4704",
                                    "átlagár": "4704",
                                    "max ár": "4704",
                                    "min ár": "4704"
                                },
                                {
                                    "stilus": "kerttervező",
                                    "összesen": "4951",
                                    "átlagár": "4951",
                                    "max ár": "4951",
                                    "min ár": "4951"
                                },
                                {
                                    "stilus": "fordító program",
                                    "összesen": "5036",
                                    "átlagár": "5036",
                                    "max ár": "5036",
                                    "min ár": "5036"
                                },
                                {
                                    "stilus": "kémia",
                                    "összesen": "5094",
                                    "átlagár": "5094",
                                    "max ár": "5094",
                                    "min ár": "5094"
                                },
                                {
                                    "stilus": "múvészet",
                                    "összesen": "5118",
                                    "átlagár": "5118",
                                    "max ár": "5118",
                                    "min ár": "5118"
                                },
                                {
                                    "stilus": "színház",
                                    "összesen": "5158",
                                    "átlagár": "5158",
                                    "max ár": "5158",
                                    "min ár": "5158"
                                },
                                {
                                    "stilus": "játék (jégkorong)",
                                    "összesen": "5242",
                                    "átlagár": "5242",
                                    "max ár": "5242",
                                    "min ár": "5242"
                                },
                                {
                                    "stilus": "kresz",
                                    "összesen": "5476",
                                    "átlagár": "5476",
                                    "max ár": "5476",
                                    "min ár": "5476"
                                },
                                {
                                    "stilus": "környezetvédelem",
                                    "összesen": "5508",
                                    "átlagár": "5508",
                                    "max ár": "5508",
                                    "min ár": "5508"
                                },
                                {
                                    "stilus": "humor",
                                    "összesen": "5573",
                                    "átlagár": "5573",
                                    "max ár": "5573",
                                    "min ár": "5573"
                                },
                                {
                                    "stilus": "játék (rodeó)",
                                    "összesen": "5591",
                                    "átlagár": "5591",
                                    "max ár": "5591",
                                    "min ár": "5591"
                                },
                                {
                                    "stilus": "ásványtan",
                                    "összesen": "5624",
                                    "átlagár": "5624",
                                    "max ár": "5624",
                                    "min ár": "5624"
                                },
                                {
                                    "stilus": "filmtörténet",
                                    "összesen": "7342",
                                    "átlagár": "3671",
                                    "max ár": "4204",
                                    "min ár": "3138"
                                },
                                {
                                    "stilus": "festészet",
                                    "összesen": "9802",
                                    "átlagár": "4901",
                                    "max ár": "5408",
                                    "min ár": "4394"
                                },
                                {
                                    "stilus": "számítástechnika",
                                    "összesen": "13471",
                                    "átlagár": "4490",
                                    "max ár": "5260",
                                    "min ár": "3277"
                                },
                                {
                                    "stilus": "fizika",
                                    "összesen": "14307",
                                    "átlagár": "4769",
                                    "max ár": "5763",
                                    "min ár": "3734"
                                },
                                {
                                    "stilus": "nyelvtan",
                                    "összesen": "14312",
                                    "átlagár": "4771",
                                    "max ár": "5845",
                                    "min ár": "3688"
                                },
                                {
                                    "stilus": "állattan",
                                    "összesen": "14351",
                                    "átlagár": "4784",
                                    "max ár": "5235",
                                    "min ár": "4153"
                                },
                                {
                                    "stilus": "játék (labdarúgás)",
                                    "összesen": "14452",
                                    "átlagár": "4817",
                                    "max ár": "5522",
                                    "min ár": "3871"
                                },
                                {
                                    "stilus": "játék (autóverseny)",
                                    "összesen": "15451",
                                    "átlagár": "3863",
                                    "max ár": "5005",
                                    "min ár": "3106"
                                },
                                {
                                    "stilus": "gasztronómia",
                                    "összesen": "18764",
                                    "átlagár": "4691",
                                    "max ár": "5706",
                                    "min ár": "3258"
                                },
                                {
                                    "stilus": "művészet",
                                    "összesen": "19757",
                                    "átlagár": "4939",
                                    "max ár": "6098",
                                    "min ár": "3490"
                                },
                                {
                                    "stilus": "biológia",
                                    "összesen": "21499",
                                    "átlagár": "4300",
                                    "max ár": "5543",
                                    "min ár": "3482"
                                },
                                {
                                    "stilus": "felvételi",
                                    "összesen": "27008",
                                    "átlagár": "4501",
                                    "max ár": "5955",
                                    "min ár": "3102"
                                },
                                {
                                    "stilus": "zene",
                                    "összesen": "29132",
                                    "átlagár": "4855",
                                    "max ár": "5730",
                                    "min ár": "3391"
                                },
                                {
                                    "stilus": "szótár",
                                    "összesen": "32371",
                                    "átlagár": "4624",
                                    "max ár": "5734",
                                    "min ár": "3509"
                                },
                                {
                                    "stilus": "csillagászat",
                                    "összesen": "33135",
                                    "átlagár": "4734",
                                    "max ár": "5992",
                                    "min ár": "3582"
                                },
                                {
                                    "stilus": "matematika",
                                    "összesen": "40687",
                                    "átlagár": "4521",
                                    "max ár": "5995",
                                    "min ár": "3105"
                                },
                                {
                                    "stilus": "irodalom",
                                    "összesen": "71427",
                                    "átlagár": "4464",
                                    "max ár": "5654",
                                    "min ár": "3391"
                                },
                                {
                                    "stilus": "földrajz",
                                    "összesen": "73281",
                                    "átlagár": "4580",
                                    "max ár": "6065",
                                    "min ár": "3123"
                                },
                                {
                                    "stilus": "történelem",
                                    "összesen": "190885",
                                    "átlagár": "4656",
                                    "max ár": "6084",
                                    "min ár": "3122"
                                },
                                {
                                    "stilus": "nyelvtanító",
                                    "összesen": "199898",
                                    "átlagár": "4759",
                                    "max ár": "6082",
                                    "min ár": "3115"
                                },
                                {
                                    "stilus": "ismeretterjesztő",
                                    "összesen": "217427",
                                    "átlagár": "4727",
                                    "max ár": "6072",
                                    "min ár": "3256"
                                },
                                {
                                    "stilus": "játék",
                                    "összesen": "291028",
                                    "átlagár": "4850",
                                    "max ár": "6078",
                                    "min ár": "3110"
                                }
                            ]
                        },
                        "text/html": [
                            "<table>",
                            "<tr><th>stilus</th><th>összesen</th><th>átlagár</th><th>max ár</th><th>min ár</th></tr>",
                            "<tr><td>ismeretterjesztő + játék</td><td>3107</td><td>3107</td><td>3107</td><td>3107</td></tr>",
                            "<tr><td>hadtudomány</td><td>3515</td><td>3515</td><td>3515</td><td>3515</td></tr>",
                            "<tr><td>játék, sakk</td><td>3644</td><td>3644</td><td>3644</td><td>3644</td></tr>",
                            "<tr><td>játék (történelmi)</td><td>3707</td><td>3707</td><td>3707</td><td>3707</td></tr>",
                            "<tr><td>régészet</td><td>3773</td><td>3773</td><td>3773</td><td>3773</td></tr>",
                            "<tr><td>betűtípusok</td><td>3845</td><td>3845</td><td>3845</td><td>3845</td></tr>",
                            "<tr><td>gépírás</td><td>3936</td><td>3936</td><td>3936</td><td>3936</td></tr>",
                            "<tr><td>játék - autós</td><td>3989</td><td>3989</td><td>3989</td><td>3989</td></tr>",
                            "<tr><td>lakástervező</td><td>4287</td><td>4287</td><td>4287</td><td>4287</td></tr>",
                            "<tr><td>játék (repülős)</td><td>4311</td><td>4311</td><td>4311</td><td>4311</td></tr>",
                            "<tr><td>növénytan</td><td>4438</td><td>4438</td><td>4438</td><td>4438</td></tr>",
                            "<tr><td>matematika, nyelvtan</td><td>4484</td><td>4484</td><td>4484</td><td>4484</td></tr>",
                            "<tr><td>sport</td><td>4607</td><td>4607</td><td>4607</td><td>4607</td></tr>",
                            "<tr><td>irodalom, nyelv</td><td>4704</td><td>4704</td><td>4704</td><td>4704</td></tr>",
                            "<tr><td>kerttervező</td><td>4951</td><td>4951</td><td>4951</td><td>4951</td></tr>",
                            "<tr><td>fordító program</td><td>5036</td><td>5036</td><td>5036</td><td>5036</td></tr>",
                            "<tr><td>kémia</td><td>5094</td><td>5094</td><td>5094</td><td>5094</td></tr>",
                            "<tr><td>múvészet</td><td>5118</td><td>5118</td><td>5118</td><td>5118</td></tr>",
                            "<tr><td>színház</td><td>5158</td><td>5158</td><td>5158</td><td>5158</td></tr>",
                            "<tr><td>játék (jégkorong)</td><td>5242</td><td>5242</td><td>5242</td><td>5242</td></tr>",
                            "<tr><td>kresz</td><td>5476</td><td>5476</td><td>5476</td><td>5476</td></tr>",
                            "<tr><td>környezetvédelem</td><td>5508</td><td>5508</td><td>5508</td><td>5508</td></tr>",
                            "<tr><td>humor</td><td>5573</td><td>5573</td><td>5573</td><td>5573</td></tr>",
                            "<tr><td>játék (rodeó)</td><td>5591</td><td>5591</td><td>5591</td><td>5591</td></tr>",
                            "<tr><td>ásványtan</td><td>5624</td><td>5624</td><td>5624</td><td>5624</td></tr>",
                            "<tr><td>filmtörténet</td><td>7342</td><td>3671</td><td>4204</td><td>3138</td></tr>",
                            "<tr><td>festészet</td><td>9802</td><td>4901</td><td>5408</td><td>4394</td></tr>",
                            "<tr><td>számítástechnika</td><td>13471</td><td>4490</td><td>5260</td><td>3277</td></tr>",
                            "<tr><td>fizika</td><td>14307</td><td>4769</td><td>5763</td><td>3734</td></tr>",
                            "<tr><td>nyelvtan</td><td>14312</td><td>4771</td><td>5845</td><td>3688</td></tr>",
                            "<tr><td>állattan</td><td>14351</td><td>4784</td><td>5235</td><td>4153</td></tr>",
                            "<tr><td>játék (labdarúgás)</td><td>14452</td><td>4817</td><td>5522</td><td>3871</td></tr>",
                            "<tr><td>játék (autóverseny)</td><td>15451</td><td>3863</td><td>5005</td><td>3106</td></tr>",
                            "<tr><td>gasztronómia</td><td>18764</td><td>4691</td><td>5706</td><td>3258</td></tr>",
                            "<tr><td>művészet</td><td>19757</td><td>4939</td><td>6098</td><td>3490</td></tr>",
                            "<tr><td>biológia</td><td>21499</td><td>4300</td><td>5543</td><td>3482</td></tr>",
                            "<tr><td>felvételi</td><td>27008</td><td>4501</td><td>5955</td><td>3102</td></tr>",
                            "<tr><td>zene</td><td>29132</td><td>4855</td><td>5730</td><td>3391</td></tr>",
                            "<tr><td>szótár</td><td>32371</td><td>4624</td><td>5734</td><td>3509</td></tr>",
                            "<tr><td>csillagászat</td><td>33135</td><td>4734</td><td>5992</td><td>3582</td></tr>",
                            "<tr><td>matematika</td><td>40687</td><td>4521</td><td>5995</td><td>3105</td></tr>",
                            "<tr><td>irodalom</td><td>71427</td><td>4464</td><td>5654</td><td>3391</td></tr>",
                            "<tr><td>földrajz</td><td>73281</td><td>4580</td><td>6065</td><td>3123</td></tr>",
                            "<tr><td>történelem</td><td>190885</td><td>4656</td><td>6084</td><td>3122</td></tr>",
                            "<tr><td>nyelvtanító</td><td>199898</td><td>4759</td><td>6082</td><td>3115</td></tr>",
                            "<tr><td>ismeretterjesztő</td><td>217427</td><td>4727</td><td>6072</td><td>3256</td></tr>",
                            "<tr><td>játék</td><td>291028</td><td>4850</td><td>6078</td><td>3110</td></tr>",
                            "</table>"
                        ]
                    }
                }
            ],
            "execution_count": 13
        },
        {
            "cell_type": "code",
            "source": [
                "SELECT stilus, \r\n",
                "        ROUND(stdev(nettoar),2) as 'Szórás'\r\n",
                "FROM dvd\r\n",
                "GROUP by stilus\r\n",
                "HAVING round(stdev(nettoar),2) is not null\r\n",
                "ORDER BY round(stdev(nettoar),2) ASC"
            ],
            "metadata": {
                "azdata_cell_guid": "a04228f0-4c9d-4e92-a061-a56b623c945e",
                "language": "sql",
                "tags": []
            },
            "outputs": [
                {
                    "output_type": "display_data",
                    "data": {
                        "text/html": "(22 rows affected)"
                    },
                    "metadata": {}
                },
                {
                    "output_type": "display_data",
                    "data": {
                        "text/html": "Total execution time: 00:00:00.008"
                    },
                    "metadata": {}
                },
                {
                    "output_type": "execute_result",
                    "metadata": {},
                    "execution_count": 51,
                    "data": {
                        "application/vnd.dataresource+json": {
                            "schema": {
                                "fields": [
                                    {
                                        "name": "stilus"
                                    },
                                    {
                                        "name": "Szórás"
                                    }
                                ]
                            },
                            "data": [
                                {
                                    "stilus": "állattan",
                                    "Szórás": "562.85"
                                },
                                {
                                    "stilus": "festészet",
                                    "Szórás": "717.01"
                                },
                                {
                                    "stilus": "filmtörténet",
                                    "Szórás": "753.78"
                                },
                                {
                                    "stilus": "irodalom",
                                    "Szórás": "778.08"
                                },
                                {
                                    "stilus": "zene",
                                    "Szórás": "824.88"
                                },
                                {
                                    "stilus": "játék (autóverseny)",
                                    "Szórás": "826.34"
                                },
                                {
                                    "stilus": "történelem",
                                    "Szórás": "841.66"
                                },
                                {
                                    "stilus": "játék",
                                    "Szórás": "842.01"
                                },
                                {
                                    "stilus": "játék (labdarúgás)",
                                    "Szórás": "851.62"
                                },
                                {
                                    "stilus": "biológia",
                                    "Szórás": "868.99"
                                },
                                {
                                    "stilus": "nyelvtanító",
                                    "Szórás": "897.78"
                                },
                                {
                                    "stilus": "ismeretterjesztő",
                                    "Szórás": "908.02"
                                },
                                {
                                    "stilus": "szótár",
                                    "Szórás": "928.23"
                                },
                                {
                                    "stilus": "földrajz",
                                    "Szórás": "950.06"
                                },
                                {
                                    "stilus": "fizika",
                                    "Szórás": "1015.12"
                                },
                                {
                                    "stilus": "matematika",
                                    "Szórás": "1035.68"
                                },
                                {
                                    "stilus": "számítástechnika",
                                    "Szórás": "1063.34"
                                },
                                {
                                    "stilus": "gasztronómia",
                                    "Szórás": "1067.1"
                                },
                                {
                                    "stilus": "nyelvtan",
                                    "Szórás": "1078.52"
                                },
                                {
                                    "stilus": "művészet",
                                    "Szórás": "1091.08"
                                },
                                {
                                    "stilus": "csillagászat",
                                    "Szórás": "1103.39"
                                },
                                {
                                    "stilus": "felvételi",
                                    "Szórás": "1280.34"
                                }
                            ]
                        },
                        "text/html": [
                            "<table>",
                            "<tr><th>stilus</th><th>Szórás</th></tr>",
                            "<tr><td>állattan</td><td>562.85</td></tr>",
                            "<tr><td>festészet</td><td>717.01</td></tr>",
                            "<tr><td>filmtörténet</td><td>753.78</td></tr>",
                            "<tr><td>irodalom</td><td>778.08</td></tr>",
                            "<tr><td>zene</td><td>824.88</td></tr>",
                            "<tr><td>játék (autóverseny)</td><td>826.34</td></tr>",
                            "<tr><td>történelem</td><td>841.66</td></tr>",
                            "<tr><td>játék</td><td>842.01</td></tr>",
                            "<tr><td>játék (labdarúgás)</td><td>851.62</td></tr>",
                            "<tr><td>biológia</td><td>868.99</td></tr>",
                            "<tr><td>nyelvtanító</td><td>897.78</td></tr>",
                            "<tr><td>ismeretterjesztő</td><td>908.02</td></tr>",
                            "<tr><td>szótár</td><td>928.23</td></tr>",
                            "<tr><td>földrajz</td><td>950.06</td></tr>",
                            "<tr><td>fizika</td><td>1015.12</td></tr>",
                            "<tr><td>matematika</td><td>1035.68</td></tr>",
                            "<tr><td>számítástechnika</td><td>1063.34</td></tr>",
                            "<tr><td>gasztronómia</td><td>1067.1</td></tr>",
                            "<tr><td>nyelvtan</td><td>1078.52</td></tr>",
                            "<tr><td>művészet</td><td>1091.08</td></tr>",
                            "<tr><td>csillagászat</td><td>1103.39</td></tr>",
                            "<tr><td>felvételi</td><td>1280.34</td></tr>",
                            "</table>"
                        ]
                    }
                }
            ],
            "execution_count": 51
        },
        {
            "cell_type": "code",
            "source": [
                "SELECT\r\n",
                "  SUM(CASE WHEN nettoar IS NULL THEN 1 ELSE 0 END) AS 'nincs ár',\r\n",
                "  SUM(CASE WHEN nettoar IS NOT NULL THEN 1 ELSE 0 END) AS 'van ár'\r\n",
                "FROM dvd"
            ],
            "metadata": {
                "azdata_cell_guid": "f3c40e0f-377d-4832-89d4-11063dfd74fc",
                "language": "sql"
            },
            "outputs": [
                {
                    "output_type": "display_data",
                    "data": {
                        "text/html": "(1 row affected)"
                    },
                    "metadata": {}
                },
                {
                    "output_type": "display_data",
                    "data": {
                        "text/html": "Total execution time: 00:00:00.008"
                    },
                    "metadata": {}
                },
                {
                    "output_type": "execute_result",
                    "metadata": {},
                    "execution_count": 49,
                    "data": {
                        "application/vnd.dataresource+json": {
                            "schema": {
                                "fields": [
                                    {
                                        "name": "nincs ár"
                                    },
                                    {
                                        "name": "van ár"
                                    }
                                ]
                            },
                            "data": [
                                {
                                    "nincs ár": "0",
                                    "van ár": "318"
                                }
                            ]
                        },
                        "text/html": [
                            "<table>",
                            "<tr><th>nincs ár</th><th>van ár</th></tr>",
                            "<tr><td>0</td><td>318</td></tr>",
                            "</table>"
                        ]
                    }
                }
            ],
            "execution_count": 49
        },
        {
            "cell_type": "code",
            "source": [
                "SELECT\r\n",
                "  SUM(CASE WHEN lang IS NULL THEN 1 ELSE 0 END) AS 'nincs nyelv',\r\n",
                "  SUM(CASE WHEN lang IS NOT NULL THEN 1 ELSE 0 END) AS 'van nyelv'\r\n",
                "FROM dvd"
            ],
            "metadata": {
                "azdata_cell_guid": "9cd481b7-6f9c-4803-856c-74fe0becffee",
                "language": "sql",
                "tags": []
            },
            "outputs": [
                {
                    "output_type": "display_data",
                    "data": {
                        "text/html": "(1 row affected)"
                    },
                    "metadata": {}
                },
                {
                    "output_type": "display_data",
                    "data": {
                        "text/html": "Total execution time: 00:00:00.013"
                    },
                    "metadata": {}
                },
                {
                    "output_type": "execute_result",
                    "metadata": {
                        "azdata_chartOptions": {
                            "type": "bar",
                            "dataDirection": "horizontal",
                            "columnsAsLabels": true,
                            "labelFirstColumn": false,
                            "legendPosition": "top"
                        }
                    },
                    "execution_count": 35,
                    "data": {
                        "application/vnd.dataresource+json": {
                            "schema": {
                                "fields": [
                                    {
                                        "name": "nincs nyelv"
                                    },
                                    {
                                        "name": "van nyelv"
                                    }
                                ]
                            },
                            "data": [
                                {
                                    "nincs nyelv": "3",
                                    "van nyelv": "315"
                                }
                            ]
                        },
                        "text/html": [
                            "<table>",
                            "<tr><th>nincs nyelv</th><th>van nyelv</th></tr>",
                            "<tr><td>3</td><td>315</td></tr>",
                            "</table>"
                        ]
                    }
                }
            ],
            "execution_count": 35
        },
        {
            "cell_type": "code",
            "source": [
                "SELECT\r\n",
                "  (SUM(CASE WHEN lang IS NULL THEN 1 ELSE 0 END) / CAST(COUNT(*) AS FLOAT)) * 100 AS 'null százalékos aránya'\r\n",
                "FROM\r\n",
                "  dvd;"
            ],
            "metadata": {
                "azdata_cell_guid": "a5587e74-c94c-428f-a921-749c9cfd41e8",
                "language": "sql",
                "tags": []
            },
            "outputs": [
                {
                    "output_type": "display_data",
                    "data": {
                        "text/html": "(1 row affected)"
                    },
                    "metadata": {}
                },
                {
                    "output_type": "display_data",
                    "data": {
                        "text/html": "Total execution time: 00:00:00.008"
                    },
                    "metadata": {}
                },
                {
                    "output_type": "execute_result",
                    "metadata": {},
                    "execution_count": 46,
                    "data": {
                        "application/vnd.dataresource+json": {
                            "schema": {
                                "fields": [
                                    {
                                        "name": "null százalékos aránya"
                                    }
                                ]
                            },
                            "data": [
                                {
                                    "null százalékos aránya": "0.9433962264150944"
                                }
                            ]
                        },
                        "text/html": [
                            "<table>",
                            "<tr><th>null százalékos aránya</th></tr>",
                            "<tr><td>0.9433962264150944</td></tr>",
                            "</table>"
                        ]
                    }
                }
            ],
            "execution_count": 46
        },
        {
            "cell_type": "code",
            "source": [
                "SELECT lang,\r\n",
                "        count(lang) as 'összesen',\r\n",
                "        round(AVG(lang),0) as 'átlagár',\r\n",
                "        round(MAX(lang),0) as 'max ár',\r\n",
                "        round(MIN(lang),0) as 'min ár'\r\n",
                "\r\n",
                "FROM dvd\r\n",
                "where lang is not null\r\n",
                "GROUP BY lang\r\n",
                "order by összesen ASC\r\n",
                ""
            ],
            "metadata": {
                "azdata_cell_guid": "ab173ce8-9351-452f-b998-08228c029f5b",
                "language": "sql",
                "tags": []
            },
            "outputs": [
                {
                    "output_type": "display_data",
                    "data": {
                        "text/html": "(8 rows affected)"
                    },
                    "metadata": {}
                },
                {
                    "output_type": "display_data",
                    "data": {
                        "text/html": "Total execution time: 00:00:00.014"
                    },
                    "metadata": {}
                },
                {
                    "output_type": "execute_result",
                    "metadata": {},
                    "execution_count": 59,
                    "data": {
                        "application/vnd.dataresource+json": {
                            "schema": {
                                "fields": [
                                    {
                                        "name": "lang"
                                    },
                                    {
                                        "name": "összesen"
                                    },
                                    {
                                        "name": "átlagár"
                                    },
                                    {
                                        "name": "max ár"
                                    },
                                    {
                                        "name": "min ár"
                                    }
                                ]
                            },
                            "data": [
                                {
                                    "lang": "8",
                                    "összesen": "1",
                                    "átlagár": "8",
                                    "max ár": "8",
                                    "min ár": "8"
                                },
                                {
                                    "lang": "5",
                                    "összesen": "2",
                                    "átlagár": "5",
                                    "max ár": "5",
                                    "min ár": "5"
                                },
                                {
                                    "lang": "6",
                                    "összesen": "5",
                                    "átlagár": "6",
                                    "max ár": "6",
                                    "min ár": "6"
                                },
                                {
                                    "lang": "7",
                                    "összesen": "5",
                                    "átlagár": "7",
                                    "max ár": "7",
                                    "min ár": "7"
                                },
                                {
                                    "lang": "4",
                                    "összesen": "5",
                                    "átlagár": "4",
                                    "max ár": "4",
                                    "min ár": "4"
                                },
                                {
                                    "lang": "3",
                                    "összesen": "11",
                                    "átlagár": "3",
                                    "max ár": "3",
                                    "min ár": "3"
                                },
                                {
                                    "lang": "2",
                                    "összesen": "90",
                                    "átlagár": "2",
                                    "max ár": "2",
                                    "min ár": "2"
                                },
                                {
                                    "lang": "1",
                                    "összesen": "196",
                                    "átlagár": "1",
                                    "max ár": "1",
                                    "min ár": "1"
                                }
                            ]
                        },
                        "text/html": [
                            "<table>",
                            "<tr><th>lang</th><th>összesen</th><th>átlagár</th><th>max ár</th><th>min ár</th></tr>",
                            "<tr><td>8</td><td>1</td><td>8</td><td>8</td><td>8</td></tr>",
                            "<tr><td>5</td><td>2</td><td>5</td><td>5</td><td>5</td></tr>",
                            "<tr><td>6</td><td>5</td><td>6</td><td>6</td><td>6</td></tr>",
                            "<tr><td>7</td><td>5</td><td>7</td><td>7</td><td>7</td></tr>",
                            "<tr><td>4</td><td>5</td><td>4</td><td>4</td><td>4</td></tr>",
                            "<tr><td>3</td><td>11</td><td>3</td><td>3</td><td>3</td></tr>",
                            "<tr><td>2</td><td>90</td><td>2</td><td>2</td><td>2</td></tr>",
                            "<tr><td>1</td><td>196</td><td>1</td><td>1</td><td>1</td></tr>",
                            "</table>"
                        ]
                    }
                }
            ],
            "execution_count": 59
        }
    ]
}