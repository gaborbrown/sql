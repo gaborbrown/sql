{
    "metadata": {
        "kernelspec": {
            "name": "SQL",
            "display_name": "SQL",
            "language": "sql"
        },
        "language_info": {
            "name": "sql",
            "version": ""
        }
    },
    "nbformat_minor": 2,
    "nbformat": 4,
    "cells": [
        {
            "cell_type": "code",
            "source": [
                "SELECT ROGZITETTE,\r\n",
                "        SZALLAS_NEV,\r\n",
                "        CIM\r\n",
                "from szallashely \r\n",
                "WHERE HELY LIKE '%Balaton%'\r\n",
                "order BY CSILLAGOK_SZAMA DESC"
            ],
            "metadata": {
                "azdata_cell_guid": "1c50592b-fea3-457a-ad0c-08185811a279",
                "language": "sql"
            },
            "outputs": [
                {
                    "output_type": "display_data",
                    "data": {
                        "text/html": "(8 rows affected)"
                    },
                    "metadata": {}
                },
                {
                    "output_type": "display_data",
                    "data": {
                        "text/html": "Total execution time: 00:00:00.007"
                    },
                    "metadata": {}
                },
                {
                    "output_type": "execute_result",
                    "metadata": {},
                    "execution_count": 3,
                    "data": {
                        "application/vnd.dataresource+json": {
                            "schema": {
                                "fields": [
                                    {
                                        "name": "ROGZITETTE"
                                    },
                                    {
                                        "name": "SZALLAS_NEV"
                                    },
                                    {
                                        "name": "CIM"
                                    }
                                ]
                            },
                            "data": [
                                {
                                    "ROGZITETTE": "Béla",
                                    "SZALLAS_NEV": "Hotel Három Hattyú",
                                    "CIM": "8623 Balatonföldvár, Rákóczi Ferenc út 45."
                                },
                                {
                                    "ROGZITETTE": "Mari",
                                    "SZALLAS_NEV": "Jáde panzió",
                                    "CIM": "8624 Balatonföldvár, Kiss u.2."
                                },
                                {
                                    "ROGZITETTE": "Béla",
                                    "SZALLAS_NEV": "Tímárház Panzió",
                                    "CIM": "8600 Siófok, Virág utca 1"
                                },
                                {
                                    "ROGZITETTE": "Béla",
                                    "SZALLAS_NEV": "Kentaur Hotel",
                                    "CIM": "8600 Siófok (Széplak), Akácfa utca 1"
                                },
                                {
                                    "ROGZITETTE": "Mari",
                                    "SZALLAS_NEV": "Szieszta Apartmanház",
                                    "CIM": "8630 Balatonboglár, Dózsa György utca 108"
                                },
                                {
                                    "ROGZITETTE": "Béla",
                                    "SZALLAS_NEV": "Sába-Ház",
                                    "CIM": "8630 Balatonboglár, Radnóti Miklós utca 8"
                                },
                                {
                                    "ROGZITETTE": "Béla",
                                    "SZALLAS_NEV": "Családi Ház",
                                    "CIM": "8630 Balatonboglár, József Attila utca 25"
                                },
                                {
                                    "ROGZITETTE": "Béla",
                                    "SZALLAS_NEV": "Partiszél Vendégház",
                                    "CIM": "8220 Balatonalmádi Neptun u. 23."
                                }
                            ]
                        },
                        "text/html": [
                            "<table>",
                            "<tr><th>ROGZITETTE</th><th>SZALLAS_NEV</th><th>CIM</th></tr>",
                            "<tr><td>Béla</td><td>Hotel Három Hattyú</td><td>8623 Balatonföldvár, Rákóczi Ferenc út 45.</td></tr>",
                            "<tr><td>Mari</td><td>Jáde panzió</td><td>8624 Balatonföldvár, Kiss u.2.</td></tr>",
                            "<tr><td>Béla</td><td>Tímárház Panzió</td><td>8600 Siófok, Virág utca 1</td></tr>",
                            "<tr><td>Béla</td><td>Kentaur Hotel</td><td>8600 Siófok (Széplak), Akácfa utca 1</td></tr>",
                            "<tr><td>Mari</td><td>Szieszta Apartmanház</td><td>8630 Balatonboglár, Dózsa György utca 108</td></tr>",
                            "<tr><td>Béla</td><td>Sába-Ház</td><td>8630 Balatonboglár, Radnóti Miklós utca 8</td></tr>",
                            "<tr><td>Béla</td><td>Családi Ház</td><td>8630 Balatonboglár, József Attila utca 25</td></tr>",
                            "<tr><td>Béla</td><td>Partiszél Vendégház</td><td>8220 Balatonalmádi Neptun u. 23.</td></tr>",
                            "</table>"
                        ]
                    }
                }
            ],
            "execution_count": 3
        }
    ]
}