{
    "metadata": {
        "kernelspec": {
            "name": "SQL",
            "display_name": "SQL",
            "language": "sql"
        },
        "language_info": {
            "name": "sql",
            "version": ""
        }
    },
    "nbformat_minor": 2,
    "nbformat": 4,
    "cells": [
        {
            "cell_type": "code",
            "source": [
                "SELECT sz.SZOBA_SZAMA,\r\n",
                "        COUNT(f.FOGLALAS_PK)\r\n",
                "\r\n",
                "        \r\n",
                "FROM Foglalas f join Szoba sz on f.SZOBA_FK = sz.SZOBA_ID\r\n",
                "group by sz.SZOBA_SZAMA\r\n",
                "\r\n",
                ""
            ],
            "metadata": {
                "azdata_cell_guid": "4f20b039-370e-4654-bf8a-5c8faab5d491",
                "language": "sql",
                "tags": []
            },
            "outputs": [
                {
                    "output_type": "display_data",
                    "data": {
                        "text/html": "(39 rows affected)"
                    },
                    "metadata": {}
                },
                {
                    "output_type": "display_data",
                    "data": {
                        "text/html": "Total execution time: 00:00:00.012"
                    },
                    "metadata": {}
                },
                {
                    "output_type": "execute_result",
                    "metadata": {},
                    "execution_count": 9,
                    "data": {
                        "application/vnd.dataresource+json": {
                            "schema": {
                                "fields": [
                                    {
                                        "name": "SZOBA_SZAMA"
                                    },
                                    {
                                        "name": "(No column name)"
                                    }
                                ]
                            },
                            "data": [
                                {
                                    "SZOBA_SZAMA": "1",
                                    "(No column name)": "57"
                                },
                                {
                                    "SZOBA_SZAMA": "10",
                                    "(No column name)": "35"
                                },
                                {
                                    "SZOBA_SZAMA": "11",
                                    "(No column name)": "28"
                                },
                                {
                                    "SZOBA_SZAMA": "12",
                                    "(No column name)": "34"
                                },
                                {
                                    "SZOBA_SZAMA": "13",
                                    "(No column name)": "17"
                                },
                                {
                                    "SZOBA_SZAMA": "14",
                                    "(No column name)": "26"
                                },
                                {
                                    "SZOBA_SZAMA": "15",
                                    "(No column name)": "25"
                                },
                                {
                                    "SZOBA_SZAMA": "16",
                                    "(No column name)": "16"
                                },
                                {
                                    "SZOBA_SZAMA": "17",
                                    "(No column name)": "18"
                                },
                                {
                                    "SZOBA_SZAMA": "18",
                                    "(No column name)": "24"
                                },
                                {
                                    "SZOBA_SZAMA": "19",
                                    "(No column name)": "19"
                                },
                                {
                                    "SZOBA_SZAMA": "2",
                                    "(No column name)": "50"
                                },
                                {
                                    "SZOBA_SZAMA": "20",
                                    "(No column name)": "21"
                                },
                                {
                                    "SZOBA_SZAMA": "21",
                                    "(No column name)": "33"
                                },
                                {
                                    "SZOBA_SZAMA": "22",
                                    "(No column name)": "19"
                                },
                                {
                                    "SZOBA_SZAMA": "23",
                                    "(No column name)": "21"
                                },
                                {
                                    "SZOBA_SZAMA": "24",
                                    "(No column name)": "17"
                                },
                                {
                                    "SZOBA_SZAMA": "25",
                                    "(No column name)": "21"
                                },
                                {
                                    "SZOBA_SZAMA": "26",
                                    "(No column name)": "10"
                                },
                                {
                                    "SZOBA_SZAMA": "27",
                                    "(No column name)": "16"
                                },
                                {
                                    "SZOBA_SZAMA": "28",
                                    "(No column name)": "15"
                                },
                                {
                                    "SZOBA_SZAMA": "29",
                                    "(No column name)": "18"
                                },
                                {
                                    "SZOBA_SZAMA": "3",
                                    "(No column name)": "65"
                                },
                                {
                                    "SZOBA_SZAMA": "30",
                                    "(No column name)": "12"
                                },
                                {
                                    "SZOBA_SZAMA": "31",
                                    "(No column name)": "21"
                                },
                                {
                                    "SZOBA_SZAMA": "32",
                                    "(No column name)": "18"
                                },
                                {
                                    "SZOBA_SZAMA": "33",
                                    "(No column name)": "17"
                                },
                                {
                                    "SZOBA_SZAMA": "34",
                                    "(No column name)": "22"
                                },
                                {
                                    "SZOBA_SZAMA": "35",
                                    "(No column name)": "5"
                                },
                                {
                                    "SZOBA_SZAMA": "36",
                                    "(No column name)": "6"
                                },
                                {
                                    "SZOBA_SZAMA": "37",
                                    "(No column name)": "7"
                                },
                                {
                                    "SZOBA_SZAMA": "38",
                                    "(No column name)": "5"
                                },
                                {
                                    "SZOBA_SZAMA": "39",
                                    "(No column name)": "4"
                                },
                                {
                                    "SZOBA_SZAMA": "4",
                                    "(No column name)": "75"
                                },
                                {
                                    "SZOBA_SZAMA": "5",
                                    "(No column name)": "62"
                                },
                                {
                                    "SZOBA_SZAMA": "6",
                                    "(No column name)": "52"
                                },
                                {
                                    "SZOBA_SZAMA": "7",
                                    "(No column name)": "36"
                                },
                                {
                                    "SZOBA_SZAMA": "8",
                                    "(No column name)": "30"
                                },
                                {
                                    "SZOBA_SZAMA": "9",
                                    "(No column name)": "50"
                                }
                            ]
                        },
                        "text/html": [
                            "<table>",
                            "<tr><th>SZOBA_SZAMA</th><th>(No column name)</th></tr>",
                            "<tr><td>1</td><td>57</td></tr>",
                            "<tr><td>10</td><td>35</td></tr>",
                            "<tr><td>11</td><td>28</td></tr>",
                            "<tr><td>12</td><td>34</td></tr>",
                            "<tr><td>13</td><td>17</td></tr>",
                            "<tr><td>14</td><td>26</td></tr>",
                            "<tr><td>15</td><td>25</td></tr>",
                            "<tr><td>16</td><td>16</td></tr>",
                            "<tr><td>17</td><td>18</td></tr>",
                            "<tr><td>18</td><td>24</td></tr>",
                            "<tr><td>19</td><td>19</td></tr>",
                            "<tr><td>2</td><td>50</td></tr>",
                            "<tr><td>20</td><td>21</td></tr>",
                            "<tr><td>21</td><td>33</td></tr>",
                            "<tr><td>22</td><td>19</td></tr>",
                            "<tr><td>23</td><td>21</td></tr>",
                            "<tr><td>24</td><td>17</td></tr>",
                            "<tr><td>25</td><td>21</td></tr>",
                            "<tr><td>26</td><td>10</td></tr>",
                            "<tr><td>27</td><td>16</td></tr>",
                            "<tr><td>28</td><td>15</td></tr>",
                            "<tr><td>29</td><td>18</td></tr>",
                            "<tr><td>3</td><td>65</td></tr>",
                            "<tr><td>30</td><td>12</td></tr>",
                            "<tr><td>31</td><td>21</td></tr>",
                            "<tr><td>32</td><td>18</td></tr>",
                            "<tr><td>33</td><td>17</td></tr>",
                            "<tr><td>34</td><td>22</td></tr>",
                            "<tr><td>35</td><td>5</td></tr>",
                            "<tr><td>36</td><td>6</td></tr>",
                            "<tr><td>37</td><td>7</td></tr>",
                            "<tr><td>38</td><td>5</td></tr>",
                            "<tr><td>39</td><td>4</td></tr>",
                            "<tr><td>4</td><td>75</td></tr>",
                            "<tr><td>5</td><td>62</td></tr>",
                            "<tr><td>6</td><td>52</td></tr>",
                            "<tr><td>7</td><td>36</td></tr>",
                            "<tr><td>8</td><td>30</td></tr>",
                            "<tr><td>9</td><td>50</td></tr>",
                            "</table>"
                        ]
                    }
                }
            ],
            "execution_count": 9
        },
        {
            "cell_type": "code",
            "source": [
                "select distinct v.nev\r\n",
                "from foglalas f join vendeg v on f.UGYFEL_FK = v.USERNEV\r\n",
                "                    join Szoba sz on f.SZOBA_FK = sz.SZOBA_ID\r\n",
                "where sz.FEROHELY in\r\n",
                "(   \r\n",
                "    select max(sz.FEROHELY)\r\n",
                "    from foglalas f join vendeg v on f.UGYFEL_FK = v.USERNEV\r\n",
                "                    join Szoba sz on f.SZOBA_FK = sz.SZOBA_ID\r\n",
                "    where sz.KLIMAS = 'i'\r\n",
                ")\r\n",
                "                "
            ],
            "metadata": {
                "azdata_cell_guid": "468357df-a5e2-4960-b20c-151b4b5b496e",
                "language": "sql"
            },
            "outputs": [
                {
                    "output_type": "display_data",
                    "data": {
                        "text/html": "(3 rows affected)"
                    },
                    "metadata": {}
                },
                {
                    "output_type": "display_data",
                    "data": {
                        "text/html": "Total execution time: 00:00:00.017"
                    },
                    "metadata": {}
                },
                {
                    "output_type": "execute_result",
                    "metadata": {},
                    "execution_count": 22,
                    "data": {
                        "application/vnd.dataresource+json": {
                            "schema": {
                                "fields": [
                                    {
                                        "name": "nev"
                                    }
                                ]
                            },
                            "data": [
                                {
                                    "nev": "Berendi Péter"
                                },
                                {
                                    "nev": "Gyuris József"
                                },
                                {
                                    "nev": "Turcsik Tünde"
                                }
                            ]
                        },
                        "text/html": [
                            "<table>",
                            "<tr><th>nev</th></tr>",
                            "<tr><td>Berendi Péter</td></tr>",
                            "<tr><td>Gyuris József</td></tr>",
                            "<tr><td>Turcsik Tünde</td></tr>",
                            "</table>"
                        ]
                    }
                }
            ],
            "execution_count": 22
        },
        {
            "cell_type": "code",
            "source": [
                "create table #MASKED_GUEST\r\n",
                "(\r\n",
                "    USERNEV nvarchar(20) PRIMARY KEY,\r\n",
                "    NEV NVARCHAR(50) MASKED WITH (function = 'partial(2, \"XXXX\", 3)'),\r\n",
                "    EMAIL NVARCHAR(60),\r\n",
                "    SZAML_CIM NVARCHAR(100),\r\n",
                "    SZUL_DAT date\r\n",
                ")"
            ],
            "metadata": {
                "azdata_cell_guid": "ce21c60f-2827-4718-9c60-de18ab1709f0",
                "language": "sql",
                "tags": []
            },
            "outputs": [
                {
                    "output_type": "error",
                    "evalue": "Msg 2714, Level 16, State 6, Line 1\r\nThere is already an object named '#MASKED_GUEST' in the database.",
                    "ename": "",
                    "traceback": []
                },
                {
                    "output_type": "display_data",
                    "data": {
                        "text/html": "Total execution time: 00:00:00.004"
                    },
                    "metadata": {}
                }
            ],
            "execution_count": 24
        },
        {
            "cell_type": "code",
            "source": [
                ""
            ],
            "metadata": {
                "azdata_cell_guid": "f1baffab-8404-4146-9eb7-87d775844dcd",
                "language": "sql"
            },
            "outputs": [],
            "execution_count": null
        }
    ]
}